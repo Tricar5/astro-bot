{
 "cells": [
  {
   "cell_type": "code",
   "execution_count": 1,
   "metadata": {
    "collapsed": true,
    "ExecuteTime": {
     "end_time": "2023-05-07T19:45:37.705897Z",
     "start_time": "2023-05-07T19:45:37.702456Z"
    }
   },
   "outputs": [],
   "source": [
    "import os\n",
    "import pathlib\n",
    "\n",
    "ROOT = pathlib.Path().resolve().parent\n"
   ]
  },
  {
   "cell_type": "code",
   "execution_count": 2,
   "outputs": [],
   "source": [
    "import pandas as pd\n",
    "import numpy as np\n",
    "\n"
   ],
   "metadata": {
    "collapsed": false,
    "ExecuteTime": {
     "end_time": "2023-05-07T19:45:38.342539Z",
     "start_time": "2023-05-07T19:45:37.706526Z"
    }
   }
  },
  {
   "cell_type": "code",
   "execution_count": 3,
   "outputs": [
    {
     "name": "stdout",
     "output_type": "stream",
     "text": [
      "<class 'pandas.core.frame.DataFrame'>\n",
      "RangeIndex: 82977 entries, 0 to 82976\n",
      "Data columns (total 3 columns):\n",
      " #   Column  Non-Null Count  Dtype \n",
      "---  ------  --------------  ----- \n",
      " 0   date    82977 non-null  object\n",
      " 1   sign    82977 non-null  object\n",
      " 2   text    82977 non-null  object\n",
      "dtypes: object(3)\n",
      "memory usage: 1.9+ MB\n"
     ]
    }
   ],
   "source": [
    "df = pd.read_csv(ROOT / 'data/rambler.csv', sep='\\t')\n",
    "\n",
    "df.info()"
   ],
   "metadata": {
    "collapsed": false,
    "ExecuteTime": {
     "end_time": "2023-05-07T19:45:39.124629Z",
     "start_time": "2023-05-07T19:45:38.343430Z"
    }
   }
  },
  {
   "cell_type": "code",
   "execution_count": 6,
   "outputs": [],
   "source": [
    "df = df.drop_duplicates(subset=[\"sign\", \"text\"])"
   ],
   "metadata": {
    "collapsed": false,
    "ExecuteTime": {
     "end_time": "2023-05-07T20:03:49.550456Z",
     "start_time": "2023-05-07T20:03:49.247447Z"
    }
   }
  },
  {
   "cell_type": "markdown",
   "source": [
    "# Sign"
   ],
   "metadata": {
    "collapsed": false
   }
  },
  {
   "cell_type": "code",
   "execution_count": 7,
   "outputs": [
    {
     "data": {
      "text/plain": "sign\nleo            6636\ncapricorn      6632\ncancer         6630\ngemini         6614\nsagittarius    6612\naries          6609\naquarius       6608\nscorpio        6603\npisces         6591\nvirgo          6590\nlibra          6587\ntaurus         6584\nName: count, dtype: int64"
     },
     "execution_count": 7,
     "metadata": {},
     "output_type": "execute_result"
    }
   ],
   "source": [
    "df.sign.value_counts()"
   ],
   "metadata": {
    "collapsed": false,
    "ExecuteTime": {
     "end_time": "2023-05-07T20:03:50.053382Z",
     "start_time": "2023-05-07T20:03:50.045539Z"
    }
   }
  },
  {
   "cell_type": "code",
   "execution_count": 8,
   "outputs": [
    {
     "data": {
      "text/plain": "{'aries': 'овен',\n 'gemini': 'телец',\n 'taurus': 'близнецы',\n 'cancer': 'рак',\n 'leo': 'лев',\n 'virgo': 'дева',\n 'libra': 'весы',\n 'scorpio': 'скорпион',\n 'sagittarius': 'стрелец',\n 'capricorn': 'козерог',\n 'aquarius': 'водолей',\n 'pisces': 'рыбы'}"
     },
     "execution_count": 8,
     "metadata": {},
     "output_type": "execute_result"
    }
   ],
   "source": [
    "eng_sign = list(df.sign.unique())\n",
    "ru_sign = [\"овен\",\n",
    "\"телец\",\n",
    "\"близнецы\",\n",
    "\"рак\",\n",
    "\"лев\",\n",
    "\"дева\",\n",
    "\"весы\",\n",
    "\"скорпион\",\n",
    "\"стрелец\",\n",
    "\"козерог\",\n",
    "\"водолей\",\n",
    "\"рыбы\"]\n",
    "\n",
    "sign_mapper = dict(zip(eng_sign, ru_sign))\n",
    "sign_mapper"
   ],
   "metadata": {
    "collapsed": false,
    "ExecuteTime": {
     "end_time": "2023-05-07T20:03:56.447710Z",
     "start_time": "2023-05-07T20:03:56.437840Z"
    }
   }
  },
  {
   "cell_type": "code",
   "execution_count": 10,
   "outputs": [
    {
     "name": "stderr",
     "output_type": "stream",
     "text": [
      "/var/folders/s5/4r_7wwf925g2bnv4060z0x400000gn/T/ipykernel_79144/2565629946.py:4: SettingWithCopyWarning: \n",
      "A value is trying to be set on a copy of a slice from a DataFrame.\n",
      "Try using .loc[row_indexer,col_indexer] = value instead\n",
      "\n",
      "See the caveats in the documentation: https://pandas.pydata.org/pandas-docs/stable/user_guide/indexing.html#returning-a-view-versus-a-copy\n",
      "  df['sing_ru'] = df['sign'].map(sign_mapper)\n"
     ]
    },
    {
     "data": {
      "text/plain": "                      date         sign   \n82967  2023-01-01 00:00:00       taurus  \\\n82968  2023-01-01 00:00:00       cancer   \n82969  2023-01-01 00:00:00          leo   \n82970  2023-01-01 00:00:00        virgo   \n82971  2023-01-01 00:00:00        libra   \n82972  2023-01-01 00:00:00      scorpio   \n82973  2023-01-01 00:00:00  sagittarius   \n82974  2023-01-01 00:00:00    capricorn   \n82975  2023-01-01 00:00:00     aquarius   \n82976  2023-01-01 00:00:00       pisces   \n\n                                                    text   sing_ru  \n82967  Сегодня у Тельцов будет напряженное утро – при...  близнецы  \n82968  Сегодня Ракам придется решать рабочие вопросы,...       рак  \n82969  Сегодня у Львов могут исполниться желания. Кон...       лев  \n82970  Сегодня у Дев будет полно проблем. Благо, все ...      дева  \n82971  Сегодня Весам стоит быть ближе к любимому чело...      весы  \n82972  Сегодня Скорпионов поглотит новогодняя суета –...  скорпион  \n82973  Сегодня у Стрельцов не все идет по плану, и, в...   стрелец  \n82974  Сегодня Козерогам стоит быть во всем осторожне...   козерог  \n82975  Сегодня Водолеям придется подстраиваться под о...   водолей  \n82976  Сегодня Рыбам не стоит ждать от окружающих мно...      рыбы  ",
      "text/html": "<div>\n<style scoped>\n    .dataframe tbody tr th:only-of-type {\n        vertical-align: middle;\n    }\n\n    .dataframe tbody tr th {\n        vertical-align: top;\n    }\n\n    .dataframe thead th {\n        text-align: right;\n    }\n</style>\n<table border=\"1\" class=\"dataframe\">\n  <thead>\n    <tr style=\"text-align: right;\">\n      <th></th>\n      <th>date</th>\n      <th>sign</th>\n      <th>text</th>\n      <th>sing_ru</th>\n    </tr>\n  </thead>\n  <tbody>\n    <tr>\n      <th>82967</th>\n      <td>2023-01-01 00:00:00</td>\n      <td>taurus</td>\n      <td>Сегодня у Тельцов будет напряженное утро – при...</td>\n      <td>близнецы</td>\n    </tr>\n    <tr>\n      <th>82968</th>\n      <td>2023-01-01 00:00:00</td>\n      <td>cancer</td>\n      <td>Сегодня Ракам придется решать рабочие вопросы,...</td>\n      <td>рак</td>\n    </tr>\n    <tr>\n      <th>82969</th>\n      <td>2023-01-01 00:00:00</td>\n      <td>leo</td>\n      <td>Сегодня у Львов могут исполниться желания. Кон...</td>\n      <td>лев</td>\n    </tr>\n    <tr>\n      <th>82970</th>\n      <td>2023-01-01 00:00:00</td>\n      <td>virgo</td>\n      <td>Сегодня у Дев будет полно проблем. Благо, все ...</td>\n      <td>дева</td>\n    </tr>\n    <tr>\n      <th>82971</th>\n      <td>2023-01-01 00:00:00</td>\n      <td>libra</td>\n      <td>Сегодня Весам стоит быть ближе к любимому чело...</td>\n      <td>весы</td>\n    </tr>\n    <tr>\n      <th>82972</th>\n      <td>2023-01-01 00:00:00</td>\n      <td>scorpio</td>\n      <td>Сегодня Скорпионов поглотит новогодняя суета –...</td>\n      <td>скорпион</td>\n    </tr>\n    <tr>\n      <th>82973</th>\n      <td>2023-01-01 00:00:00</td>\n      <td>sagittarius</td>\n      <td>Сегодня у Стрельцов не все идет по плану, и, в...</td>\n      <td>стрелец</td>\n    </tr>\n    <tr>\n      <th>82974</th>\n      <td>2023-01-01 00:00:00</td>\n      <td>capricorn</td>\n      <td>Сегодня Козерогам стоит быть во всем осторожне...</td>\n      <td>козерог</td>\n    </tr>\n    <tr>\n      <th>82975</th>\n      <td>2023-01-01 00:00:00</td>\n      <td>aquarius</td>\n      <td>Сегодня Водолеям придется подстраиваться под о...</td>\n      <td>водолей</td>\n    </tr>\n    <tr>\n      <th>82976</th>\n      <td>2023-01-01 00:00:00</td>\n      <td>pisces</td>\n      <td>Сегодня Рыбам не стоит ждать от окружающих мно...</td>\n      <td>рыбы</td>\n    </tr>\n  </tbody>\n</table>\n</div>"
     },
     "execution_count": 10,
     "metadata": {},
     "output_type": "execute_result"
    }
   ],
   "source": [
    "# делаем маппер для замены\n",
    "\n",
    "\n",
    "df['sing_ru'] = df['sign'].map(sign_mapper)\n",
    "\n",
    "df.tail(10)"
   ],
   "metadata": {
    "collapsed": false,
    "ExecuteTime": {
     "end_time": "2023-05-07T20:04:09.948343Z",
     "start_time": "2023-05-07T20:04:09.942478Z"
    }
   }
  },
  {
   "cell_type": "code",
   "execution_count": 11,
   "outputs": [
    {
     "name": "stderr",
     "output_type": "stream",
     "text": [
      "/var/folders/s5/4r_7wwf925g2bnv4060z0x400000gn/T/ipykernel_79144/2044287911.py:3: SettingWithCopyWarning: \n",
      "A value is trying to be set on a copy of a slice from a DataFrame.\n",
      "Try using .loc[row_indexer,col_indexer] = value instead\n",
      "\n",
      "See the caveats in the documentation: https://pandas.pydata.org/pandas-docs/stable/user_guide/indexing.html#returning-a-view-versus-a-copy\n",
      "  df['date'] = pd.to_datetime(df['date'])\n",
      "/var/folders/s5/4r_7wwf925g2bnv4060z0x400000gn/T/ipykernel_79144/2044287911.py:6: SettingWithCopyWarning: \n",
      "A value is trying to be set on a copy of a slice from a DataFrame.\n",
      "Try using .loc[row_indexer,col_indexer] = value instead\n",
      "\n",
      "See the caveats in the documentation: https://pandas.pydata.org/pandas-docs/stable/user_guide/indexing.html#returning-a-view-versus-a-copy\n",
      "  df['month'] = df['date'].dt.month\n",
      "/var/folders/s5/4r_7wwf925g2bnv4060z0x400000gn/T/ipykernel_79144/2044287911.py:8: SettingWithCopyWarning: \n",
      "A value is trying to be set on a copy of a slice from a DataFrame.\n",
      "Try using .loc[row_indexer,col_indexer] = value instead\n",
      "\n",
      "See the caveats in the documentation: https://pandas.pydata.org/pandas-docs/stable/user_guide/indexing.html#returning-a-view-versus-a-copy\n",
      "  df['day'] = df['date'].dt.day\n",
      "/var/folders/s5/4r_7wwf925g2bnv4060z0x400000gn/T/ipykernel_79144/2044287911.py:10: SettingWithCopyWarning: \n",
      "A value is trying to be set on a copy of a slice from a DataFrame.\n",
      "Try using .loc[row_indexer,col_indexer] = value instead\n",
      "\n",
      "See the caveats in the documentation: https://pandas.pydata.org/pandas-docs/stable/user_guide/indexing.html#returning-a-view-versus-a-copy\n",
      "  df['year'] = df['date'].dt.year\n",
      "/var/folders/s5/4r_7wwf925g2bnv4060z0x400000gn/T/ipykernel_79144/2044287911.py:13: SettingWithCopyWarning: \n",
      "A value is trying to be set on a copy of a slice from a DataFrame.\n",
      "Try using .loc[row_indexer,col_indexer] = value instead\n",
      "\n",
      "See the caveats in the documentation: https://pandas.pydata.org/pandas-docs/stable/user_guide/indexing.html#returning-a-view-versus-a-copy\n",
      "  df['weekday'] = df['date'].dt.weekday\n",
      "/var/folders/s5/4r_7wwf925g2bnv4060z0x400000gn/T/ipykernel_79144/2044287911.py:14: SettingWithCopyWarning: \n",
      "A value is trying to be set on a copy of a slice from a DataFrame.\n",
      "Try using .loc[row_indexer,col_indexer] = value instead\n",
      "\n",
      "See the caveats in the documentation: https://pandas.pydata.org/pandas-docs/stable/user_guide/indexing.html#returning-a-view-versus-a-copy\n",
      "  df['weekday_data'] = df['date'].dt.strftime(\"%A\")\n"
     ]
    }
   ],
   "source": [
    "# Извлечение характеристик даты\n",
    "\n",
    "df['date'] = pd.to_datetime(df['date'])\n",
    "\n",
    "\n",
    "df['month'] = df['date'].dt.month\n",
    "# День месяца\n",
    "df['day'] = df['date'].dt.day\n",
    "#\n",
    "df['year'] = df['date'].dt.year\n",
    "\n",
    "# День недели\n",
    "df['weekday'] = df['date'].dt.weekday\n",
    "df['weekday_data'] = df['date'].dt.strftime(\"%A\")"
   ],
   "metadata": {
    "collapsed": false,
    "ExecuteTime": {
     "end_time": "2023-05-07T20:04:20.478201Z",
     "start_time": "2023-05-07T20:04:20.315783Z"
    }
   }
  },
  {
   "cell_type": "code",
   "execution_count": 12,
   "outputs": [
    {
     "data": {
      "text/plain": "year\n2012    4392\n2020    4384\n2017    4380\n2009    4380\n2010    4380\n2011    4380\n2013    4380\n2015    4364\n2019    4354\n2016    4336\n2021    4332\n2014    4328\n2022    4314\n2004    4305\n2018    4223\n2006    3689\n2005    3673\n2008    3608\n2007    3082\n2023      12\nName: count, dtype: int64"
     },
     "execution_count": 12,
     "metadata": {},
     "output_type": "execute_result"
    }
   ],
   "source": [
    "df.year.value_counts()"
   ],
   "metadata": {
    "collapsed": false,
    "ExecuteTime": {
     "end_time": "2023-05-07T20:04:21.141921Z",
     "start_time": "2023-05-07T20:04:21.121832Z"
    }
   }
  },
  {
   "cell_type": "code",
   "execution_count": 13,
   "outputs": [
    {
     "name": "stderr",
     "output_type": "stream",
     "text": [
      "/var/folders/s5/4r_7wwf925g2bnv4060z0x400000gn/T/ipykernel_79144/815788743.py:11: SettingWithCopyWarning: \n",
      "A value is trying to be set on a copy of a slice from a DataFrame.\n",
      "Try using .loc[row_indexer,col_indexer] = value instead\n",
      "\n",
      "See the caveats in the documentation: https://pandas.pydata.org/pandas-docs/stable/user_guide/indexing.html#returning-a-view-versus-a-copy\n",
      "  df['weekday_ru'] = df['weekday_data'].map(weekday_mapper)\n"
     ]
    },
    {
     "data": {
      "text/plain": "array(['Четверг', 'Пятница', 'Суббота', 'Воскресенье', 'Понедельник',\n       'Вторник', 'Среда'], dtype=object)"
     },
     "execution_count": 13,
     "metadata": {},
     "output_type": "execute_result"
    }
   ],
   "source": [
    "weekday_mapper = {\n",
    "    \"Monday\": \"Понедельник\",\n",
    "    \"Tuesday\": \"Вторник\",\n",
    "    \"Wednesday\": \"Среда\",\n",
    "    \"Thursday\": \"Четверг\",\n",
    "    \"Friday\": \"Пятница\",\n",
    "    \"Saturday\": \"Суббота\",\n",
    "    \"Sunday\": \"Воскресенье\",\n",
    "}\n",
    "\n",
    "df['weekday_ru'] = df['weekday_data'].map(weekday_mapper)\n",
    "df['weekday_ru'].unique()"
   ],
   "metadata": {
    "collapsed": false,
    "ExecuteTime": {
     "end_time": "2023-05-07T20:04:22.114933Z",
     "start_time": "2023-05-07T20:04:22.095076Z"
    }
   }
  },
  {
   "cell_type": "code",
   "execution_count": 14,
   "outputs": [
    {
     "data": {
      "text/plain": "        sing_ru       date  month  day  weekday   weekday_ru   \n0          овен 2004-01-01      1    1        3      Четверг  \\\n1         телец 2004-01-01      1    1        3      Четверг   \n2      близнецы 2004-01-01      1    1        3      Четверг   \n3           рак 2004-01-01      1    1        3      Четверг   \n4           лев 2004-01-01      1    1        3      Четверг   \n...         ...        ...    ...  ...      ...          ...   \n82972  скорпион 2023-01-01      1    1        6  Воскресенье   \n82973   стрелец 2023-01-01      1    1        6  Воскресенье   \n82974   козерог 2023-01-01      1    1        6  Воскресенье   \n82975   водолей 2023-01-01      1    1        6  Воскресенье   \n82976      рыбы 2023-01-01      1    1        6  Воскресенье   \n\n                                                    text  \n0      Любые разногласия во мнениях скоро улягутся, а...  \n1      Первый день нового года прекрасно подходит для...  \n2      Этот день как нельзя лучше подходит для улучше...  \n3      Первый день нового года, да еще понедельник бу...  \n4      Львы не сорвутся в начале года с места в карье...  \n...                                                  ...  \n82972  Сегодня Скорпионов поглотит новогодняя суета –...  \n82973  Сегодня у Стрельцов не все идет по плану, и, в...  \n82974  Сегодня Козерогам стоит быть во всем осторожне...  \n82975  Сегодня Водолеям придется подстраиваться под о...  \n82976  Сегодня Рыбам не стоит ждать от окружающих мно...  \n\n[79296 rows x 7 columns]",
      "text/html": "<div>\n<style scoped>\n    .dataframe tbody tr th:only-of-type {\n        vertical-align: middle;\n    }\n\n    .dataframe tbody tr th {\n        vertical-align: top;\n    }\n\n    .dataframe thead th {\n        text-align: right;\n    }\n</style>\n<table border=\"1\" class=\"dataframe\">\n  <thead>\n    <tr style=\"text-align: right;\">\n      <th></th>\n      <th>sing_ru</th>\n      <th>date</th>\n      <th>month</th>\n      <th>day</th>\n      <th>weekday</th>\n      <th>weekday_ru</th>\n      <th>text</th>\n    </tr>\n  </thead>\n  <tbody>\n    <tr>\n      <th>0</th>\n      <td>овен</td>\n      <td>2004-01-01</td>\n      <td>1</td>\n      <td>1</td>\n      <td>3</td>\n      <td>Четверг</td>\n      <td>Любые разногласия во мнениях скоро улягутся, а...</td>\n    </tr>\n    <tr>\n      <th>1</th>\n      <td>телец</td>\n      <td>2004-01-01</td>\n      <td>1</td>\n      <td>1</td>\n      <td>3</td>\n      <td>Четверг</td>\n      <td>Первый день нового года прекрасно подходит для...</td>\n    </tr>\n    <tr>\n      <th>2</th>\n      <td>близнецы</td>\n      <td>2004-01-01</td>\n      <td>1</td>\n      <td>1</td>\n      <td>3</td>\n      <td>Четверг</td>\n      <td>Этот день как нельзя лучше подходит для улучше...</td>\n    </tr>\n    <tr>\n      <th>3</th>\n      <td>рак</td>\n      <td>2004-01-01</td>\n      <td>1</td>\n      <td>1</td>\n      <td>3</td>\n      <td>Четверг</td>\n      <td>Первый день нового года, да еще понедельник бу...</td>\n    </tr>\n    <tr>\n      <th>4</th>\n      <td>лев</td>\n      <td>2004-01-01</td>\n      <td>1</td>\n      <td>1</td>\n      <td>3</td>\n      <td>Четверг</td>\n      <td>Львы не сорвутся в начале года с места в карье...</td>\n    </tr>\n    <tr>\n      <th>...</th>\n      <td>...</td>\n      <td>...</td>\n      <td>...</td>\n      <td>...</td>\n      <td>...</td>\n      <td>...</td>\n      <td>...</td>\n    </tr>\n    <tr>\n      <th>82972</th>\n      <td>скорпион</td>\n      <td>2023-01-01</td>\n      <td>1</td>\n      <td>1</td>\n      <td>6</td>\n      <td>Воскресенье</td>\n      <td>Сегодня Скорпионов поглотит новогодняя суета –...</td>\n    </tr>\n    <tr>\n      <th>82973</th>\n      <td>стрелец</td>\n      <td>2023-01-01</td>\n      <td>1</td>\n      <td>1</td>\n      <td>6</td>\n      <td>Воскресенье</td>\n      <td>Сегодня у Стрельцов не все идет по плану, и, в...</td>\n    </tr>\n    <tr>\n      <th>82974</th>\n      <td>козерог</td>\n      <td>2023-01-01</td>\n      <td>1</td>\n      <td>1</td>\n      <td>6</td>\n      <td>Воскресенье</td>\n      <td>Сегодня Козерогам стоит быть во всем осторожне...</td>\n    </tr>\n    <tr>\n      <th>82975</th>\n      <td>водолей</td>\n      <td>2023-01-01</td>\n      <td>1</td>\n      <td>1</td>\n      <td>6</td>\n      <td>Воскресенье</td>\n      <td>Сегодня Водолеям придется подстраиваться под о...</td>\n    </tr>\n    <tr>\n      <th>82976</th>\n      <td>рыбы</td>\n      <td>2023-01-01</td>\n      <td>1</td>\n      <td>1</td>\n      <td>6</td>\n      <td>Воскресенье</td>\n      <td>Сегодня Рыбам не стоит ждать от окружающих мно...</td>\n    </tr>\n  </tbody>\n</table>\n<p>79296 rows × 7 columns</p>\n</div>"
     },
     "execution_count": 14,
     "metadata": {},
     "output_type": "execute_result"
    }
   ],
   "source": [
    "vars = [\"sing_ru\",\n",
    "    \"date\",\n",
    "    \"month\",\n",
    "    \"day\",\n",
    "    \"weekday\",\n",
    "    'weekday_ru',\n",
    "    \"text\"]\n",
    "\n",
    "dataset = df[vars]\n",
    "\n",
    "dataset"
   ],
   "metadata": {
    "collapsed": false,
    "ExecuteTime": {
     "end_time": "2023-05-07T20:04:22.813785Z",
     "start_time": "2023-05-07T20:04:22.798320Z"
    }
   }
  },
  {
   "cell_type": "code",
   "execution_count": 15,
   "outputs": [],
   "source": [
    "dataset.to_csv(ROOT / 'data/dataset.csv', sep='\\t', index=False)"
   ],
   "metadata": {
    "collapsed": false,
    "ExecuteTime": {
     "end_time": "2023-05-07T20:04:27.419030Z",
     "start_time": "2023-05-07T20:04:26.802261Z"
    }
   }
  },
  {
   "cell_type": "code",
   "execution_count": null,
   "outputs": [],
   "source": [],
   "metadata": {
    "collapsed": false
   }
  }
 ],
 "metadata": {
  "kernelspec": {
   "display_name": "Python 3",
   "language": "python",
   "name": "python3"
  },
  "language_info": {
   "codemirror_mode": {
    "name": "ipython",
    "version": 2
   },
   "file_extension": ".py",
   "mimetype": "text/x-python",
   "name": "python",
   "nbconvert_exporter": "python",
   "pygments_lexer": "ipython2",
   "version": "2.7.6"
  }
 },
 "nbformat": 4,
 "nbformat_minor": 0
}
