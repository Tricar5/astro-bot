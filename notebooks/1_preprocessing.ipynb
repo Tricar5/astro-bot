{
 "cells": [
  {
   "cell_type": "code",
   "execution_count": 1,
   "metadata": {
    "collapsed": true,
    "ExecuteTime": {
     "end_time": "2023-05-05T17:31:18.936414Z",
     "start_time": "2023-05-05T17:31:18.932106Z"
    }
   },
   "outputs": [],
   "source": [
    "import os\n",
    "import pathlib\n",
    "\n",
    "ROOT = pathlib.Path().resolve().parent\n",
    "\n",
    "os.chdir(ROOT)"
   ]
  },
  {
   "cell_type": "code",
   "execution_count": 2,
   "outputs": [],
   "source": [
    "import pandas as pd\n",
    "import numpy as np\n",
    "\n"
   ],
   "metadata": {
    "collapsed": false,
    "ExecuteTime": {
     "end_time": "2023-05-05T17:31:19.207232Z",
     "start_time": "2023-05-05T17:31:18.938983Z"
    }
   }
  },
  {
   "cell_type": "code",
   "execution_count": 3,
   "outputs": [
    {
     "name": "stdout",
     "output_type": "stream",
     "text": [
      "<class 'pandas.core.frame.DataFrame'>\n",
      "RangeIndex: 34905 entries, 0 to 34904\n",
      "Data columns (total 5 columns):\n",
      " #   Column    Non-Null Count  Dtype \n",
      "---  ------    --------------  ----- \n",
      " 0   text      34905 non-null  object\n",
      " 1   date      34905 non-null  object\n",
      " 2   sign      34905 non-null  object\n",
      " 3   category  34905 non-null  object\n",
      " 4   text_ru   34905 non-null  object\n",
      "dtypes: object(5)\n",
      "memory usage: 1.3+ MB\n"
     ]
    }
   ],
   "source": [
    "df = pd.read_csv('data/horoscopes_full_yandex.csv')\n",
    "\n",
    "df.info()"
   ],
   "metadata": {
    "collapsed": false,
    "ExecuteTime": {
     "end_time": "2023-05-05T17:31:19.534328Z",
     "start_time": "2023-05-05T17:31:19.212608Z"
    }
   }
  },
  {
   "cell_type": "markdown",
   "source": [
    "# Sign"
   ],
   "metadata": {
    "collapsed": false
   }
  },
  {
   "cell_type": "code",
   "execution_count": 4,
   "outputs": [
    {
     "data": {
      "text/plain": "sign\nleo            2914\nscorpio        2914\ngemini         2911\ntaurus         2910\nlibra          2910\nsagittarius    2909\npisces         2909\nvirgo          2908\ncapricorn      2908\naquarius       2906\naries          2905\ncancer         2901\nName: count, dtype: int64"
     },
     "execution_count": 4,
     "metadata": {},
     "output_type": "execute_result"
    }
   ],
   "source": [
    "df.sign.value_counts()"
   ],
   "metadata": {
    "collapsed": false,
    "ExecuteTime": {
     "end_time": "2023-05-05T17:31:21.195727Z",
     "start_time": "2023-05-05T17:31:21.191091Z"
    }
   }
  },
  {
   "cell_type": "code",
   "execution_count": 5,
   "outputs": [
    {
     "data": {
      "text/plain": "['aries',\n 'taurus',\n 'gemini',\n 'cancer',\n 'leo',\n 'virgo',\n 'libra',\n 'scorpio',\n 'sagittarius',\n 'capricorn',\n 'aquarius',\n 'pisces']"
     },
     "execution_count": 5,
     "metadata": {},
     "output_type": "execute_result"
    }
   ],
   "source": [
    "eng_sign = list(df.sign.unique())\n",
    "\n",
    "eng_sign"
   ],
   "metadata": {
    "collapsed": false,
    "ExecuteTime": {
     "end_time": "2023-05-05T17:31:21.895472Z",
     "start_time": "2023-05-05T17:31:21.885862Z"
    }
   }
  },
  {
   "cell_type": "code",
   "execution_count": 6,
   "outputs": [
    {
     "data": {
      "text/plain": "                                                    text        date   \n959    Generally speaking you don’t much care if othe...  08-14-2016  \\\n18109  Be in touch with your greatest desires and amb...  26-07-2020   \n31029  Your lucky star is shining bright, bringing yo...  13-11-2020   \n9203   Cosmic activity in one of the more negative ar...  07-13-2015   \n14203  The planets' positions give you a chance to ch...  23-11-2020   \n11157  Focus on something of a creative or artistic n...  12-18-2014   \n21860  Your mind and heart are strongly in sync this ...  25-10-2020   \n26028  Some intense conversations could take place be...  16-03-2021   \n32680  You can react in various ways to the aspect of...  19-05-2021   \n26672  Be careful of stepping on someone else's toes....  18-12-2020   \n\n              sign  category   \n959          aries   general  \\\n18109       gemini  birthday   \n31029    capricorn  birthday   \n9203   sagittarius   general   \n14203        aries  wellness   \n11157     aquarius   general   \n21860          leo  birthday   \n26028      scorpio   general   \n32680     aquarius  wellness   \n26672      scorpio    career   \n\n                                                 text_ru   sing_ru  \n959    Это по-прежнему прекрасное время года для вас,...      овен  \n18109  Личные потребности и обязательства, конечно, д...  близнецы  \n31029  Ваша счастливая звезда сияет ярко, принося вам...   козерог  \n9203   В течение следующих 24 часов, скорее всего, пр...   стрелец  \n14203  Перемены - это то, к чему вы относитесь осторо...      овен  \n11157  Если другие имеют власть над вами, то только п...   водолей  \n21860  Вы горите желанием оставить свой след и выигра...       лев  \n26028  Между вами и группой друзей могло бы состоятьс...  скорпион  \n32680  Вы можете по-разному реагировать на обстоятель...   водолей  \n26672  Будьте осторожны, не наступайте кому-то на пят...  скорпион  ",
      "text/html": "<div>\n<style scoped>\n    .dataframe tbody tr th:only-of-type {\n        vertical-align: middle;\n    }\n\n    .dataframe tbody tr th {\n        vertical-align: top;\n    }\n\n    .dataframe thead th {\n        text-align: right;\n    }\n</style>\n<table border=\"1\" class=\"dataframe\">\n  <thead>\n    <tr style=\"text-align: right;\">\n      <th></th>\n      <th>text</th>\n      <th>date</th>\n      <th>sign</th>\n      <th>category</th>\n      <th>text_ru</th>\n      <th>sing_ru</th>\n    </tr>\n  </thead>\n  <tbody>\n    <tr>\n      <th>959</th>\n      <td>Generally speaking you don’t much care if othe...</td>\n      <td>08-14-2016</td>\n      <td>aries</td>\n      <td>general</td>\n      <td>Это по-прежнему прекрасное время года для вас,...</td>\n      <td>овен</td>\n    </tr>\n    <tr>\n      <th>18109</th>\n      <td>Be in touch with your greatest desires and amb...</td>\n      <td>26-07-2020</td>\n      <td>gemini</td>\n      <td>birthday</td>\n      <td>Личные потребности и обязательства, конечно, д...</td>\n      <td>близнецы</td>\n    </tr>\n    <tr>\n      <th>31029</th>\n      <td>Your lucky star is shining bright, bringing yo...</td>\n      <td>13-11-2020</td>\n      <td>capricorn</td>\n      <td>birthday</td>\n      <td>Ваша счастливая звезда сияет ярко, принося вам...</td>\n      <td>козерог</td>\n    </tr>\n    <tr>\n      <th>9203</th>\n      <td>Cosmic activity in one of the more negative ar...</td>\n      <td>07-13-2015</td>\n      <td>sagittarius</td>\n      <td>general</td>\n      <td>В течение следующих 24 часов, скорее всего, пр...</td>\n      <td>стрелец</td>\n    </tr>\n    <tr>\n      <th>14203</th>\n      <td>The planets' positions give you a chance to ch...</td>\n      <td>23-11-2020</td>\n      <td>aries</td>\n      <td>wellness</td>\n      <td>Перемены - это то, к чему вы относитесь осторо...</td>\n      <td>овен</td>\n    </tr>\n    <tr>\n      <th>11157</th>\n      <td>Focus on something of a creative or artistic n...</td>\n      <td>12-18-2014</td>\n      <td>aquarius</td>\n      <td>general</td>\n      <td>Если другие имеют власть над вами, то только п...</td>\n      <td>водолей</td>\n    </tr>\n    <tr>\n      <th>21860</th>\n      <td>Your mind and heart are strongly in sync this ...</td>\n      <td>25-10-2020</td>\n      <td>leo</td>\n      <td>birthday</td>\n      <td>Вы горите желанием оставить свой след и выигра...</td>\n      <td>лев</td>\n    </tr>\n    <tr>\n      <th>26028</th>\n      <td>Some intense conversations could take place be...</td>\n      <td>16-03-2021</td>\n      <td>scorpio</td>\n      <td>general</td>\n      <td>Между вами и группой друзей могло бы состоятьс...</td>\n      <td>скорпион</td>\n    </tr>\n    <tr>\n      <th>32680</th>\n      <td>You can react in various ways to the aspect of...</td>\n      <td>19-05-2021</td>\n      <td>aquarius</td>\n      <td>wellness</td>\n      <td>Вы можете по-разному реагировать на обстоятель...</td>\n      <td>водолей</td>\n    </tr>\n    <tr>\n      <th>26672</th>\n      <td>Be careful of stepping on someone else's toes....</td>\n      <td>18-12-2020</td>\n      <td>scorpio</td>\n      <td>career</td>\n      <td>Будьте осторожны, не наступайте кому-то на пят...</td>\n      <td>скорпион</td>\n    </tr>\n  </tbody>\n</table>\n</div>"
     },
     "execution_count": 6,
     "metadata": {},
     "output_type": "execute_result"
    }
   ],
   "source": [
    "ru_sign = [\"овен\",\n",
    "\"телец\",\n",
    "\"близнецы\",\n",
    "\"рак\",\n",
    "\"лев\",\n",
    "\"дева\",\n",
    "\"весы\",\n",
    "\"скорпион\",\n",
    "\"стрелец\",\n",
    "\"козерог\",\n",
    "\"водолей\",\n",
    "\"рыбы\"]\n",
    "\n",
    "# делаем маппер для замены\n",
    "sign_mapper = dict(zip(eng_sign, ru_sign))\n",
    "\n",
    "df['sing_ru'] = df['sign'].map(sign_mapper)\n",
    "\n",
    "df.sample(10)"
   ],
   "metadata": {
    "collapsed": false,
    "ExecuteTime": {
     "end_time": "2023-05-05T17:31:23.023041Z",
     "start_time": "2023-05-05T17:31:23.006598Z"
    }
   }
  },
  {
   "cell_type": "markdown",
   "source": [
    "# Category"
   ],
   "metadata": {
    "collapsed": false
   }
  },
  {
   "cell_type": "code",
   "execution_count": 7,
   "outputs": [
    {
     "data": {
      "text/plain": "category\ngeneral     17337\nlove         4392\ncareer       4392\nwellness     4392\nbirthday     4392\nName: count, dtype: int64"
     },
     "execution_count": 7,
     "metadata": {},
     "output_type": "execute_result"
    }
   ],
   "source": [
    "df.category.value_counts()"
   ],
   "metadata": {
    "collapsed": false,
    "ExecuteTime": {
     "end_time": "2023-05-05T17:31:24.287162Z",
     "start_time": "2023-05-05T17:31:24.279265Z"
    }
   }
  },
  {
   "cell_type": "code",
   "execution_count": 8,
   "outputs": [],
   "source": [
    "category_mapper = {\n",
    "    \"general\": \"общее\",\n",
    "\"love\": \"любовь\",\n",
    "\"career\": \"карьера\",\n",
    "\"wellness\": \"здоровье\",\n",
    "\"birthday\": \"др\"\n",
    "}\n",
    "\n",
    "df['category_ru'] = df['category'].map(category_mapper)\n"
   ],
   "metadata": {
    "collapsed": false,
    "ExecuteTime": {
     "end_time": "2023-05-05T17:31:24.815520Z",
     "start_time": "2023-05-05T17:31:24.808607Z"
    }
   }
  },
  {
   "cell_type": "code",
   "execution_count": 9,
   "outputs": [
    {
     "data": {
      "text/plain": "category_ru\nобщее       17337\nлюбовь       4392\nкарьера      4392\nздоровье     4392\nдр           4392\nName: count, dtype: int64"
     },
     "execution_count": 9,
     "metadata": {},
     "output_type": "execute_result"
    }
   ],
   "source": [
    "df.category_ru.value_counts()"
   ],
   "metadata": {
    "collapsed": false,
    "ExecuteTime": {
     "end_time": "2023-05-05T17:31:25.277989Z",
     "start_time": "2023-05-05T17:31:25.271659Z"
    }
   }
  },
  {
   "cell_type": "code",
   "execution_count": 20,
   "outputs": [],
   "source": [
    "# Извлечение характеристик даты\n",
    "\n",
    "df['date'] = pd.to_datetime(df['date'], format=\"%d-%M-%Y\")\n",
    "\n",
    "\n",
    "df['month'] = df['date'].dt.month\n",
    "# День месяца\n",
    "df['day'] = df['date'].dt.day\n",
    "\n",
    "# День недели\n",
    "df['weekday'] = df['date'].dt.weekday\n",
    "df['weekday_data'] = df['date'].dt.strftime(\"%A\")"
   ],
   "metadata": {
    "collapsed": false,
    "ExecuteTime": {
     "end_time": "2023-05-05T19:25:44.950842Z",
     "start_time": "2023-05-05T19:25:44.863654Z"
    }
   }
  },
  {
   "cell_type": "code",
   "execution_count": 21,
   "outputs": [
    {
     "data": {
      "text/plain": "array(['Суббота', 'Среда', 'Четверг', 'Пятница', 'Воскресенье',\n       'Понедельник', 'Вторник'], dtype=object)"
     },
     "execution_count": 21,
     "metadata": {},
     "output_type": "execute_result"
    }
   ],
   "source": [
    "weekday_mapper = {\n",
    "    \"Monday\": \"Понедельник\",\n",
    "    \"Tuesday\": \"Вторник\",\n",
    "    \"Wednesday\": \"Среда\",\n",
    "    \"Thursday\": \"Четверг\",\n",
    "    \"Friday\": \"Пятница\",\n",
    "    \"Saturday\": \"Суббота\",\n",
    "    \"Sunday\": \"Воскресенье\",\n",
    "}\n",
    "\n",
    "df['weekday_ru'] = df['weekday_data'].map(weekday_mapper)\n",
    "df['weekday_ru'].unique()"
   ],
   "metadata": {
    "collapsed": false,
    "ExecuteTime": {
     "end_time": "2023-05-05T19:25:45.429045Z",
     "start_time": "2023-05-05T19:25:45.424087Z"
    }
   }
  },
  {
   "cell_type": "code",
   "execution_count": 25,
   "outputs": [
    {
     "data": {
      "text/plain": "      category_ru sing_ru                date  month  day  weekday weekday_ru   \n0           общее    овен 2013-01-12 00:01:00      1   12        5    Суббота  \\\n1           общее    овен 2013-01-12 00:02:00      1   12        5    Суббота   \n2           общее    овен 2013-01-12 00:03:00      1   12        5    Суббота   \n3           общее    овен 2013-01-12 00:04:00      1   12        5    Суббота   \n4           общее    овен 2013-01-12 00:05:00      1   12        5    Суббота   \n...           ...     ...                 ...    ...  ...      ...        ...   \n34900          др    рыбы 2021-01-12 00:06:00      1   12        1    Вторник   \n34901          др    рыбы 2021-01-13 00:06:00      1   13        2      Среда   \n34902          др    рыбы 2021-01-14 00:06:00      1   14        3    Четверг   \n34903          др    рыбы 2021-01-15 00:06:00      1   15        4    Пятница   \n34904          др    рыбы 2021-01-16 00:06:00      1   16        5    Суббота   \n\n                                                 text_ru  \n0      Вы не из тех, кто перестраховывается, и даже е...  \n1      Не существует такого понятия, как \"что-то даро...  \n2      Поскольку новолуние приходится на одну из наиб...  \n3      Сегодня вы услышите что-то потрясающее, но мож...  \n4      Друг или коллега, которого вы давно не видели,...  \n...                                                  ...  \n34900  Отпразднуйте свой день рождения со вкусом, гот...  \n34901  Представьте свою жизнь так, как если бы она бы...  \n34902  Веселье, игривость и юмор легко проявить в это...  \n34903  Ваш день рождения - это новый старт, когда вы ...  \n34904  Вероятно, вам понравится быть в центре внимани...  \n\n[34905 rows x 8 columns]",
      "text/html": "<div>\n<style scoped>\n    .dataframe tbody tr th:only-of-type {\n        vertical-align: middle;\n    }\n\n    .dataframe tbody tr th {\n        vertical-align: top;\n    }\n\n    .dataframe thead th {\n        text-align: right;\n    }\n</style>\n<table border=\"1\" class=\"dataframe\">\n  <thead>\n    <tr style=\"text-align: right;\">\n      <th></th>\n      <th>category_ru</th>\n      <th>sing_ru</th>\n      <th>date</th>\n      <th>month</th>\n      <th>day</th>\n      <th>weekday</th>\n      <th>weekday_ru</th>\n      <th>text_ru</th>\n    </tr>\n  </thead>\n  <tbody>\n    <tr>\n      <th>0</th>\n      <td>общее</td>\n      <td>овен</td>\n      <td>2013-01-12 00:01:00</td>\n      <td>1</td>\n      <td>12</td>\n      <td>5</td>\n      <td>Суббота</td>\n      <td>Вы не из тех, кто перестраховывается, и даже е...</td>\n    </tr>\n    <tr>\n      <th>1</th>\n      <td>общее</td>\n      <td>овен</td>\n      <td>2013-01-12 00:02:00</td>\n      <td>1</td>\n      <td>12</td>\n      <td>5</td>\n      <td>Суббота</td>\n      <td>Не существует такого понятия, как \"что-то даро...</td>\n    </tr>\n    <tr>\n      <th>2</th>\n      <td>общее</td>\n      <td>овен</td>\n      <td>2013-01-12 00:03:00</td>\n      <td>1</td>\n      <td>12</td>\n      <td>5</td>\n      <td>Суббота</td>\n      <td>Поскольку новолуние приходится на одну из наиб...</td>\n    </tr>\n    <tr>\n      <th>3</th>\n      <td>общее</td>\n      <td>овен</td>\n      <td>2013-01-12 00:04:00</td>\n      <td>1</td>\n      <td>12</td>\n      <td>5</td>\n      <td>Суббота</td>\n      <td>Сегодня вы услышите что-то потрясающее, но мож...</td>\n    </tr>\n    <tr>\n      <th>4</th>\n      <td>общее</td>\n      <td>овен</td>\n      <td>2013-01-12 00:05:00</td>\n      <td>1</td>\n      <td>12</td>\n      <td>5</td>\n      <td>Суббота</td>\n      <td>Друг или коллега, которого вы давно не видели,...</td>\n    </tr>\n    <tr>\n      <th>...</th>\n      <td>...</td>\n      <td>...</td>\n      <td>...</td>\n      <td>...</td>\n      <td>...</td>\n      <td>...</td>\n      <td>...</td>\n      <td>...</td>\n    </tr>\n    <tr>\n      <th>34900</th>\n      <td>др</td>\n      <td>рыбы</td>\n      <td>2021-01-12 00:06:00</td>\n      <td>1</td>\n      <td>12</td>\n      <td>1</td>\n      <td>Вторник</td>\n      <td>Отпразднуйте свой день рождения со вкусом, гот...</td>\n    </tr>\n    <tr>\n      <th>34901</th>\n      <td>др</td>\n      <td>рыбы</td>\n      <td>2021-01-13 00:06:00</td>\n      <td>1</td>\n      <td>13</td>\n      <td>2</td>\n      <td>Среда</td>\n      <td>Представьте свою жизнь так, как если бы она бы...</td>\n    </tr>\n    <tr>\n      <th>34902</th>\n      <td>др</td>\n      <td>рыбы</td>\n      <td>2021-01-14 00:06:00</td>\n      <td>1</td>\n      <td>14</td>\n      <td>3</td>\n      <td>Четверг</td>\n      <td>Веселье, игривость и юмор легко проявить в это...</td>\n    </tr>\n    <tr>\n      <th>34903</th>\n      <td>др</td>\n      <td>рыбы</td>\n      <td>2021-01-15 00:06:00</td>\n      <td>1</td>\n      <td>15</td>\n      <td>4</td>\n      <td>Пятница</td>\n      <td>Ваш день рождения - это новый старт, когда вы ...</td>\n    </tr>\n    <tr>\n      <th>34904</th>\n      <td>др</td>\n      <td>рыбы</td>\n      <td>2021-01-16 00:06:00</td>\n      <td>1</td>\n      <td>16</td>\n      <td>5</td>\n      <td>Суббота</td>\n      <td>Вероятно, вам понравится быть в центре внимани...</td>\n    </tr>\n  </tbody>\n</table>\n<p>34905 rows × 8 columns</p>\n</div>"
     },
     "execution_count": 25,
     "metadata": {},
     "output_type": "execute_result"
    }
   ],
   "source": [
    "vars = [\"category_ru\",\n",
    "    \"sing_ru\",\n",
    "    \"date\",\n",
    "    \"month\",\n",
    "    \"day\",\n",
    "    \"weekday\",\n",
    "    'weekday_ru',\n",
    "    \"text_ru\"]\n",
    "\n",
    "dataset = df[vars]\n",
    "\n",
    "dataset"
   ],
   "metadata": {
    "collapsed": false,
    "ExecuteTime": {
     "end_time": "2023-05-05T19:27:55.696987Z",
     "start_time": "2023-05-05T19:27:55.679937Z"
    }
   }
  },
  {
   "cell_type": "code",
   "execution_count": 26,
   "outputs": [],
   "source": [
    "dataset.to_csv('data/dataset.csv', sep='\\t', index=False)"
   ],
   "metadata": {
    "collapsed": false,
    "ExecuteTime": {
     "end_time": "2023-05-05T19:27:56.637950Z",
     "start_time": "2023-05-05T19:27:56.307210Z"
    }
   }
  },
  {
   "cell_type": "code",
   "execution_count": null,
   "outputs": [],
   "source": [],
   "metadata": {
    "collapsed": false
   }
  }
 ],
 "metadata": {
  "kernelspec": {
   "display_name": "Python 3",
   "language": "python",
   "name": "python3"
  },
  "language_info": {
   "codemirror_mode": {
    "name": "ipython",
    "version": 2
   },
   "file_extension": ".py",
   "mimetype": "text/x-python",
   "name": "python",
   "nbconvert_exporter": "python",
   "pygments_lexer": "ipython2",
   "version": "2.7.6"
  }
 },
 "nbformat": 4,
 "nbformat_minor": 0
}
