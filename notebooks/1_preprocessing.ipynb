{
 "cells": [
  {
   "cell_type": "code",
   "execution_count": 1,
   "metadata": {
    "collapsed": true,
    "ExecuteTime": {
     "end_time": "2023-05-03T19:21:40.252180Z",
     "start_time": "2023-05-03T19:21:40.247432Z"
    }
   },
   "outputs": [],
   "source": [
    "import os\n",
    "import pathlib\n",
    "\n",
    "ROOT = pathlib.Path().resolve().parent\n",
    "\n",
    "os.chdir(ROOT)"
   ]
  },
  {
   "cell_type": "code",
   "execution_count": 2,
   "outputs": [],
   "source": [
    "import pandas as pd\n",
    "import numpy as np\n",
    "\n"
   ],
   "metadata": {
    "collapsed": false,
    "ExecuteTime": {
     "end_time": "2023-05-03T19:21:40.501040Z",
     "start_time": "2023-05-03T19:21:40.254550Z"
    }
   }
  },
  {
   "cell_type": "code",
   "execution_count": 10,
   "outputs": [
    {
     "name": "stdout",
     "output_type": "stream",
     "text": [
      "<class 'pandas.core.frame.DataFrame'>\n",
      "RangeIndex: 34921 entries, 0 to 34920\n",
      "Data columns (total 5 columns):\n",
      " #   Column    Non-Null Count  Dtype \n",
      "---  ------    --------------  ----- \n",
      " 0   text      34905 non-null  object\n",
      " 1   date      34921 non-null  object\n",
      " 2   sign      34921 non-null  object\n",
      " 3   category  34921 non-null  object\n",
      " 4   text_ru   34905 non-null  object\n",
      "dtypes: object(5)\n",
      "memory usage: 1.3+ MB\n"
     ]
    }
   ],
   "source": [
    "df = pd.read_csv('data/horoscopes_full_google.xlsx')\n",
    "\n",
    "df.info()"
   ],
   "metadata": {
    "collapsed": false,
    "ExecuteTime": {
     "end_time": "2023-05-03T19:29:31.216590Z",
     "start_time": "2023-05-03T19:29:30.847359Z"
    }
   }
  },
  {
   "cell_type": "markdown",
   "source": [
    "# Sign"
   ],
   "metadata": {
    "collapsed": false
   }
  },
  {
   "cell_type": "code",
   "execution_count": 11,
   "outputs": [
    {
     "data": {
      "text/plain": "sign\nleo            2915\nscorpio        2914\ngemini         2913\nlibra          2912\npisces         2911\ntaurus         2910\nsagittarius    2910\nvirgo          2909\ncapricorn      2909\naquarius       2908\naries          2906\ncancer         2904\nName: count, dtype: int64"
     },
     "execution_count": 11,
     "metadata": {},
     "output_type": "execute_result"
    }
   ],
   "source": [
    "df.sign.value_counts()"
   ],
   "metadata": {
    "collapsed": false,
    "ExecuteTime": {
     "end_time": "2023-05-03T19:29:32.056917Z",
     "start_time": "2023-05-03T19:29:32.051243Z"
    }
   }
  },
  {
   "cell_type": "code",
   "execution_count": 12,
   "outputs": [
    {
     "data": {
      "text/plain": "['aries',\n 'taurus',\n 'gemini',\n 'cancer',\n 'leo',\n 'virgo',\n 'libra',\n 'scorpio',\n 'sagittarius',\n 'capricorn',\n 'aquarius',\n 'pisces']"
     },
     "execution_count": 12,
     "metadata": {},
     "output_type": "execute_result"
    }
   ],
   "source": [
    "eng_sign = list(df.sign.unique())\n",
    "\n",
    "eng_sign"
   ],
   "metadata": {
    "collapsed": false,
    "ExecuteTime": {
     "end_time": "2023-05-03T19:29:32.685485Z",
     "start_time": "2023-05-03T19:29:32.679370Z"
    }
   }
  },
  {
   "cell_type": "code",
   "execution_count": 13,
   "outputs": [
    {
     "data": {
      "text/plain": "                                                    text        date   \n20760  The cosmic atmosphere may make this is an amaz...  07-10-2020  \\\n34845  Yes, these are complicated times. You're being...  02-04-2021   \n12083  Sometimes it is better to back off from a figh...  06-25-2014   \n22277  You're apt to be spurred into action by strong...  29-11-2020   \n14454  Nothing can stop you this year, so aim high! Y...  15-07-2020   \n30224  Work to find the pitfalls in your current plan...  16-08-2020   \n11154  There is a job to be done and you know that yo...  12-01-2014   \n18511  Make some plans for recreation, Cancer. Having...  15-08-2020   \n16511  It's your time for all the little things to cl...  27-02-2021   \n14619  Some old habits will surprise you and serve yo...  27-12-2020   \n\n            sign  category                                            text_ru   \n20760        leo      love  Космическая атмосфера может сделать этот день ...  \\\n34845     pisces  birthday  Да, времена сложные. Вы более успешны и достиг...   \n12083     pisces   general   Иногда лучше отказаться от борьбы, и сегодня,...   \n22277      virgo   general   Вас склонны подталкивать к действию сильные с...   \n14454      aries  birthday  В этом году вас ничто не остановит, так что ст...   \n30224  capricorn    career   Постарайтесь найти подводные камни в вашем те...   \n11154   aquarius   general  Есть работа, которую нужно выполнить, и вы зна...   \n18511     cancer   general  Составьте планы на отдых, Рак. Наличие чего-то...   \n16511     taurus  birthday  Это ваше время, чтобы все мелочи щелкнули и по...   \n14619      aries  birthday  Некоторые старые привычки удивят вас и сослужа...   \n\n       sing_ru  \n20760      лев  \n34845     рыбы  \n12083     рыбы  \n22277     дева  \n14454     овен  \n30224  козерог  \n11154  водолей  \n18511      рак  \n16511    телец  \n14619     овен  ",
      "text/html": "<div>\n<style scoped>\n    .dataframe tbody tr th:only-of-type {\n        vertical-align: middle;\n    }\n\n    .dataframe tbody tr th {\n        vertical-align: top;\n    }\n\n    .dataframe thead th {\n        text-align: right;\n    }\n</style>\n<table border=\"1\" class=\"dataframe\">\n  <thead>\n    <tr style=\"text-align: right;\">\n      <th></th>\n      <th>text</th>\n      <th>date</th>\n      <th>sign</th>\n      <th>category</th>\n      <th>text_ru</th>\n      <th>sing_ru</th>\n    </tr>\n  </thead>\n  <tbody>\n    <tr>\n      <th>20760</th>\n      <td>The cosmic atmosphere may make this is an amaz...</td>\n      <td>07-10-2020</td>\n      <td>leo</td>\n      <td>love</td>\n      <td>Космическая атмосфера может сделать этот день ...</td>\n      <td>лев</td>\n    </tr>\n    <tr>\n      <th>34845</th>\n      <td>Yes, these are complicated times. You're being...</td>\n      <td>02-04-2021</td>\n      <td>pisces</td>\n      <td>birthday</td>\n      <td>Да, времена сложные. Вы более успешны и достиг...</td>\n      <td>рыбы</td>\n    </tr>\n    <tr>\n      <th>12083</th>\n      <td>Sometimes it is better to back off from a figh...</td>\n      <td>06-25-2014</td>\n      <td>pisces</td>\n      <td>general</td>\n      <td>Иногда лучше отказаться от борьбы, и сегодня,...</td>\n      <td>рыбы</td>\n    </tr>\n    <tr>\n      <th>22277</th>\n      <td>You're apt to be spurred into action by strong...</td>\n      <td>29-11-2020</td>\n      <td>virgo</td>\n      <td>general</td>\n      <td>Вас склонны подталкивать к действию сильные с...</td>\n      <td>дева</td>\n    </tr>\n    <tr>\n      <th>14454</th>\n      <td>Nothing can stop you this year, so aim high! Y...</td>\n      <td>15-07-2020</td>\n      <td>aries</td>\n      <td>birthday</td>\n      <td>В этом году вас ничто не остановит, так что ст...</td>\n      <td>овен</td>\n    </tr>\n    <tr>\n      <th>30224</th>\n      <td>Work to find the pitfalls in your current plan...</td>\n      <td>16-08-2020</td>\n      <td>capricorn</td>\n      <td>career</td>\n      <td>Постарайтесь найти подводные камни в вашем те...</td>\n      <td>козерог</td>\n    </tr>\n    <tr>\n      <th>11154</th>\n      <td>There is a job to be done and you know that yo...</td>\n      <td>12-01-2014</td>\n      <td>aquarius</td>\n      <td>general</td>\n      <td>Есть работа, которую нужно выполнить, и вы зна...</td>\n      <td>водолей</td>\n    </tr>\n    <tr>\n      <th>18511</th>\n      <td>Make some plans for recreation, Cancer. Having...</td>\n      <td>15-08-2020</td>\n      <td>cancer</td>\n      <td>general</td>\n      <td>Составьте планы на отдых, Рак. Наличие чего-то...</td>\n      <td>рак</td>\n    </tr>\n    <tr>\n      <th>16511</th>\n      <td>It's your time for all the little things to cl...</td>\n      <td>27-02-2021</td>\n      <td>taurus</td>\n      <td>birthday</td>\n      <td>Это ваше время, чтобы все мелочи щелкнули и по...</td>\n      <td>телец</td>\n    </tr>\n    <tr>\n      <th>14619</th>\n      <td>Some old habits will surprise you and serve yo...</td>\n      <td>27-12-2020</td>\n      <td>aries</td>\n      <td>birthday</td>\n      <td>Некоторые старые привычки удивят вас и сослужа...</td>\n      <td>овен</td>\n    </tr>\n  </tbody>\n</table>\n</div>"
     },
     "execution_count": 13,
     "metadata": {},
     "output_type": "execute_result"
    }
   ],
   "source": [
    "ru_sign = [\"овен\",\n",
    "\"телец\",\n",
    "\"близнецы\",\n",
    "\"рак\",\n",
    "\"лев\",\n",
    "\"дева\",\n",
    "\"весы\",\n",
    "\"скорпион\",\n",
    "\"стрелец\",\n",
    "\"козерог\",\n",
    "\"водолей\",\n",
    "\"рыбы\"]\n",
    "\n",
    "# делаем маппер для замены\n",
    "sign_mapper = dict(zip(eng_sign, ru_sign))\n",
    "\n",
    "df['sing_ru'] = df['sign'].map(sign_mapper)\n",
    "\n",
    "df.sample(10)"
   ],
   "metadata": {
    "collapsed": false,
    "ExecuteTime": {
     "end_time": "2023-05-03T19:29:34.555726Z",
     "start_time": "2023-05-03T19:29:34.535491Z"
    }
   }
  },
  {
   "cell_type": "markdown",
   "source": [
    "# Category"
   ],
   "metadata": {
    "collapsed": false
   }
  },
  {
   "cell_type": "code",
   "execution_count": 14,
   "outputs": [
    {
     "data": {
      "text/plain": "category\ngeneral     17353\nlove         4392\ncareer       4392\nwellness     4392\nbirthday     4392\nName: count, dtype: int64"
     },
     "execution_count": 14,
     "metadata": {},
     "output_type": "execute_result"
    }
   ],
   "source": [
    "df.category.value_counts()"
   ],
   "metadata": {
    "collapsed": false,
    "ExecuteTime": {
     "end_time": "2023-05-03T19:29:35.782255Z",
     "start_time": "2023-05-03T19:29:35.772625Z"
    }
   }
  },
  {
   "cell_type": "code",
   "execution_count": 22,
   "outputs": [],
   "source": [
    "category_mapper = {\n",
    "    \"general\": \"общее\",\n",
    "\"love\": \"любовь\",\n",
    "\"career\": \"карьера\",\n",
    "\"wellness\": \"здоровье\",\n",
    "\"birthday\": \"др\"\n",
    "}\n",
    "\n",
    "df['category_ru'] = df['category'].map(category_mapper)\n"
   ],
   "metadata": {
    "collapsed": false,
    "ExecuteTime": {
     "end_time": "2023-05-03T19:30:29.482892Z",
     "start_time": "2023-05-03T19:30:29.475948Z"
    }
   }
  },
  {
   "cell_type": "code",
   "execution_count": 23,
   "outputs": [
    {
     "data": {
      "text/plain": "category_ru\nобщее       17353\nлюбовь       4392\nкарьера      4392\nздоровье     4392\nдр           4392\nName: count, dtype: int64"
     },
     "execution_count": 23,
     "metadata": {},
     "output_type": "execute_result"
    }
   ],
   "source": [
    "df.category_ru.value_counts()"
   ],
   "metadata": {
    "collapsed": false,
    "ExecuteTime": {
     "end_time": "2023-05-03T19:30:30.493448Z",
     "start_time": "2023-05-03T19:30:30.483614Z"
    }
   }
  },
  {
   "cell_type": "code",
   "execution_count": 42,
   "outputs": [],
   "source": [
    "# Извлечение характеристик даты\n",
    "\n",
    "df['date'] = pd.to_datetime(df['date'], format=\"%d-%M-%Y\")\n",
    "\n",
    "\n",
    "df['month'] = df['date'].dt.month\n",
    "# День месяца\n",
    "df['day'] = df['date'].dt.day\n",
    "\n",
    "# День недели\n",
    "df['weekday'] = df['date'].dt.weekday"
   ],
   "metadata": {
    "collapsed": false,
    "ExecuteTime": {
     "end_time": "2023-05-03T19:36:40.631346Z",
     "start_time": "2023-05-03T19:36:40.610217Z"
    }
   }
  },
  {
   "cell_type": "code",
   "execution_count": 43,
   "outputs": [
    {
     "data": {
      "text/plain": "                                                    text       date    sign   \n0      You’re not the sort to play safe and even if y... 2013-01-12   aries  \\\n1      There is no such thing as something for nothin... 2013-01-12   aries   \n2      As the new moon falls in one of the more adven... 2013-01-12   aries   \n3      You will hear something amazing today but can ... 2013-01-12   aries   \n4      A friend or colleague you have not seen for a ... 2013-01-12   aries   \n...                                                  ...        ...     ...   \n34916  Celebrate in style on your birthday in prepara... 2021-01-12  pisces   \n34917  Imagine your life as if it was exactly the way... 2021-01-13  pisces   \n34918  Fun, playfulness, and humor are easy to manife... 2021-01-14  pisces   \n34919  Your birthday brings you a fresh start, as you... 2021-01-15  pisces   \n34920  You will probably enjoy being the center of at... 2021-01-16  pisces   \n\n       category                                            text_ru sing_ru   \n0       general   Вы не из тех, кто перестраховывается, и даже ...    овен  \\\n1       general   Не бывает чего-то даром, и если вы не совсем ...    овен   \n2       general   Когда новолуние попадает в одну из самых аван...    овен   \n3       general   Сегодня вы услышите нечто удивительное, но мо...    овен   \n4       general  Друг или коллега, которого вы давно не видели,...    овен   \n...         ...                                                ...     ...   \n34916  birthday  Стильно отпразднуйте свой день рождения, чтобы...    рыбы   \n34917  birthday  Представьте свою жизнь так, как если бы она бы...    рыбы   \n34918  birthday  Веселье, игривость и юмор легко проявятся в эт...    рыбы   \n34919  birthday  Ваш день рождения дает вам новое начало, когда...    рыбы   \n34920  birthday  Вам, вероятно, понравится быть в центре вниман...    рыбы   \n\n      category_ru  month_day  week_day  month  day  weekday  \n0           общее          1         5      1   12        5  \n1           общее          1         5      1   12        5  \n2           общее          1         5      1   12        5  \n3           общее          1         5      1   12        5  \n4           общее          1         5      1   12        5  \n...           ...        ...       ...    ...  ...      ...  \n34916          др          1         1      1   12        1  \n34917          др          1         2      1   13        2  \n34918          др          1         3      1   14        3  \n34919          др          1         4      1   15        4  \n34920          др          1         5      1   16        5  \n\n[34921 rows x 12 columns]",
      "text/html": "<div>\n<style scoped>\n    .dataframe tbody tr th:only-of-type {\n        vertical-align: middle;\n    }\n\n    .dataframe tbody tr th {\n        vertical-align: top;\n    }\n\n    .dataframe thead th {\n        text-align: right;\n    }\n</style>\n<table border=\"1\" class=\"dataframe\">\n  <thead>\n    <tr style=\"text-align: right;\">\n      <th></th>\n      <th>text</th>\n      <th>date</th>\n      <th>sign</th>\n      <th>category</th>\n      <th>text_ru</th>\n      <th>sing_ru</th>\n      <th>category_ru</th>\n      <th>month_day</th>\n      <th>week_day</th>\n      <th>month</th>\n      <th>day</th>\n      <th>weekday</th>\n    </tr>\n  </thead>\n  <tbody>\n    <tr>\n      <th>0</th>\n      <td>You’re not the sort to play safe and even if y...</td>\n      <td>2013-01-12</td>\n      <td>aries</td>\n      <td>general</td>\n      <td>Вы не из тех, кто перестраховывается, и даже ...</td>\n      <td>овен</td>\n      <td>общее</td>\n      <td>1</td>\n      <td>5</td>\n      <td>1</td>\n      <td>12</td>\n      <td>5</td>\n    </tr>\n    <tr>\n      <th>1</th>\n      <td>There is no such thing as something for nothin...</td>\n      <td>2013-01-12</td>\n      <td>aries</td>\n      <td>general</td>\n      <td>Не бывает чего-то даром, и если вы не совсем ...</td>\n      <td>овен</td>\n      <td>общее</td>\n      <td>1</td>\n      <td>5</td>\n      <td>1</td>\n      <td>12</td>\n      <td>5</td>\n    </tr>\n    <tr>\n      <th>2</th>\n      <td>As the new moon falls in one of the more adven...</td>\n      <td>2013-01-12</td>\n      <td>aries</td>\n      <td>general</td>\n      <td>Когда новолуние попадает в одну из самых аван...</td>\n      <td>овен</td>\n      <td>общее</td>\n      <td>1</td>\n      <td>5</td>\n      <td>1</td>\n      <td>12</td>\n      <td>5</td>\n    </tr>\n    <tr>\n      <th>3</th>\n      <td>You will hear something amazing today but can ...</td>\n      <td>2013-01-12</td>\n      <td>aries</td>\n      <td>general</td>\n      <td>Сегодня вы услышите нечто удивительное, но мо...</td>\n      <td>овен</td>\n      <td>общее</td>\n      <td>1</td>\n      <td>5</td>\n      <td>1</td>\n      <td>12</td>\n      <td>5</td>\n    </tr>\n    <tr>\n      <th>4</th>\n      <td>A friend or colleague you have not seen for a ...</td>\n      <td>2013-01-12</td>\n      <td>aries</td>\n      <td>general</td>\n      <td>Друг или коллега, которого вы давно не видели,...</td>\n      <td>овен</td>\n      <td>общее</td>\n      <td>1</td>\n      <td>5</td>\n      <td>1</td>\n      <td>12</td>\n      <td>5</td>\n    </tr>\n    <tr>\n      <th>...</th>\n      <td>...</td>\n      <td>...</td>\n      <td>...</td>\n      <td>...</td>\n      <td>...</td>\n      <td>...</td>\n      <td>...</td>\n      <td>...</td>\n      <td>...</td>\n      <td>...</td>\n      <td>...</td>\n      <td>...</td>\n    </tr>\n    <tr>\n      <th>34916</th>\n      <td>Celebrate in style on your birthday in prepara...</td>\n      <td>2021-01-12</td>\n      <td>pisces</td>\n      <td>birthday</td>\n      <td>Стильно отпразднуйте свой день рождения, чтобы...</td>\n      <td>рыбы</td>\n      <td>др</td>\n      <td>1</td>\n      <td>1</td>\n      <td>1</td>\n      <td>12</td>\n      <td>1</td>\n    </tr>\n    <tr>\n      <th>34917</th>\n      <td>Imagine your life as if it was exactly the way...</td>\n      <td>2021-01-13</td>\n      <td>pisces</td>\n      <td>birthday</td>\n      <td>Представьте свою жизнь так, как если бы она бы...</td>\n      <td>рыбы</td>\n      <td>др</td>\n      <td>1</td>\n      <td>2</td>\n      <td>1</td>\n      <td>13</td>\n      <td>2</td>\n    </tr>\n    <tr>\n      <th>34918</th>\n      <td>Fun, playfulness, and humor are easy to manife...</td>\n      <td>2021-01-14</td>\n      <td>pisces</td>\n      <td>birthday</td>\n      <td>Веселье, игривость и юмор легко проявятся в эт...</td>\n      <td>рыбы</td>\n      <td>др</td>\n      <td>1</td>\n      <td>3</td>\n      <td>1</td>\n      <td>14</td>\n      <td>3</td>\n    </tr>\n    <tr>\n      <th>34919</th>\n      <td>Your birthday brings you a fresh start, as you...</td>\n      <td>2021-01-15</td>\n      <td>pisces</td>\n      <td>birthday</td>\n      <td>Ваш день рождения дает вам новое начало, когда...</td>\n      <td>рыбы</td>\n      <td>др</td>\n      <td>1</td>\n      <td>4</td>\n      <td>1</td>\n      <td>15</td>\n      <td>4</td>\n    </tr>\n    <tr>\n      <th>34920</th>\n      <td>You will probably enjoy being the center of at...</td>\n      <td>2021-01-16</td>\n      <td>pisces</td>\n      <td>birthday</td>\n      <td>Вам, вероятно, понравится быть в центре вниман...</td>\n      <td>рыбы</td>\n      <td>др</td>\n      <td>1</td>\n      <td>5</td>\n      <td>1</td>\n      <td>16</td>\n      <td>5</td>\n    </tr>\n  </tbody>\n</table>\n<p>34921 rows × 12 columns</p>\n</div>"
     },
     "execution_count": 43,
     "metadata": {},
     "output_type": "execute_result"
    }
   ],
   "source": [
    "df"
   ],
   "metadata": {
    "collapsed": false,
    "ExecuteTime": {
     "end_time": "2023-05-03T19:36:40.966530Z",
     "start_time": "2023-05-03T19:36:40.962328Z"
    }
   }
  },
  {
   "cell_type": "code",
   "execution_count": 45,
   "outputs": [
    {
     "data": {
      "text/plain": "      category_ru sing_ru       date  month  day  weekday   \n0           общее    овен 2013-01-12      1   12        5  \\\n1           общее    овен 2013-01-12      1   12        5   \n2           общее    овен 2013-01-12      1   12        5   \n3           общее    овен 2013-01-12      1   12        5   \n4           общее    овен 2013-01-12      1   12        5   \n...           ...     ...        ...    ...  ...      ...   \n34916          др    рыбы 2021-01-12      1   12        1   \n34917          др    рыбы 2021-01-13      1   13        2   \n34918          др    рыбы 2021-01-14      1   14        3   \n34919          др    рыбы 2021-01-15      1   15        4   \n34920          др    рыбы 2021-01-16      1   16        5   \n\n                                                 text_ru  \n0       Вы не из тех, кто перестраховывается, и даже ...  \n1       Не бывает чего-то даром, и если вы не совсем ...  \n2       Когда новолуние попадает в одну из самых аван...  \n3       Сегодня вы услышите нечто удивительное, но мо...  \n4      Друг или коллега, которого вы давно не видели,...  \n...                                                  ...  \n34916  Стильно отпразднуйте свой день рождения, чтобы...  \n34917  Представьте свою жизнь так, как если бы она бы...  \n34918  Веселье, игривость и юмор легко проявятся в эт...  \n34919  Ваш день рождения дает вам новое начало, когда...  \n34920  Вам, вероятно, понравится быть в центре вниман...  \n\n[34921 rows x 7 columns]",
      "text/html": "<div>\n<style scoped>\n    .dataframe tbody tr th:only-of-type {\n        vertical-align: middle;\n    }\n\n    .dataframe tbody tr th {\n        vertical-align: top;\n    }\n\n    .dataframe thead th {\n        text-align: right;\n    }\n</style>\n<table border=\"1\" class=\"dataframe\">\n  <thead>\n    <tr style=\"text-align: right;\">\n      <th></th>\n      <th>category_ru</th>\n      <th>sing_ru</th>\n      <th>date</th>\n      <th>month</th>\n      <th>day</th>\n      <th>weekday</th>\n      <th>text_ru</th>\n    </tr>\n  </thead>\n  <tbody>\n    <tr>\n      <th>0</th>\n      <td>общее</td>\n      <td>овен</td>\n      <td>2013-01-12</td>\n      <td>1</td>\n      <td>12</td>\n      <td>5</td>\n      <td>Вы не из тех, кто перестраховывается, и даже ...</td>\n    </tr>\n    <tr>\n      <th>1</th>\n      <td>общее</td>\n      <td>овен</td>\n      <td>2013-01-12</td>\n      <td>1</td>\n      <td>12</td>\n      <td>5</td>\n      <td>Не бывает чего-то даром, и если вы не совсем ...</td>\n    </tr>\n    <tr>\n      <th>2</th>\n      <td>общее</td>\n      <td>овен</td>\n      <td>2013-01-12</td>\n      <td>1</td>\n      <td>12</td>\n      <td>5</td>\n      <td>Когда новолуние попадает в одну из самых аван...</td>\n    </tr>\n    <tr>\n      <th>3</th>\n      <td>общее</td>\n      <td>овен</td>\n      <td>2013-01-12</td>\n      <td>1</td>\n      <td>12</td>\n      <td>5</td>\n      <td>Сегодня вы услышите нечто удивительное, но мо...</td>\n    </tr>\n    <tr>\n      <th>4</th>\n      <td>общее</td>\n      <td>овен</td>\n      <td>2013-01-12</td>\n      <td>1</td>\n      <td>12</td>\n      <td>5</td>\n      <td>Друг или коллега, которого вы давно не видели,...</td>\n    </tr>\n    <tr>\n      <th>...</th>\n      <td>...</td>\n      <td>...</td>\n      <td>...</td>\n      <td>...</td>\n      <td>...</td>\n      <td>...</td>\n      <td>...</td>\n    </tr>\n    <tr>\n      <th>34916</th>\n      <td>др</td>\n      <td>рыбы</td>\n      <td>2021-01-12</td>\n      <td>1</td>\n      <td>12</td>\n      <td>1</td>\n      <td>Стильно отпразднуйте свой день рождения, чтобы...</td>\n    </tr>\n    <tr>\n      <th>34917</th>\n      <td>др</td>\n      <td>рыбы</td>\n      <td>2021-01-13</td>\n      <td>1</td>\n      <td>13</td>\n      <td>2</td>\n      <td>Представьте свою жизнь так, как если бы она бы...</td>\n    </tr>\n    <tr>\n      <th>34918</th>\n      <td>др</td>\n      <td>рыбы</td>\n      <td>2021-01-14</td>\n      <td>1</td>\n      <td>14</td>\n      <td>3</td>\n      <td>Веселье, игривость и юмор легко проявятся в эт...</td>\n    </tr>\n    <tr>\n      <th>34919</th>\n      <td>др</td>\n      <td>рыбы</td>\n      <td>2021-01-15</td>\n      <td>1</td>\n      <td>15</td>\n      <td>4</td>\n      <td>Ваш день рождения дает вам новое начало, когда...</td>\n    </tr>\n    <tr>\n      <th>34920</th>\n      <td>др</td>\n      <td>рыбы</td>\n      <td>2021-01-16</td>\n      <td>1</td>\n      <td>16</td>\n      <td>5</td>\n      <td>Вам, вероятно, понравится быть в центре вниман...</td>\n    </tr>\n  </tbody>\n</table>\n<p>34921 rows × 7 columns</p>\n</div>"
     },
     "execution_count": 45,
     "metadata": {},
     "output_type": "execute_result"
    }
   ],
   "source": [
    "vars = [\"category_ru\",\n",
    "    \"sing_ru\",\n",
    "    \"date\",\n",
    "    \"month\",\n",
    "    \"day\",\n",
    "    \"weekday\",\n",
    "    \"text_ru\"]\n",
    "\n",
    "dataset = df[vars]\n",
    "\n",
    "dataset"
   ],
   "metadata": {
    "collapsed": false,
    "ExecuteTime": {
     "end_time": "2023-05-03T19:36:59.777931Z",
     "start_time": "2023-05-03T19:36:59.773026Z"
    }
   }
  },
  {
   "cell_type": "code",
   "execution_count": 48,
   "outputs": [],
   "source": [
    "dataset.to_csv('data/dataset.csv', sep='\\t', index=False)"
   ],
   "metadata": {
    "collapsed": false,
    "ExecuteTime": {
     "end_time": "2023-05-03T19:40:58.504407Z",
     "start_time": "2023-05-03T19:40:58.258695Z"
    }
   }
  },
  {
   "cell_type": "code",
   "execution_count": null,
   "outputs": [],
   "source": [],
   "metadata": {
    "collapsed": false
   }
  }
 ],
 "metadata": {
  "kernelspec": {
   "display_name": "Python 3",
   "language": "python",
   "name": "python3"
  },
  "language_info": {
   "codemirror_mode": {
    "name": "ipython",
    "version": 2
   },
   "file_extension": ".py",
   "mimetype": "text/x-python",
   "name": "python",
   "nbconvert_exporter": "python",
   "pygments_lexer": "ipython2",
   "version": "2.7.6"
  }
 },
 "nbformat": 4,
 "nbformat_minor": 0
}
