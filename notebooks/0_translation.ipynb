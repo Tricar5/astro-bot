{
 "cells": [
  {
   "cell_type": "code",
   "execution_count": 2,
   "metadata": {
    "collapsed": true,
    "ExecuteTime": {
     "end_time": "2023-05-03T17:50:54.541269Z",
     "start_time": "2023-05-03T17:50:54.532464Z"
    }
   },
   "outputs": [],
   "source": [
    "import os\n",
    "import pathlib\n",
    "\n",
    "ROOT = pathlib.Path().resolve().parent\n",
    "\n",
    "os.chdir(ROOT)"
   ]
  },
  {
   "cell_type": "code",
   "execution_count": 3,
   "outputs": [],
   "source": [
    "import pandas as pd\n",
    "import numpy as np\n",
    "\n"
   ],
   "metadata": {
    "collapsed": false,
    "ExecuteTime": {
     "end_time": "2023-05-03T17:50:59.139541Z",
     "start_time": "2023-05-03T17:50:59.136422Z"
    }
   }
  },
  {
   "cell_type": "markdown",
   "source": [
    "# First dataset"
   ],
   "metadata": {
    "collapsed": false
   }
  },
  {
   "cell_type": "code",
   "execution_count": 18,
   "outputs": [
    {
     "data": {
      "text/plain": "                                                    text        date    sign\n0      You’re not the sort to play safe and even if y...  12-01-2013   aries\n1      There is no such thing as something for nothin...  12-02-2013   aries\n2      As the new moon falls in one of the more adven...  12-03-2013   aries\n3      You will hear something amazing today but can ...  12-04-2013   aries\n4      A friend or colleague you have not seen for a ...  12-05-2013   aries\n...                                                  ...         ...     ...\n12957  You may not like it when things change without...  12-08-2016  pisces\n12958  If a friend or colleague gives you a tip of so...  12-09-2016  pisces\n12959  The Sun joins forces with Saturn in the career...  12-10-2016  pisces\n12960  Why are you so worried Pisces? What could go w...  12-11-2016  pisces\n12961  The Sun in the career area of your chart, link...  12-12-2016  pisces\n\n[12962 rows x 3 columns]",
      "text/html": "<div>\n<style scoped>\n    .dataframe tbody tr th:only-of-type {\n        vertical-align: middle;\n    }\n\n    .dataframe tbody tr th {\n        vertical-align: top;\n    }\n\n    .dataframe thead th {\n        text-align: right;\n    }\n</style>\n<table border=\"1\" class=\"dataframe\">\n  <thead>\n    <tr style=\"text-align: right;\">\n      <th></th>\n      <th>text</th>\n      <th>date</th>\n      <th>sign</th>\n    </tr>\n  </thead>\n  <tbody>\n    <tr>\n      <th>0</th>\n      <td>You’re not the sort to play safe and even if y...</td>\n      <td>12-01-2013</td>\n      <td>aries</td>\n    </tr>\n    <tr>\n      <th>1</th>\n      <td>There is no such thing as something for nothin...</td>\n      <td>12-02-2013</td>\n      <td>aries</td>\n    </tr>\n    <tr>\n      <th>2</th>\n      <td>As the new moon falls in one of the more adven...</td>\n      <td>12-03-2013</td>\n      <td>aries</td>\n    </tr>\n    <tr>\n      <th>3</th>\n      <td>You will hear something amazing today but can ...</td>\n      <td>12-04-2013</td>\n      <td>aries</td>\n    </tr>\n    <tr>\n      <th>4</th>\n      <td>A friend or colleague you have not seen for a ...</td>\n      <td>12-05-2013</td>\n      <td>aries</td>\n    </tr>\n    <tr>\n      <th>...</th>\n      <td>...</td>\n      <td>...</td>\n      <td>...</td>\n    </tr>\n    <tr>\n      <th>12957</th>\n      <td>You may not like it when things change without...</td>\n      <td>12-08-2016</td>\n      <td>pisces</td>\n    </tr>\n    <tr>\n      <th>12958</th>\n      <td>If a friend or colleague gives you a tip of so...</td>\n      <td>12-09-2016</td>\n      <td>pisces</td>\n    </tr>\n    <tr>\n      <th>12959</th>\n      <td>The Sun joins forces with Saturn in the career...</td>\n      <td>12-10-2016</td>\n      <td>pisces</td>\n    </tr>\n    <tr>\n      <th>12960</th>\n      <td>Why are you so worried Pisces? What could go w...</td>\n      <td>12-11-2016</td>\n      <td>pisces</td>\n    </tr>\n    <tr>\n      <th>12961</th>\n      <td>The Sun in the career area of your chart, link...</td>\n      <td>12-12-2016</td>\n      <td>pisces</td>\n    </tr>\n  </tbody>\n</table>\n<p>12962 rows × 3 columns</p>\n</div>"
     },
     "execution_count": 18,
     "metadata": {},
     "output_type": "execute_result"
    }
   ],
   "source": [
    "df_1 = pd.read_csv('data/horoscopes.csv',on_bad_lines=\"skip\", sep=\"|\", header=None)\n",
    "\n",
    "df_1.columns = [\"index\", \"text\", \"date\",\"sign\"]\n",
    "\n",
    "df_1 = df_1.iloc[:,1:]\n"
   ],
   "metadata": {
    "collapsed": false,
    "ExecuteTime": {
     "end_time": "2023-05-03T17:55:31.328706Z",
     "start_time": "2023-05-03T17:55:31.281187Z"
    }
   }
  },
  {
   "cell_type": "code",
   "execution_count": 28,
   "outputs": [],
   "source": [
    "df_1['category'] = 'general'"
   ],
   "metadata": {
    "collapsed": false,
    "ExecuteTime": {
     "end_time": "2023-05-03T18:02:24.794090Z",
     "start_time": "2023-05-03T18:02:24.788173Z"
    }
   }
  },
  {
   "cell_type": "code",
   "execution_count": 22,
   "outputs": [
    {
     "data": {
      "text/plain": "         sign  category      date   \n0       aries   general  20200617  \\\n1       aries   general  20200618   \n2       aries   general  20200619   \n3       aries   general  20200620   \n4       aries   general  20200621   \n...       ...       ...       ...   \n21954  pisces  birthday  20210612   \n21955  pisces  birthday  20210613   \n21956  pisces  birthday  20210614   \n21957  pisces  birthday  20210615   \n21958  pisces  birthday  20210616   \n\n                                               horoscope  \n0      There's a great day ahead of you, Aries. You'l...  \n1      People will understand and appreciate your des...  \n2      You are very interested in technological break...  \n3      Stress from overwork could have you feeling we...  \n4      This is a good day to stand up for yourself an...  \n...                                                  ...  \n21954  Celebrate in style on your birthday in prepara...  \n21955  Imagine your life as if it was exactly the way...  \n21956  Fun, playfulness, and humor are easy to manife...  \n21957  Your birthday brings you a fresh start, as you...  \n21958  You will probably enjoy being the center of at...  \n\n[21959 rows x 4 columns]",
      "text/html": "<div>\n<style scoped>\n    .dataframe tbody tr th:only-of-type {\n        vertical-align: middle;\n    }\n\n    .dataframe tbody tr th {\n        vertical-align: top;\n    }\n\n    .dataframe thead th {\n        text-align: right;\n    }\n</style>\n<table border=\"1\" class=\"dataframe\">\n  <thead>\n    <tr style=\"text-align: right;\">\n      <th></th>\n      <th>sign</th>\n      <th>category</th>\n      <th>date</th>\n      <th>horoscope</th>\n    </tr>\n  </thead>\n  <tbody>\n    <tr>\n      <th>0</th>\n      <td>aries</td>\n      <td>general</td>\n      <td>20200617</td>\n      <td>There's a great day ahead of you, Aries. You'l...</td>\n    </tr>\n    <tr>\n      <th>1</th>\n      <td>aries</td>\n      <td>general</td>\n      <td>20200618</td>\n      <td>People will understand and appreciate your des...</td>\n    </tr>\n    <tr>\n      <th>2</th>\n      <td>aries</td>\n      <td>general</td>\n      <td>20200619</td>\n      <td>You are very interested in technological break...</td>\n    </tr>\n    <tr>\n      <th>3</th>\n      <td>aries</td>\n      <td>general</td>\n      <td>20200620</td>\n      <td>Stress from overwork could have you feeling we...</td>\n    </tr>\n    <tr>\n      <th>4</th>\n      <td>aries</td>\n      <td>general</td>\n      <td>20200621</td>\n      <td>This is a good day to stand up for yourself an...</td>\n    </tr>\n    <tr>\n      <th>...</th>\n      <td>...</td>\n      <td>...</td>\n      <td>...</td>\n      <td>...</td>\n    </tr>\n    <tr>\n      <th>21954</th>\n      <td>pisces</td>\n      <td>birthday</td>\n      <td>20210612</td>\n      <td>Celebrate in style on your birthday in prepara...</td>\n    </tr>\n    <tr>\n      <th>21955</th>\n      <td>pisces</td>\n      <td>birthday</td>\n      <td>20210613</td>\n      <td>Imagine your life as if it was exactly the way...</td>\n    </tr>\n    <tr>\n      <th>21956</th>\n      <td>pisces</td>\n      <td>birthday</td>\n      <td>20210614</td>\n      <td>Fun, playfulness, and humor are easy to manife...</td>\n    </tr>\n    <tr>\n      <th>21957</th>\n      <td>pisces</td>\n      <td>birthday</td>\n      <td>20210615</td>\n      <td>Your birthday brings you a fresh start, as you...</td>\n    </tr>\n    <tr>\n      <th>21958</th>\n      <td>pisces</td>\n      <td>birthday</td>\n      <td>20210616</td>\n      <td>You will probably enjoy being the center of at...</td>\n    </tr>\n  </tbody>\n</table>\n<p>21959 rows × 4 columns</p>\n</div>"
     },
     "execution_count": 22,
     "metadata": {},
     "output_type": "execute_result"
    }
   ],
   "source": [
    "# Second\n",
    "df_2 = pd.read_csv('data/horoscope_saved.csv')\n",
    "df_2"
   ],
   "metadata": {
    "collapsed": false,
    "ExecuteTime": {
     "end_time": "2023-05-03T18:00:27.701381Z",
     "start_time": "2023-05-03T18:00:27.612175Z"
    }
   }
  },
  {
   "cell_type": "code",
   "execution_count": 25,
   "outputs": [
    {
     "data": {
      "text/plain": "         sign  category        date   \n0       aries   general  17-06-2020  \\\n1       aries   general  18-06-2020   \n2       aries   general  19-06-2020   \n3       aries   general  20-06-2020   \n4       aries   general  21-06-2020   \n...       ...       ...         ...   \n21954  pisces  birthday  12-06-2021   \n21955  pisces  birthday  13-06-2021   \n21956  pisces  birthday  14-06-2021   \n21957  pisces  birthday  15-06-2021   \n21958  pisces  birthday  16-06-2021   \n\n                                               horoscope  \n0      There's a great day ahead of you, Aries. You'l...  \n1      People will understand and appreciate your des...  \n2      You are very interested in technological break...  \n3      Stress from overwork could have you feeling we...  \n4      This is a good day to stand up for yourself an...  \n...                                                  ...  \n21954  Celebrate in style on your birthday in prepara...  \n21955  Imagine your life as if it was exactly the way...  \n21956  Fun, playfulness, and humor are easy to manife...  \n21957  Your birthday brings you a fresh start, as you...  \n21958  You will probably enjoy being the center of at...  \n\n[21959 rows x 4 columns]",
      "text/html": "<div>\n<style scoped>\n    .dataframe tbody tr th:only-of-type {\n        vertical-align: middle;\n    }\n\n    .dataframe tbody tr th {\n        vertical-align: top;\n    }\n\n    .dataframe thead th {\n        text-align: right;\n    }\n</style>\n<table border=\"1\" class=\"dataframe\">\n  <thead>\n    <tr style=\"text-align: right;\">\n      <th></th>\n      <th>sign</th>\n      <th>category</th>\n      <th>date</th>\n      <th>horoscope</th>\n    </tr>\n  </thead>\n  <tbody>\n    <tr>\n      <th>0</th>\n      <td>aries</td>\n      <td>general</td>\n      <td>17-06-2020</td>\n      <td>There's a great day ahead of you, Aries. You'l...</td>\n    </tr>\n    <tr>\n      <th>1</th>\n      <td>aries</td>\n      <td>general</td>\n      <td>18-06-2020</td>\n      <td>People will understand and appreciate your des...</td>\n    </tr>\n    <tr>\n      <th>2</th>\n      <td>aries</td>\n      <td>general</td>\n      <td>19-06-2020</td>\n      <td>You are very interested in technological break...</td>\n    </tr>\n    <tr>\n      <th>3</th>\n      <td>aries</td>\n      <td>general</td>\n      <td>20-06-2020</td>\n      <td>Stress from overwork could have you feeling we...</td>\n    </tr>\n    <tr>\n      <th>4</th>\n      <td>aries</td>\n      <td>general</td>\n      <td>21-06-2020</td>\n      <td>This is a good day to stand up for yourself an...</td>\n    </tr>\n    <tr>\n      <th>...</th>\n      <td>...</td>\n      <td>...</td>\n      <td>...</td>\n      <td>...</td>\n    </tr>\n    <tr>\n      <th>21954</th>\n      <td>pisces</td>\n      <td>birthday</td>\n      <td>12-06-2021</td>\n      <td>Celebrate in style on your birthday in prepara...</td>\n    </tr>\n    <tr>\n      <th>21955</th>\n      <td>pisces</td>\n      <td>birthday</td>\n      <td>13-06-2021</td>\n      <td>Imagine your life as if it was exactly the way...</td>\n    </tr>\n    <tr>\n      <th>21956</th>\n      <td>pisces</td>\n      <td>birthday</td>\n      <td>14-06-2021</td>\n      <td>Fun, playfulness, and humor are easy to manife...</td>\n    </tr>\n    <tr>\n      <th>21957</th>\n      <td>pisces</td>\n      <td>birthday</td>\n      <td>15-06-2021</td>\n      <td>Your birthday brings you a fresh start, as you...</td>\n    </tr>\n    <tr>\n      <th>21958</th>\n      <td>pisces</td>\n      <td>birthday</td>\n      <td>16-06-2021</td>\n      <td>You will probably enjoy being the center of at...</td>\n    </tr>\n  </tbody>\n</table>\n<p>21959 rows × 4 columns</p>\n</div>"
     },
     "execution_count": 25,
     "metadata": {},
     "output_type": "execute_result"
    }
   ],
   "source": [
    "df_2['date'] = df_2.date.apply(lambda x: str(x))\n",
    "\n",
    "df_2['date'] = df_2.date.apply(lambda x: f\"{x[6:]}-{x[4:6]}-{x[0:4]}\")"
   ],
   "metadata": {
    "collapsed": false,
    "ExecuteTime": {
     "end_time": "2023-05-03T18:01:03.841963Z",
     "start_time": "2023-05-03T18:01:03.832821Z"
    }
   }
  },
  {
   "cell_type": "code",
   "execution_count": 30,
   "outputs": [
    {
     "data": {
      "text/plain": "         sign  category        date   \n0       aries   general  17-06-2020  \\\n1       aries   general  18-06-2020   \n2       aries   general  19-06-2020   \n3       aries   general  20-06-2020   \n4       aries   general  21-06-2020   \n...       ...       ...         ...   \n21954  pisces  birthday  12-06-2021   \n21955  pisces  birthday  13-06-2021   \n21956  pisces  birthday  14-06-2021   \n21957  pisces  birthday  15-06-2021   \n21958  pisces  birthday  16-06-2021   \n\n                                                    text  \n0      There's a great day ahead of you, Aries. You'l...  \n1      People will understand and appreciate your des...  \n2      You are very interested in technological break...  \n3      Stress from overwork could have you feeling we...  \n4      This is a good day to stand up for yourself an...  \n...                                                  ...  \n21954  Celebrate in style on your birthday in prepara...  \n21955  Imagine your life as if it was exactly the way...  \n21956  Fun, playfulness, and humor are easy to manife...  \n21957  Your birthday brings you a fresh start, as you...  \n21958  You will probably enjoy being the center of at...  \n\n[21959 rows x 4 columns]",
      "text/html": "<div>\n<style scoped>\n    .dataframe tbody tr th:only-of-type {\n        vertical-align: middle;\n    }\n\n    .dataframe tbody tr th {\n        vertical-align: top;\n    }\n\n    .dataframe thead th {\n        text-align: right;\n    }\n</style>\n<table border=\"1\" class=\"dataframe\">\n  <thead>\n    <tr style=\"text-align: right;\">\n      <th></th>\n      <th>sign</th>\n      <th>category</th>\n      <th>date</th>\n      <th>text</th>\n    </tr>\n  </thead>\n  <tbody>\n    <tr>\n      <th>0</th>\n      <td>aries</td>\n      <td>general</td>\n      <td>17-06-2020</td>\n      <td>There's a great day ahead of you, Aries. You'l...</td>\n    </tr>\n    <tr>\n      <th>1</th>\n      <td>aries</td>\n      <td>general</td>\n      <td>18-06-2020</td>\n      <td>People will understand and appreciate your des...</td>\n    </tr>\n    <tr>\n      <th>2</th>\n      <td>aries</td>\n      <td>general</td>\n      <td>19-06-2020</td>\n      <td>You are very interested in technological break...</td>\n    </tr>\n    <tr>\n      <th>3</th>\n      <td>aries</td>\n      <td>general</td>\n      <td>20-06-2020</td>\n      <td>Stress from overwork could have you feeling we...</td>\n    </tr>\n    <tr>\n      <th>4</th>\n      <td>aries</td>\n      <td>general</td>\n      <td>21-06-2020</td>\n      <td>This is a good day to stand up for yourself an...</td>\n    </tr>\n    <tr>\n      <th>...</th>\n      <td>...</td>\n      <td>...</td>\n      <td>...</td>\n      <td>...</td>\n    </tr>\n    <tr>\n      <th>21954</th>\n      <td>pisces</td>\n      <td>birthday</td>\n      <td>12-06-2021</td>\n      <td>Celebrate in style on your birthday in prepara...</td>\n    </tr>\n    <tr>\n      <th>21955</th>\n      <td>pisces</td>\n      <td>birthday</td>\n      <td>13-06-2021</td>\n      <td>Imagine your life as if it was exactly the way...</td>\n    </tr>\n    <tr>\n      <th>21956</th>\n      <td>pisces</td>\n      <td>birthday</td>\n      <td>14-06-2021</td>\n      <td>Fun, playfulness, and humor are easy to manife...</td>\n    </tr>\n    <tr>\n      <th>21957</th>\n      <td>pisces</td>\n      <td>birthday</td>\n      <td>15-06-2021</td>\n      <td>Your birthday brings you a fresh start, as you...</td>\n    </tr>\n    <tr>\n      <th>21958</th>\n      <td>pisces</td>\n      <td>birthday</td>\n      <td>16-06-2021</td>\n      <td>You will probably enjoy being the center of at...</td>\n    </tr>\n  </tbody>\n</table>\n<p>21959 rows × 4 columns</p>\n</div>"
     },
     "execution_count": 30,
     "metadata": {},
     "output_type": "execute_result"
    }
   ],
   "source": [
    "df_2.columns = ['sign', 'category','date','text']\n",
    "\n",
    "df_2"
   ],
   "metadata": {
    "collapsed": false,
    "ExecuteTime": {
     "end_time": "2023-05-03T18:02:52.068087Z",
     "start_time": "2023-05-03T18:02:52.056311Z"
    }
   }
  },
  {
   "cell_type": "code",
   "execution_count": 31,
   "outputs": [
    {
     "data": {
      "text/plain": "                                                    text        date    sign   \n0      You’re not the sort to play safe and even if y...  12-01-2013   aries  \\\n1      There is no such thing as something for nothin...  12-02-2013   aries   \n2      As the new moon falls in one of the more adven...  12-03-2013   aries   \n3      You will hear something amazing today but can ...  12-04-2013   aries   \n4      A friend or colleague you have not seen for a ...  12-05-2013   aries   \n...                                                  ...         ...     ...   \n21954  Celebrate in style on your birthday in prepara...  12-06-2021  pisces   \n21955  Imagine your life as if it was exactly the way...  13-06-2021  pisces   \n21956  Fun, playfulness, and humor are easy to manife...  14-06-2021  pisces   \n21957  Your birthday brings you a fresh start, as you...  15-06-2021  pisces   \n21958  You will probably enjoy being the center of at...  16-06-2021  pisces   \n\n       category  \n0       general  \n1       general  \n2       general  \n3       general  \n4       general  \n...         ...  \n21954  birthday  \n21955  birthday  \n21956  birthday  \n21957  birthday  \n21958  birthday  \n\n[34921 rows x 4 columns]",
      "text/html": "<div>\n<style scoped>\n    .dataframe tbody tr th:only-of-type {\n        vertical-align: middle;\n    }\n\n    .dataframe tbody tr th {\n        vertical-align: top;\n    }\n\n    .dataframe thead th {\n        text-align: right;\n    }\n</style>\n<table border=\"1\" class=\"dataframe\">\n  <thead>\n    <tr style=\"text-align: right;\">\n      <th></th>\n      <th>text</th>\n      <th>date</th>\n      <th>sign</th>\n      <th>category</th>\n    </tr>\n  </thead>\n  <tbody>\n    <tr>\n      <th>0</th>\n      <td>You’re not the sort to play safe and even if y...</td>\n      <td>12-01-2013</td>\n      <td>aries</td>\n      <td>general</td>\n    </tr>\n    <tr>\n      <th>1</th>\n      <td>There is no such thing as something for nothin...</td>\n      <td>12-02-2013</td>\n      <td>aries</td>\n      <td>general</td>\n    </tr>\n    <tr>\n      <th>2</th>\n      <td>As the new moon falls in one of the more adven...</td>\n      <td>12-03-2013</td>\n      <td>aries</td>\n      <td>general</td>\n    </tr>\n    <tr>\n      <th>3</th>\n      <td>You will hear something amazing today but can ...</td>\n      <td>12-04-2013</td>\n      <td>aries</td>\n      <td>general</td>\n    </tr>\n    <tr>\n      <th>4</th>\n      <td>A friend or colleague you have not seen for a ...</td>\n      <td>12-05-2013</td>\n      <td>aries</td>\n      <td>general</td>\n    </tr>\n    <tr>\n      <th>...</th>\n      <td>...</td>\n      <td>...</td>\n      <td>...</td>\n      <td>...</td>\n    </tr>\n    <tr>\n      <th>21954</th>\n      <td>Celebrate in style on your birthday in prepara...</td>\n      <td>12-06-2021</td>\n      <td>pisces</td>\n      <td>birthday</td>\n    </tr>\n    <tr>\n      <th>21955</th>\n      <td>Imagine your life as if it was exactly the way...</td>\n      <td>13-06-2021</td>\n      <td>pisces</td>\n      <td>birthday</td>\n    </tr>\n    <tr>\n      <th>21956</th>\n      <td>Fun, playfulness, and humor are easy to manife...</td>\n      <td>14-06-2021</td>\n      <td>pisces</td>\n      <td>birthday</td>\n    </tr>\n    <tr>\n      <th>21957</th>\n      <td>Your birthday brings you a fresh start, as you...</td>\n      <td>15-06-2021</td>\n      <td>pisces</td>\n      <td>birthday</td>\n    </tr>\n    <tr>\n      <th>21958</th>\n      <td>You will probably enjoy being the center of at...</td>\n      <td>16-06-2021</td>\n      <td>pisces</td>\n      <td>birthday</td>\n    </tr>\n  </tbody>\n</table>\n<p>34921 rows × 4 columns</p>\n</div>"
     },
     "execution_count": 31,
     "metadata": {},
     "output_type": "execute_result"
    }
   ],
   "source": [
    "df = pd.concat([df_1,df_2])\n",
    "\n",
    "df"
   ],
   "metadata": {
    "collapsed": false,
    "ExecuteTime": {
     "end_time": "2023-05-03T18:02:53.330097Z",
     "start_time": "2023-05-03T18:02:53.317056Z"
    }
   }
  },
  {
   "cell_type": "code",
   "execution_count": 39,
   "outputs": [],
   "source": [
    "step = 2000\n",
    "for i in range(0, len(df), step):\n",
    "\n",
    "    df['text'][i:i+step].to_excel(\n",
    "    f\"data/splitted/horoscopes_{i}_{i+step}.xlsx\",\n",
    "    index=False\n",
    ")"
   ],
   "metadata": {
    "collapsed": false,
    "ExecuteTime": {
     "end_time": "2023-05-03T19:01:40.863033Z",
     "start_time": "2023-05-03T19:01:39.708217Z"
    }
   }
  },
  {
   "cell_type": "code",
   "execution_count": 35,
   "outputs": [],
   "source": [
    "# Saving data to Excel\n",
    "df['text'].to_excel(\n",
    "    \"data/horoscopes.xlsx\",\n",
    "    index=False\n",
    ")"
   ],
   "metadata": {
    "collapsed": false,
    "ExecuteTime": {
     "end_time": "2023-05-03T18:05:17.044876Z",
     "start_time": "2023-05-03T18:05:15.945458Z"
    }
   }
  },
  {
   "cell_type": "code",
   "execution_count": 36,
   "outputs": [],
   "source": [
    "df.to_excel(\"data/horoscopes_full.xlsx\")"
   ],
   "metadata": {
    "collapsed": false,
    "ExecuteTime": {
     "end_time": "2023-05-03T18:10:43.401738Z",
     "start_time": "2023-05-03T18:10:40.204372Z"
    }
   }
  },
  {
   "cell_type": "code",
   "execution_count": 44,
   "outputs": [
    {
     "data": {
      "text/plain": "['/Users/andrey/PycharmProjects/horoscope-bot/data/translatted/horoscopes_0_2000.xlsx',\n '/Users/andrey/PycharmProjects/horoscope-bot/data/translatted/horoscopes_10000_12000.xlsx',\n '/Users/andrey/PycharmProjects/horoscope-bot/data/translatted/horoscopes_12000_14000.xlsx',\n '/Users/andrey/PycharmProjects/horoscope-bot/data/translatted/horoscopes_14000_16000.xlsx',\n '/Users/andrey/PycharmProjects/horoscope-bot/data/translatted/horoscopes_16000_18000.xlsx',\n '/Users/andrey/PycharmProjects/horoscope-bot/data/translatted/horoscopes_18000_20000.xlsx',\n '/Users/andrey/PycharmProjects/horoscope-bot/data/translatted/horoscopes_20000_22000.xlsx',\n '/Users/andrey/PycharmProjects/horoscope-bot/data/translatted/horoscopes_2000_4000.xlsx',\n '/Users/andrey/PycharmProjects/horoscope-bot/data/translatted/horoscopes_22000_24000.xlsx',\n '/Users/andrey/PycharmProjects/horoscope-bot/data/translatted/horoscopes_24000_26000.xlsx',\n '/Users/andrey/PycharmProjects/horoscope-bot/data/translatted/horoscopes_26000_28000.xlsx',\n '/Users/andrey/PycharmProjects/horoscope-bot/data/translatted/horoscopes_28000_30000.xlsx',\n '/Users/andrey/PycharmProjects/horoscope-bot/data/translatted/horoscopes_30000_32000.xlsx',\n '/Users/andrey/PycharmProjects/horoscope-bot/data/translatted/horoscopes_32000_34000.xlsx',\n '/Users/andrey/PycharmProjects/horoscope-bot/data/translatted/horoscopes_34000_36000.xlsx',\n '/Users/andrey/PycharmProjects/horoscope-bot/data/translatted/horoscopes_4000_6000.xlsx',\n '/Users/andrey/PycharmProjects/horoscope-bot/data/translatted/horoscopes_6000_8000.xlsx',\n '/Users/andrey/PycharmProjects/horoscope-bot/data/translatted/horoscopes_8000_10000.xlsx']"
     },
     "execution_count": 44,
     "metadata": {},
     "output_type": "execute_result"
    }
   ],
   "source": [
    "# Open translated data_parts\n"
   ],
   "metadata": {
    "collapsed": false,
    "ExecuteTime": {
     "end_time": "2023-05-03T19:15:01.102302Z",
     "start_time": "2023-05-03T19:15:01.098176Z"
    }
   }
  },
  {
   "cell_type": "code",
   "execution_count": 53,
   "outputs": [],
   "source": [
    "filenames = [\n",
    "\"horoscopes_0_2000.xlsx\",\n",
    "\"horoscopes_2000_4000.xlsx\",\n",
    "\"horoscopes_4000_6000.xlsx\",\n",
    "\"horoscopes_6000_8000.xlsx\",\n",
    "\"horoscopes_8000_10000.xlsx\",\n",
    "\"horoscopes_10000_12000.xlsx\",\n",
    "\"horoscopes_12000_14000.xlsx\",\n",
    "\"horoscopes_14000_16000.xlsx\",\n",
    "\"horoscopes_16000_18000.xlsx\",\n",
    "\"horoscopes_18000_20000.xlsx\",\n",
    "\"horoscopes_20000_22000.xlsx\",\n",
    "\"horoscopes_22000_24000.xlsx\",\n",
    "\"horoscopes_24000_26000.xlsx\",\n",
    "\"horoscopes_26000_28000.xlsx\",\n",
    "\"horoscopes_28000_30000.xlsx\",\n",
    "\"horoscopes_30000_32000.xlsx\",\n",
    "'horoscopes_32000_34000.xlsx',\n",
    "\"horoscopes_34000_36000.xlsx\",\n",
    "]\n",
    "\n",
    "filenames = [\"data/translatted/\" + fn for fn in filenames]\n"
   ],
   "metadata": {
    "collapsed": false,
    "ExecuteTime": {
     "end_time": "2023-05-03T19:17:56.971637Z",
     "start_time": "2023-05-03T19:17:56.966183Z"
    }
   }
  },
  {
   "cell_type": "code",
   "execution_count": 54,
   "outputs": [],
   "source": [
    "text_df = pd.DataFrame()\n",
    "\n",
    "for fn in filenames:\n",
    "    temp = pd.read_excel(fn)\n",
    "    text_df = pd.concat([text_df, temp])"
   ],
   "metadata": {
    "collapsed": false,
    "ExecuteTime": {
     "end_time": "2023-05-03T19:17:58.721228Z",
     "start_time": "2023-05-03T19:17:57.603710Z"
    }
   }
  },
  {
   "cell_type": "code",
   "execution_count": 55,
   "outputs": [
    {
     "data": {
      "text/plain": "                                                    text        date    sign   \n0      You’re not the sort to play safe and even if y...  12-01-2013   aries  \\\n1      There is no such thing as something for nothin...  12-02-2013   aries   \n2      As the new moon falls in one of the more adven...  12-03-2013   aries   \n3      You will hear something amazing today but can ...  12-04-2013   aries   \n4      A friend or colleague you have not seen for a ...  12-05-2013   aries   \n...                                                  ...         ...     ...   \n21954  Celebrate in style on your birthday in prepara...  12-06-2021  pisces   \n21955  Imagine your life as if it was exactly the way...  13-06-2021  pisces   \n21956  Fun, playfulness, and humor are easy to manife...  14-06-2021  pisces   \n21957  Your birthday brings you a fresh start, as you...  15-06-2021  pisces   \n21958  You will probably enjoy being the center of at...  16-06-2021  pisces   \n\n       category  \n0       general  \n1       general  \n2       general  \n3       general  \n4       general  \n...         ...  \n21954  birthday  \n21955  birthday  \n21956  birthday  \n21957  birthday  \n21958  birthday  \n\n[34921 rows x 4 columns]",
      "text/html": "<div>\n<style scoped>\n    .dataframe tbody tr th:only-of-type {\n        vertical-align: middle;\n    }\n\n    .dataframe tbody tr th {\n        vertical-align: top;\n    }\n\n    .dataframe thead th {\n        text-align: right;\n    }\n</style>\n<table border=\"1\" class=\"dataframe\">\n  <thead>\n    <tr style=\"text-align: right;\">\n      <th></th>\n      <th>text</th>\n      <th>date</th>\n      <th>sign</th>\n      <th>category</th>\n    </tr>\n  </thead>\n  <tbody>\n    <tr>\n      <th>0</th>\n      <td>You’re not the sort to play safe and even if y...</td>\n      <td>12-01-2013</td>\n      <td>aries</td>\n      <td>general</td>\n    </tr>\n    <tr>\n      <th>1</th>\n      <td>There is no such thing as something for nothin...</td>\n      <td>12-02-2013</td>\n      <td>aries</td>\n      <td>general</td>\n    </tr>\n    <tr>\n      <th>2</th>\n      <td>As the new moon falls in one of the more adven...</td>\n      <td>12-03-2013</td>\n      <td>aries</td>\n      <td>general</td>\n    </tr>\n    <tr>\n      <th>3</th>\n      <td>You will hear something amazing today but can ...</td>\n      <td>12-04-2013</td>\n      <td>aries</td>\n      <td>general</td>\n    </tr>\n    <tr>\n      <th>4</th>\n      <td>A friend or colleague you have not seen for a ...</td>\n      <td>12-05-2013</td>\n      <td>aries</td>\n      <td>general</td>\n    </tr>\n    <tr>\n      <th>...</th>\n      <td>...</td>\n      <td>...</td>\n      <td>...</td>\n      <td>...</td>\n    </tr>\n    <tr>\n      <th>21954</th>\n      <td>Celebrate in style on your birthday in prepara...</td>\n      <td>12-06-2021</td>\n      <td>pisces</td>\n      <td>birthday</td>\n    </tr>\n    <tr>\n      <th>21955</th>\n      <td>Imagine your life as if it was exactly the way...</td>\n      <td>13-06-2021</td>\n      <td>pisces</td>\n      <td>birthday</td>\n    </tr>\n    <tr>\n      <th>21956</th>\n      <td>Fun, playfulness, and humor are easy to manife...</td>\n      <td>14-06-2021</td>\n      <td>pisces</td>\n      <td>birthday</td>\n    </tr>\n    <tr>\n      <th>21957</th>\n      <td>Your birthday brings you a fresh start, as you...</td>\n      <td>15-06-2021</td>\n      <td>pisces</td>\n      <td>birthday</td>\n    </tr>\n    <tr>\n      <th>21958</th>\n      <td>You will probably enjoy being the center of at...</td>\n      <td>16-06-2021</td>\n      <td>pisces</td>\n      <td>birthday</td>\n    </tr>\n  </tbody>\n</table>\n<p>34921 rows × 4 columns</p>\n</div>"
     },
     "execution_count": 55,
     "metadata": {},
     "output_type": "execute_result"
    }
   ],
   "source": [
    "df"
   ],
   "metadata": {
    "collapsed": false,
    "ExecuteTime": {
     "end_time": "2023-05-03T19:18:00.360433Z",
     "start_time": "2023-05-03T19:18:00.356994Z"
    }
   }
  },
  {
   "cell_type": "code",
   "execution_count": 57,
   "outputs": [],
   "source": [
    "df['text_ru'] = text_df['текст'].values"
   ],
   "metadata": {
    "collapsed": false,
    "ExecuteTime": {
     "end_time": "2023-05-03T19:18:21.473449Z",
     "start_time": "2023-05-03T19:18:21.467442Z"
    }
   }
  },
  {
   "cell_type": "code",
   "execution_count": 59,
   "outputs": [],
   "source": [
    "df.to_csv('data/horoscopes_full_google.xlsx', index=False)"
   ],
   "metadata": {
    "collapsed": false,
    "ExecuteTime": {
     "end_time": "2023-05-03T19:19:10.878592Z",
     "start_time": "2023-05-03T19:19:10.484853Z"
    }
   }
  },
  {
   "cell_type": "code",
   "execution_count": null,
   "outputs": [],
   "source": [],
   "metadata": {
    "collapsed": false
   }
  }
 ],
 "metadata": {
  "kernelspec": {
   "display_name": "Python 3",
   "language": "python",
   "name": "python3"
  },
  "language_info": {
   "codemirror_mode": {
    "name": "ipython",
    "version": 2
   },
   "file_extension": ".py",
   "mimetype": "text/x-python",
   "name": "python",
   "nbconvert_exporter": "python",
   "pygments_lexer": "ipython2",
   "version": "2.7.6"
  }
 },
 "nbformat": 4,
 "nbformat_minor": 0
}
