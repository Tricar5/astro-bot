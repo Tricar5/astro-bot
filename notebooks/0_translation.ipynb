{
 "cells": [
  {
   "cell_type": "code",
   "execution_count": 1,
   "metadata": {
    "collapsed": true,
    "ExecuteTime": {
     "end_time": "2023-05-05T16:07:48.925958Z",
     "start_time": "2023-05-05T16:07:48.921476Z"
    }
   },
   "outputs": [],
   "source": [
    "import os\n",
    "import pathlib\n",
    "\n",
    "ROOT = pathlib.Path().resolve().parent\n",
    "\n",
    "os.chdir(ROOT)"
   ]
  },
  {
   "cell_type": "code",
   "execution_count": 2,
   "outputs": [],
   "source": [
    "import pandas as pd\n",
    "import numpy as np\n",
    "\n"
   ],
   "metadata": {
    "collapsed": false,
    "ExecuteTime": {
     "end_time": "2023-05-05T16:07:50.955425Z",
     "start_time": "2023-05-05T16:07:48.926535Z"
    }
   }
  },
  {
   "cell_type": "markdown",
   "source": [
    "# First dataset"
   ],
   "metadata": {
    "collapsed": false
   }
  },
  {
   "cell_type": "code",
   "execution_count": 3,
   "outputs": [],
   "source": [
    "df_1 = pd.read_csv('data/horoscopes.csv',on_bad_lines=\"skip\", sep=\"|\", header=None)\n",
    "\n",
    "df_1.columns = [\"index\", \"text\", \"date\",\"sign\"]\n",
    "\n",
    "df_1 = df_1.iloc[:,1:]\n"
   ],
   "metadata": {
    "collapsed": false,
    "ExecuteTime": {
     "end_time": "2023-05-05T16:07:51.004882Z",
     "start_time": "2023-05-05T16:07:50.956940Z"
    }
   }
  },
  {
   "cell_type": "code",
   "execution_count": 4,
   "outputs": [],
   "source": [
    "df_1['category'] = 'general'"
   ],
   "metadata": {
    "collapsed": false,
    "ExecuteTime": {
     "end_time": "2023-05-05T16:07:51.010030Z",
     "start_time": "2023-05-05T16:07:51.007421Z"
    }
   }
  },
  {
   "cell_type": "code",
   "execution_count": 5,
   "outputs": [
    {
     "data": {
      "text/plain": "         sign  category      date   \n0       aries   general  20200617  \\\n1       aries   general  20200618   \n2       aries   general  20200619   \n3       aries   general  20200620   \n4       aries   general  20200621   \n...       ...       ...       ...   \n21954  pisces  birthday  20210612   \n21955  pisces  birthday  20210613   \n21956  pisces  birthday  20210614   \n21957  pisces  birthday  20210615   \n21958  pisces  birthday  20210616   \n\n                                               horoscope  \n0      There's a great day ahead of you, Aries. You'l...  \n1      People will understand and appreciate your des...  \n2      You are very interested in technological break...  \n3      Stress from overwork could have you feeling we...  \n4      This is a good day to stand up for yourself an...  \n...                                                  ...  \n21954  Celebrate in style on your birthday in prepara...  \n21955  Imagine your life as if it was exactly the way...  \n21956  Fun, playfulness, and humor are easy to manife...  \n21957  Your birthday brings you a fresh start, as you...  \n21958  You will probably enjoy being the center of at...  \n\n[21959 rows x 4 columns]",
      "text/html": "<div>\n<style scoped>\n    .dataframe tbody tr th:only-of-type {\n        vertical-align: middle;\n    }\n\n    .dataframe tbody tr th {\n        vertical-align: top;\n    }\n\n    .dataframe thead th {\n        text-align: right;\n    }\n</style>\n<table border=\"1\" class=\"dataframe\">\n  <thead>\n    <tr style=\"text-align: right;\">\n      <th></th>\n      <th>sign</th>\n      <th>category</th>\n      <th>date</th>\n      <th>horoscope</th>\n    </tr>\n  </thead>\n  <tbody>\n    <tr>\n      <th>0</th>\n      <td>aries</td>\n      <td>general</td>\n      <td>20200617</td>\n      <td>There's a great day ahead of you, Aries. You'l...</td>\n    </tr>\n    <tr>\n      <th>1</th>\n      <td>aries</td>\n      <td>general</td>\n      <td>20200618</td>\n      <td>People will understand and appreciate your des...</td>\n    </tr>\n    <tr>\n      <th>2</th>\n      <td>aries</td>\n      <td>general</td>\n      <td>20200619</td>\n      <td>You are very interested in technological break...</td>\n    </tr>\n    <tr>\n      <th>3</th>\n      <td>aries</td>\n      <td>general</td>\n      <td>20200620</td>\n      <td>Stress from overwork could have you feeling we...</td>\n    </tr>\n    <tr>\n      <th>4</th>\n      <td>aries</td>\n      <td>general</td>\n      <td>20200621</td>\n      <td>This is a good day to stand up for yourself an...</td>\n    </tr>\n    <tr>\n      <th>...</th>\n      <td>...</td>\n      <td>...</td>\n      <td>...</td>\n      <td>...</td>\n    </tr>\n    <tr>\n      <th>21954</th>\n      <td>pisces</td>\n      <td>birthday</td>\n      <td>20210612</td>\n      <td>Celebrate in style on your birthday in prepara...</td>\n    </tr>\n    <tr>\n      <th>21955</th>\n      <td>pisces</td>\n      <td>birthday</td>\n      <td>20210613</td>\n      <td>Imagine your life as if it was exactly the way...</td>\n    </tr>\n    <tr>\n      <th>21956</th>\n      <td>pisces</td>\n      <td>birthday</td>\n      <td>20210614</td>\n      <td>Fun, playfulness, and humor are easy to manife...</td>\n    </tr>\n    <tr>\n      <th>21957</th>\n      <td>pisces</td>\n      <td>birthday</td>\n      <td>20210615</td>\n      <td>Your birthday brings you a fresh start, as you...</td>\n    </tr>\n    <tr>\n      <th>21958</th>\n      <td>pisces</td>\n      <td>birthday</td>\n      <td>20210616</td>\n      <td>You will probably enjoy being the center of at...</td>\n    </tr>\n  </tbody>\n</table>\n<p>21959 rows × 4 columns</p>\n</div>"
     },
     "execution_count": 5,
     "metadata": {},
     "output_type": "execute_result"
    }
   ],
   "source": [
    "# Second\n",
    "df_2 = pd.read_csv('data/horoscope_saved.csv')\n",
    "df_2"
   ],
   "metadata": {
    "collapsed": false,
    "ExecuteTime": {
     "end_time": "2023-05-05T16:07:51.085255Z",
     "start_time": "2023-05-05T16:07:51.012933Z"
    }
   }
  },
  {
   "cell_type": "code",
   "execution_count": 6,
   "outputs": [],
   "source": [
    "df_2['date'] = df_2.date.apply(lambda x: str(x))\n",
    "\n",
    "df_2['date'] = df_2.date.apply(lambda x: f\"{x[6:]}-{x[4:6]}-{x[0:4]}\")"
   ],
   "metadata": {
    "collapsed": false,
    "ExecuteTime": {
     "end_time": "2023-05-05T16:07:51.099797Z",
     "start_time": "2023-05-05T16:07:51.085487Z"
    }
   }
  },
  {
   "cell_type": "code",
   "execution_count": 7,
   "outputs": [
    {
     "data": {
      "text/plain": "         sign  category        date   \n0       aries   general  17-06-2020  \\\n1       aries   general  18-06-2020   \n2       aries   general  19-06-2020   \n3       aries   general  20-06-2020   \n4       aries   general  21-06-2020   \n...       ...       ...         ...   \n21954  pisces  birthday  12-06-2021   \n21955  pisces  birthday  13-06-2021   \n21956  pisces  birthday  14-06-2021   \n21957  pisces  birthday  15-06-2021   \n21958  pisces  birthday  16-06-2021   \n\n                                                    text  \n0      There's a great day ahead of you, Aries. You'l...  \n1      People will understand and appreciate your des...  \n2      You are very interested in technological break...  \n3      Stress from overwork could have you feeling we...  \n4      This is a good day to stand up for yourself an...  \n...                                                  ...  \n21954  Celebrate in style on your birthday in prepara...  \n21955  Imagine your life as if it was exactly the way...  \n21956  Fun, playfulness, and humor are easy to manife...  \n21957  Your birthday brings you a fresh start, as you...  \n21958  You will probably enjoy being the center of at...  \n\n[21959 rows x 4 columns]",
      "text/html": "<div>\n<style scoped>\n    .dataframe tbody tr th:only-of-type {\n        vertical-align: middle;\n    }\n\n    .dataframe tbody tr th {\n        vertical-align: top;\n    }\n\n    .dataframe thead th {\n        text-align: right;\n    }\n</style>\n<table border=\"1\" class=\"dataframe\">\n  <thead>\n    <tr style=\"text-align: right;\">\n      <th></th>\n      <th>sign</th>\n      <th>category</th>\n      <th>date</th>\n      <th>text</th>\n    </tr>\n  </thead>\n  <tbody>\n    <tr>\n      <th>0</th>\n      <td>aries</td>\n      <td>general</td>\n      <td>17-06-2020</td>\n      <td>There's a great day ahead of you, Aries. You'l...</td>\n    </tr>\n    <tr>\n      <th>1</th>\n      <td>aries</td>\n      <td>general</td>\n      <td>18-06-2020</td>\n      <td>People will understand and appreciate your des...</td>\n    </tr>\n    <tr>\n      <th>2</th>\n      <td>aries</td>\n      <td>general</td>\n      <td>19-06-2020</td>\n      <td>You are very interested in technological break...</td>\n    </tr>\n    <tr>\n      <th>3</th>\n      <td>aries</td>\n      <td>general</td>\n      <td>20-06-2020</td>\n      <td>Stress from overwork could have you feeling we...</td>\n    </tr>\n    <tr>\n      <th>4</th>\n      <td>aries</td>\n      <td>general</td>\n      <td>21-06-2020</td>\n      <td>This is a good day to stand up for yourself an...</td>\n    </tr>\n    <tr>\n      <th>...</th>\n      <td>...</td>\n      <td>...</td>\n      <td>...</td>\n      <td>...</td>\n    </tr>\n    <tr>\n      <th>21954</th>\n      <td>pisces</td>\n      <td>birthday</td>\n      <td>12-06-2021</td>\n      <td>Celebrate in style on your birthday in prepara...</td>\n    </tr>\n    <tr>\n      <th>21955</th>\n      <td>pisces</td>\n      <td>birthday</td>\n      <td>13-06-2021</td>\n      <td>Imagine your life as if it was exactly the way...</td>\n    </tr>\n    <tr>\n      <th>21956</th>\n      <td>pisces</td>\n      <td>birthday</td>\n      <td>14-06-2021</td>\n      <td>Fun, playfulness, and humor are easy to manife...</td>\n    </tr>\n    <tr>\n      <th>21957</th>\n      <td>pisces</td>\n      <td>birthday</td>\n      <td>15-06-2021</td>\n      <td>Your birthday brings you a fresh start, as you...</td>\n    </tr>\n    <tr>\n      <th>21958</th>\n      <td>pisces</td>\n      <td>birthday</td>\n      <td>16-06-2021</td>\n      <td>You will probably enjoy being the center of at...</td>\n    </tr>\n  </tbody>\n</table>\n<p>21959 rows × 4 columns</p>\n</div>"
     },
     "execution_count": 7,
     "metadata": {},
     "output_type": "execute_result"
    }
   ],
   "source": [
    "df_2.columns = ['sign', 'category','date','text']\n",
    "\n",
    "df_2"
   ],
   "metadata": {
    "collapsed": false,
    "ExecuteTime": {
     "end_time": "2023-05-05T16:07:51.100292Z",
     "start_time": "2023-05-05T16:07:51.097179Z"
    }
   }
  },
  {
   "cell_type": "code",
   "execution_count": 8,
   "outputs": [
    {
     "data": {
      "text/plain": "                                                    text        date    sign   \n0      You’re not the sort to play safe and even if y...  12-01-2013   aries  \\\n1      There is no such thing as something for nothin...  12-02-2013   aries   \n2      As the new moon falls in one of the more adven...  12-03-2013   aries   \n3      You will hear something amazing today but can ...  12-04-2013   aries   \n4      A friend or colleague you have not seen for a ...  12-05-2013   aries   \n...                                                  ...         ...     ...   \n21954  Celebrate in style on your birthday in prepara...  12-06-2021  pisces   \n21955  Imagine your life as if it was exactly the way...  13-06-2021  pisces   \n21956  Fun, playfulness, and humor are easy to manife...  14-06-2021  pisces   \n21957  Your birthday brings you a fresh start, as you...  15-06-2021  pisces   \n21958  You will probably enjoy being the center of at...  16-06-2021  pisces   \n\n       category  \n0       general  \n1       general  \n2       general  \n3       general  \n4       general  \n...         ...  \n21954  birthday  \n21955  birthday  \n21956  birthday  \n21957  birthday  \n21958  birthday  \n\n[34921 rows x 4 columns]",
      "text/html": "<div>\n<style scoped>\n    .dataframe tbody tr th:only-of-type {\n        vertical-align: middle;\n    }\n\n    .dataframe tbody tr th {\n        vertical-align: top;\n    }\n\n    .dataframe thead th {\n        text-align: right;\n    }\n</style>\n<table border=\"1\" class=\"dataframe\">\n  <thead>\n    <tr style=\"text-align: right;\">\n      <th></th>\n      <th>text</th>\n      <th>date</th>\n      <th>sign</th>\n      <th>category</th>\n    </tr>\n  </thead>\n  <tbody>\n    <tr>\n      <th>0</th>\n      <td>You’re not the sort to play safe and even if y...</td>\n      <td>12-01-2013</td>\n      <td>aries</td>\n      <td>general</td>\n    </tr>\n    <tr>\n      <th>1</th>\n      <td>There is no such thing as something for nothin...</td>\n      <td>12-02-2013</td>\n      <td>aries</td>\n      <td>general</td>\n    </tr>\n    <tr>\n      <th>2</th>\n      <td>As the new moon falls in one of the more adven...</td>\n      <td>12-03-2013</td>\n      <td>aries</td>\n      <td>general</td>\n    </tr>\n    <tr>\n      <th>3</th>\n      <td>You will hear something amazing today but can ...</td>\n      <td>12-04-2013</td>\n      <td>aries</td>\n      <td>general</td>\n    </tr>\n    <tr>\n      <th>4</th>\n      <td>A friend or colleague you have not seen for a ...</td>\n      <td>12-05-2013</td>\n      <td>aries</td>\n      <td>general</td>\n    </tr>\n    <tr>\n      <th>...</th>\n      <td>...</td>\n      <td>...</td>\n      <td>...</td>\n      <td>...</td>\n    </tr>\n    <tr>\n      <th>21954</th>\n      <td>Celebrate in style on your birthday in prepara...</td>\n      <td>12-06-2021</td>\n      <td>pisces</td>\n      <td>birthday</td>\n    </tr>\n    <tr>\n      <th>21955</th>\n      <td>Imagine your life as if it was exactly the way...</td>\n      <td>13-06-2021</td>\n      <td>pisces</td>\n      <td>birthday</td>\n    </tr>\n    <tr>\n      <th>21956</th>\n      <td>Fun, playfulness, and humor are easy to manife...</td>\n      <td>14-06-2021</td>\n      <td>pisces</td>\n      <td>birthday</td>\n    </tr>\n    <tr>\n      <th>21957</th>\n      <td>Your birthday brings you a fresh start, as you...</td>\n      <td>15-06-2021</td>\n      <td>pisces</td>\n      <td>birthday</td>\n    </tr>\n    <tr>\n      <th>21958</th>\n      <td>You will probably enjoy being the center of at...</td>\n      <td>16-06-2021</td>\n      <td>pisces</td>\n      <td>birthday</td>\n    </tr>\n  </tbody>\n</table>\n<p>34921 rows × 4 columns</p>\n</div>"
     },
     "execution_count": 8,
     "metadata": {},
     "output_type": "execute_result"
    }
   ],
   "source": [
    "df = pd.concat([df_1,df_2])\n",
    "\n",
    "df"
   ],
   "metadata": {
    "collapsed": false,
    "ExecuteTime": {
     "end_time": "2023-05-05T16:07:51.122566Z",
     "start_time": "2023-05-05T16:07:51.102125Z"
    }
   }
  },
  {
   "cell_type": "code",
   "execution_count": 9,
   "outputs": [],
   "source": [
    "# Save to docs"
   ],
   "metadata": {
    "collapsed": false,
    "ExecuteTime": {
     "end_time": "2023-05-05T16:07:51.142381Z",
     "start_time": "2023-05-05T16:07:51.111724Z"
    }
   }
  },
  {
   "cell_type": "code",
   "execution_count": 10,
   "outputs": [
    {
     "name": "stdout",
     "output_type": "stream",
     "text": [
      "<class 'pandas.core.frame.DataFrame'>\n",
      "Index: 34905 entries, 0 to 21958\n",
      "Data columns (total 4 columns):\n",
      " #   Column    Non-Null Count  Dtype \n",
      "---  ------    --------------  ----- \n",
      " 0   text      34905 non-null  object\n",
      " 1   date      34905 non-null  object\n",
      " 2   sign      34905 non-null  object\n",
      " 3   category  34905 non-null  object\n",
      "dtypes: object(4)\n",
      "memory usage: 1.3+ MB\n"
     ]
    }
   ],
   "source": [
    "df = df.dropna()\n",
    "df.info()"
   ],
   "metadata": {
    "collapsed": false,
    "ExecuteTime": {
     "end_time": "2023-05-05T16:07:51.219333Z",
     "start_time": "2023-05-05T16:07:51.120457Z"
    }
   }
  },
  {
   "cell_type": "code",
   "execution_count": 18,
   "outputs": [],
   "source": [
    "texts = list(df['text'].values)\n",
    "\n",
    "signs = [s.capitalize() for s in df['sign'].unique()]\n",
    "\n",
    "def prepare_text(t):\n",
    "\n",
    "    for s in signs:\n",
    "        if s in signs:\n",
    "            t = t.replace(s, 'friend')\n",
    "    return t\n",
    "\n",
    "prepped_texts = []\n",
    "\n",
    "for i, text in enumerate(texts):\n",
    "\n",
    "    prepared = f\"{i}. \" + prepare_text(text)\n",
    "    prepped_texts.append(prepared)"
   ],
   "metadata": {
    "collapsed": false,
    "ExecuteTime": {
     "end_time": "2023-05-05T16:08:19.593736Z",
     "start_time": "2023-05-05T16:08:19.419546Z"
    }
   }
  },
  {
   "cell_type": "code",
   "execution_count": 19,
   "outputs": [],
   "source": [
    "from docx import Document"
   ],
   "metadata": {
    "collapsed": false,
    "ExecuteTime": {
     "end_time": "2023-05-05T16:08:19.743622Z",
     "start_time": "2023-05-05T16:08:19.734783Z"
    }
   }
  },
  {
   "cell_type": "code",
   "execution_count": 20,
   "outputs": [
    {
     "name": "stdout",
     "output_type": "stream",
     "text": [
      "34904\n"
     ]
    }
   ],
   "source": [
    "\n",
    "#len(prepped_texts)\n",
    "print(i)"
   ],
   "metadata": {
    "collapsed": false,
    "ExecuteTime": {
     "end_time": "2023-05-05T16:08:20.041860Z",
     "start_time": "2023-05-05T16:08:20.035620Z"
    }
   }
  },
  {
   "cell_type": "code",
   "execution_count": 21,
   "outputs": [],
   "source": [
    "cnt = 0\n",
    "step = 1000\n",
    "\n",
    "for i in range(0, len(prepped_texts), step):\n",
    "\n",
    "    document = Document()\n",
    "    concated_text = \"\\n\".join(prepped_texts[i:i + step])\n",
    "\n",
    "    document.add_paragraph(concated_text)\n",
    "\n",
    "    document.save(f'data/ya_eng/{cnt}.docx')\n",
    "    cnt+=1"
   ],
   "metadata": {
    "collapsed": false,
    "ExecuteTime": {
     "end_time": "2023-05-05T16:08:23.236256Z",
     "start_time": "2023-05-05T16:08:20.567772Z"
    }
   }
  },
  {
   "cell_type": "code",
   "execution_count": 22,
   "outputs": [
    {
     "name": "stdout",
     "output_type": "stream",
     "text": [
      "['0. You’re not the sort to play safe and even if you have been a bit more cautious than usual in recent weeks you will more than make up for it over the next few days. Plan your new adventure today and start working on it tomorrow.', '1. There is no such thing as something for nothing and if you do not quite believe that now you will believe it by the end of the day. If you lose something valuable accept it as the price you must pay to learn this important lesson.', '2. As the new moon falls in one of the more adventurous areas of your chart you will take the kind of risk you might usually steer clear of. No doubt it will surprise a few people, including yourself, when it pays off handsomely.']\n"
     ]
    }
   ],
   "source": [
    "my_texts = prepped_texts[:3]\n",
    "print(my_texts)"
   ],
   "metadata": {
    "collapsed": false,
    "ExecuteTime": {
     "end_time": "2023-05-05T16:08:23.238661Z",
     "start_time": "2023-05-05T16:08:23.236491Z"
    }
   }
  },
  {
   "cell_type": "code",
   "execution_count": null,
   "outputs": [],
   "source": [
    "# Save to"
   ],
   "metadata": {
    "collapsed": false
   }
  },
  {
   "cell_type": "code",
   "execution_count": 25,
   "outputs": [
    {
     "data": {
      "text/plain": "['data/yandex_ru/11.docx',\n 'data/yandex_ru/1.docx',\n 'data/yandex_ru/31.docx',\n 'data/yandex_ru/27.docx',\n 'data/yandex_ru/26.docx',\n 'data/yandex_ru/30.docx',\n 'data/yandex_ru/0.docx',\n 'data/yandex_ru/10.docx',\n 'data/yandex_ru/21.docx',\n 'data/yandex_ru/17.docx',\n 'data/yandex_ru/7.docx',\n 'data/yandex_ru/6.docx',\n 'data/yandex_ru/16.docx',\n 'data/yandex_ru/20.docx',\n 'data/yandex_ru/23.docx',\n 'data/yandex_ru/9.docx',\n 'data/yandex_ru/19.docx',\n 'data/yandex_ru/5.docx',\n 'data/yandex_ru/15.docx',\n 'data/yandex_ru/14.docx',\n 'data/yandex_ru/4.docx',\n 'data/yandex_ru/18.docx',\n 'data/yandex_ru/8.docx',\n 'data/yandex_ru/34.docx',\n 'data/yandex_ru/22.docx',\n 'data/yandex_ru/29.docx',\n 'data/yandex_ru/3.docx',\n 'data/yandex_ru/13.docx',\n 'data/yandex_ru/25.docx',\n 'data/yandex_ru/33.docx',\n 'data/yandex_ru/32.docx',\n 'data/yandex_ru/24.docx',\n 'data/yandex_ru/12.docx',\n 'data/yandex_ru/2.docx',\n 'data/yandex_ru/28.docx']"
     },
     "execution_count": 25,
     "metadata": {},
     "output_type": "execute_result"
    }
   ],
   "source": [
    "# Open translated data_parts\n"
   ],
   "metadata": {
    "collapsed": false,
    "ExecuteTime": {
     "end_time": "2023-05-05T17:09:39.713750Z",
     "start_time": "2023-05-05T17:09:39.707167Z"
    }
   }
  },
  {
   "cell_type": "code",
   "execution_count": 43,
   "outputs": [
    {
     "name": "stdout",
     "output_type": "stream",
     "text": [
      "34905\n"
     ]
    }
   ],
   "source": [
    "# Загрузка текстов\n",
    "import glob\n",
    "from docx import Document\n",
    "\n",
    "# Утилита glob позволяет нам найти все файлы соответсвующие определенному паттерну\n",
    "filenames = glob.glob('data/yandex_ru/*.docx')\n",
    "\n",
    "def convert_doc_to_string(fn):\n",
    "    \"\"\"Функция чтения документа и преобразования его в список строк\"\"\"\n",
    "    doc = Document(fn)\n",
    "    # Здесь мы читаем каждый параграф (он размечается отдельно в Word)\n",
    "    raw_text = doc.paragraphs[0].text\n",
    "\n",
    "    # Разделяем абзацы\n",
    "    list_of_texts = raw_text.split('\\n') # выделяем каждый новый абзац\n",
    "\n",
    "    return list_of_texts\n",
    "\n",
    "texts = []\n",
    "\n",
    "# Загружаем из разных документов в один массив\n",
    "for fn in filenames:\n",
    "\n",
    "    part = convert_doc_to_string(fn)\n",
    "\n",
    "    # Добавляем в общий список\n",
    "    texts.extend(part)\n",
    "\n",
    "print(len(texts))"
   ],
   "metadata": {
    "collapsed": false,
    "ExecuteTime": {
     "end_time": "2023-05-05T17:20:26.190231Z",
     "start_time": "2023-05-05T17:20:25.407870Z"
    }
   }
  },
  {
   "cell_type": "code",
   "execution_count": 68,
   "outputs": [],
   "source": [
    "import re\n",
    "\n",
    "def index_texts(t):\n",
    "\n",
    "    splits = t.split()\n",
    "\n",
    "    return int(re.sub(r'[^0-9]','', splits[0])), \" \".join(splits[1:])\n",
    "\n",
    "indexed = [index_texts(t) for t in texts]\n",
    "\n",
    "indexed = sorted(indexed, key=lambda x: x[0])"
   ],
   "metadata": {
    "collapsed": false,
    "ExecuteTime": {
     "end_time": "2023-05-05T17:29:44.138188Z",
     "start_time": "2023-05-05T17:29:43.968977Z"
    }
   }
  },
  {
   "cell_type": "code",
   "execution_count": 70,
   "outputs": [
    {
     "data": {
      "text/plain": "         idx                                            text_ru\n0          0  Вы не из тех, кто перестраховывается, и даже е...\n1          1  Не существует такого понятия, как \"что-то даро...\n2          2  Поскольку новолуние приходится на одну из наиб...\n3          3  Сегодня вы услышите что-то потрясающее, но мож...\n4          4  Друг или коллега, которого вы давно не видели,...\n...      ...                                                ...\n34900  34900  Отпразднуйте свой день рождения со вкусом, гот...\n34901  34901  Представьте свою жизнь так, как если бы она бы...\n34902  34902  Веселье, игривость и юмор легко проявить в это...\n34903  34903  Ваш день рождения - это новый старт, когда вы ...\n34904  34904  Вероятно, вам понравится быть в центре внимани...\n\n[34905 rows x 2 columns]",
      "text/html": "<div>\n<style scoped>\n    .dataframe tbody tr th:only-of-type {\n        vertical-align: middle;\n    }\n\n    .dataframe tbody tr th {\n        vertical-align: top;\n    }\n\n    .dataframe thead th {\n        text-align: right;\n    }\n</style>\n<table border=\"1\" class=\"dataframe\">\n  <thead>\n    <tr style=\"text-align: right;\">\n      <th></th>\n      <th>idx</th>\n      <th>text_ru</th>\n    </tr>\n  </thead>\n  <tbody>\n    <tr>\n      <th>0</th>\n      <td>0</td>\n      <td>Вы не из тех, кто перестраховывается, и даже е...</td>\n    </tr>\n    <tr>\n      <th>1</th>\n      <td>1</td>\n      <td>Не существует такого понятия, как \"что-то даро...</td>\n    </tr>\n    <tr>\n      <th>2</th>\n      <td>2</td>\n      <td>Поскольку новолуние приходится на одну из наиб...</td>\n    </tr>\n    <tr>\n      <th>3</th>\n      <td>3</td>\n      <td>Сегодня вы услышите что-то потрясающее, но мож...</td>\n    </tr>\n    <tr>\n      <th>4</th>\n      <td>4</td>\n      <td>Друг или коллега, которого вы давно не видели,...</td>\n    </tr>\n    <tr>\n      <th>...</th>\n      <td>...</td>\n      <td>...</td>\n    </tr>\n    <tr>\n      <th>34900</th>\n      <td>34900</td>\n      <td>Отпразднуйте свой день рождения со вкусом, гот...</td>\n    </tr>\n    <tr>\n      <th>34901</th>\n      <td>34901</td>\n      <td>Представьте свою жизнь так, как если бы она бы...</td>\n    </tr>\n    <tr>\n      <th>34902</th>\n      <td>34902</td>\n      <td>Веселье, игривость и юмор легко проявить в это...</td>\n    </tr>\n    <tr>\n      <th>34903</th>\n      <td>34903</td>\n      <td>Ваш день рождения - это новый старт, когда вы ...</td>\n    </tr>\n    <tr>\n      <th>34904</th>\n      <td>34904</td>\n      <td>Вероятно, вам понравится быть в центре внимани...</td>\n    </tr>\n  </tbody>\n</table>\n<p>34905 rows × 2 columns</p>\n</div>"
     },
     "execution_count": 70,
     "metadata": {},
     "output_type": "execute_result"
    }
   ],
   "source": [
    "text_df = pd.DataFrame(data=indexed, columns=['idx', 'text_ru'])\n",
    "text_df"
   ],
   "metadata": {
    "collapsed": false,
    "ExecuteTime": {
     "end_time": "2023-05-05T17:30:19.973861Z",
     "start_time": "2023-05-05T17:30:19.959259Z"
    }
   }
  },
  {
   "cell_type": "code",
   "execution_count": 71,
   "outputs": [
    {
     "name": "stderr",
     "output_type": "stream",
     "text": [
      "/var/folders/s5/4r_7wwf925g2bnv4060z0x400000gn/T/ipykernel_52750/250414474.py:1: SettingWithCopyWarning: \n",
      "A value is trying to be set on a copy of a slice from a DataFrame.\n",
      "Try using .loc[row_indexer,col_indexer] = value instead\n",
      "\n",
      "See the caveats in the documentation: https://pandas.pydata.org/pandas-docs/stable/user_guide/indexing.html#returning-a-view-versus-a-copy\n",
      "  df['text_ru'] = text_df['text_ru'].values\n"
     ]
    }
   ],
   "source": [
    "df['text_ru'] = text_df['text_ru'].values"
   ],
   "metadata": {
    "collapsed": false,
    "ExecuteTime": {
     "end_time": "2023-05-05T17:30:29.179598Z",
     "start_time": "2023-05-05T17:30:29.171263Z"
    }
   }
  },
  {
   "cell_type": "code",
   "execution_count": 73,
   "outputs": [],
   "source": [
    "df.to_csv('data/horoscopes_full_yandex.csv', index=False)"
   ],
   "metadata": {
    "collapsed": false,
    "ExecuteTime": {
     "end_time": "2023-05-05T17:31:01.189707Z",
     "start_time": "2023-05-05T17:31:00.759523Z"
    }
   }
  },
  {
   "cell_type": "code",
   "execution_count": null,
   "outputs": [],
   "source": [],
   "metadata": {
    "collapsed": false
   }
  }
 ],
 "metadata": {
  "kernelspec": {
   "display_name": "Python 3",
   "language": "python",
   "name": "python3"
  },
  "language_info": {
   "codemirror_mode": {
    "name": "ipython",
    "version": 2
   },
   "file_extension": ".py",
   "mimetype": "text/x-python",
   "name": "python",
   "nbconvert_exporter": "python",
   "pygments_lexer": "ipython2",
   "version": "2.7.6"
  }
 },
 "nbformat": 4,
 "nbformat_minor": 0
}
