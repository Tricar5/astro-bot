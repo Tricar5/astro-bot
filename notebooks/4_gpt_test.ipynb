{
 "cells": [
  {
   "cell_type": "code",
   "execution_count": 1,
   "outputs": [],
   "source": [
    "import os\n",
    "import pathlib\n",
    "ROOT = pathlib.Path().resolve().parent\n",
    "\n",
    "os.chdir(ROOT)"
   ],
   "metadata": {
    "collapsed": false,
    "ExecuteTime": {
     "end_time": "2023-05-06T13:48:07.183598Z",
     "start_time": "2023-05-06T13:48:07.105585Z"
    }
   }
  },
  {
   "cell_type": "code",
   "execution_count": 2,
   "outputs": [],
   "source": [
    "from transformers import GPT2LMHeadModel, GPT2Tokenizer"
   ],
   "metadata": {
    "collapsed": false,
    "ExecuteTime": {
     "end_time": "2023-05-06T13:48:09.513994Z",
     "start_time": "2023-05-06T13:48:07.120033Z"
    }
   }
  },
  {
   "cell_type": "code",
   "execution_count": 23,
   "outputs": [],
   "source": [
    "tok = GPT2Tokenizer.from_pretrained(\"models/horoscope_c\")"
   ],
   "metadata": {
    "collapsed": false,
    "ExecuteTime": {
     "end_time": "2023-05-06T13:49:59.862391Z",
     "start_time": "2023-05-06T13:49:59.799928Z"
    }
   }
  },
  {
   "cell_type": "code",
   "execution_count": 24,
   "outputs": [],
   "source": [
    "model = GPT2LMHeadModel.from_pretrained(\"models/horoscope_c\")"
   ],
   "metadata": {
    "collapsed": false,
    "ExecuteTime": {
     "end_time": "2023-05-06T13:50:02.471710Z",
     "start_time": "2023-05-06T13:50:00.087878Z"
    }
   }
  },
  {
   "cell_type": "code",
   "execution_count": 31,
   "outputs": [
    {
     "data": {
      "text/plain": "device(type='cpu')"
     },
     "execution_count": 31,
     "metadata": {},
     "output_type": "execute_result"
    }
   ],
   "source": [
    "import torch\n",
    "\n",
    "torch.device(\"cpu\")"
   ],
   "metadata": {
    "collapsed": false,
    "ExecuteTime": {
     "end_time": "2023-05-06T13:50:22.929120Z",
     "start_time": "2023-05-06T13:50:22.870690Z"
    }
   }
  },
  {
   "cell_type": "markdown",
   "source": [],
   "metadata": {
    "collapsed": false
   }
  },
  {
   "cell_type": "code",
   "execution_count": 26,
   "outputs": [
    {
     "data": {
      "text/plain": "GPT2LMHeadModel(\n  (transformer): GPT2Model(\n    (wte): Embedding(50264, 768)\n    (wpe): Embedding(2048, 768)\n    (drop): Dropout(p=0.1, inplace=False)\n    (h): ModuleList(\n      (0-11): 12 x GPT2Block(\n        (ln_1): LayerNorm((768,), eps=1e-05, elementwise_affine=True)\n        (attn): GPT2Attention(\n          (c_attn): Conv1D()\n          (c_proj): Conv1D()\n          (attn_dropout): Dropout(p=0.1, inplace=False)\n          (resid_dropout): Dropout(p=0.1, inplace=False)\n        )\n        (ln_2): LayerNorm((768,), eps=1e-05, elementwise_affine=True)\n        (mlp): GPT2MLP(\n          (c_fc): Conv1D()\n          (c_proj): Conv1D()\n          (act): NewGELUActivation()\n          (dropout): Dropout(p=0.1, inplace=False)\n        )\n      )\n    )\n    (ln_f): LayerNorm((768,), eps=1e-05, elementwise_affine=True)\n  )\n  (lm_head): Linear(in_features=768, out_features=50264, bias=False)\n)"
     },
     "execution_count": 26,
     "metadata": {},
     "output_type": "execute_result"
    }
   ],
   "source": [
    "model.cpu()"
   ],
   "metadata": {
    "collapsed": false,
    "ExecuteTime": {
     "end_time": "2023-05-06T13:50:04.444849Z",
     "start_time": "2023-05-06T13:50:04.438587Z"
    }
   }
  },
  {
   "cell_type": "raw",
   "source": [
    "def make_prompt(weekday, category, sign):\n",
    "    return f\"<день недели> {weekday} <категория> {category} <знак> {sign} \"\n",
    "\n",
    "def make_full_prompt(weekday, category, sign, text):\n",
    "    return make_prompt(weekday, category, sign) + f\"Гороскоп: {text}\""
   ],
   "metadata": {
    "collapsed": false
   }
  },
  {
   "cell_type": "code",
   "execution_count": 32,
   "outputs": [],
   "source": [
    "def make_prompt(weekday, category, sign):\n",
    "    return f\"день {weekday} категория {category} для знака {sign} \"\n",
    "\n",
    "def make_full_prompt(weekday, category, sign, text):\n",
    "    return make_prompt(weekday, category, sign) + f\"\\nГороскоп: {text}</s>\""
   ],
   "metadata": {
    "collapsed": false,
    "ExecuteTime": {
     "end_time": "2023-05-06T16:39:13.919291Z",
     "start_time": "2023-05-06T16:39:13.918076Z"
    }
   }
  },
  {
   "cell_type": "code",
   "execution_count": 33,
   "outputs": [],
   "source": [
    "import datetime as dt\n",
    "\n",
    "\n",
    "date = \"Суббота\"\n",
    "category = 'Общее'\n",
    "sign = 'Водолей'\n",
    "\n",
    "prompt = make_prompt(date, category, sign)"
   ],
   "metadata": {
    "collapsed": false,
    "ExecuteTime": {
     "end_time": "2023-05-06T16:39:14.221759Z",
     "start_time": "2023-05-06T16:39:14.213100Z"
    }
   }
  },
  {
   "cell_type": "code",
   "execution_count": 36,
   "outputs": [
    {
     "name": "stderr",
     "output_type": "stream",
     "text": [
      "The attention mask and the pad token id were not set. As a consequence, you may observe unexpected behavior. Please pass your input's `attention_mask` to obtain reliable results.\n",
      "Setting `pad_token_id` to `eos_token_id`:50256 for open-end generation.\n"
     ]
    }
   ],
   "source": [
    "inpt = tok.encode(prompt, return_tensors=\"pt\")\n",
    "out = model.generate(inpt.cpu(), max_length=500, repetition_penalty=5.0, do_sample=True, top_k=5, top_p=0.95, temperature=0.5)"
   ],
   "metadata": {
    "collapsed": false,
    "ExecuteTime": {
     "end_time": "2023-05-06T16:39:58.567242Z",
     "start_time": "2023-05-06T16:39:46.648578Z"
    }
   }
  },
  {
   "cell_type": "code",
   "execution_count": 38,
   "outputs": [
    {
     "name": "stdout",
     "output_type": "stream",
     "text": [
      "день Суббота категория Общее для знака Водолей \n",
      "\n",
      "['день Суббота категория Общее для знака Водолей  Гороскоп: Вы можете чувствовать себя немного подавленным, и это хорошо. Однако в течение следующих нескольких дней вы обнаружите источник беспокойства внутри вас - скорее всего он связан с вашей работой или домом! Не позволяй этому помешать тебе быть счастливым – просто будь самим собой сегодня вечером на работе вместо того чтобы притворяться веселым человеком из прошлого', '<категория> общее <знак телец гороскоп дня / любовь по-прежнему остается довольно напряженной; возможно даже что она не совсем такая уж хорошая вещь как кажется поначалу (хотя вам может казаться), но если у нее есть шанс снова стать хорошей идеей завтрашнего вечера все должно наладиться к лучшему прямо сейчас)). Если ты хочешь сделать правильный выбор между любовью до конца года вперед за тебя либо ради своего собственного будущего ребенка тогда дерзай!!\" ', ' > Вторник \"Март\": Сегодняшнее планетарное выравнивание дает возможность провести день со своим любимым романтическим партнером наедине без необходимости устраивать сцену ревности друг друга во время работы над проектом дома вместе под влиянием сегодняшнего аспекта игры небесных тел этого месяца\". Это могло бы значительно улучшить ваше взаимопонимание при общении практически обо всем остальном мире вокруг вашего общего блага так же быстро после начала недели смеха здесь тоже могут происходить смешанные события.) Приятного Вам настроения!)/img src=\"http://www7daysoutheastwestroads4magazine/...✂\"> Среда Солнце покидает ваш знак рождения 20 числа текущего лунника примерно через неделю от момента его выхода наружу 23–го февраля соответственно тому моменту времени суток перед тем моментом когда ваша жизнь станет более спокойной эмоционально чем обычно? Ты знаешь ответ?) Тогда сделай первый шаг навстречу своему будущему партнеру позже этим утром пораньше ночью где то там.. Или вообще забудь об этом никогда больше ни ногой… И да будет светлее всегда... Завтрашняя смена знаков Солнца означает начало нового цикла жизни уже близко год назад... Удачи Тебе весь этот долгий путь!\" © Copyright : Апрельский транзит приносит ощущение решимости идти куда угодно только зная направление ветра переменой звездности 21st century in the planetary region of your life and its impact on other people\\'s lives by taking carefully examination into their own ways to achieve these goals without using a steady expansion or change techniques like those used previously employed methods for making things easier than today’ time. By contrast this is nothing but rather an opportunity which can be achieved with great energy through our respective fieldsets as far away']\n"
     ]
    }
   ],
   "source": [
    "print(prompt)\n",
    "print()\n",
    "print(tok.decode(out[0]).split('\\n'))"
   ],
   "metadata": {
    "collapsed": false,
    "ExecuteTime": {
     "end_time": "2023-05-06T16:39:59.931895Z",
     "start_time": "2023-05-06T16:39:59.927275Z"
    }
   }
  },
  {
   "cell_type": "code",
   "execution_count": null,
   "outputs": [],
   "source": [],
   "metadata": {
    "collapsed": false
   }
  }
 ],
 "metadata": {
  "kernelspec": {
   "display_name": "Python 3",
   "language": "python",
   "name": "python3"
  },
  "language_info": {
   "codemirror_mode": {
    "name": "ipython",
    "version": 2
   },
   "file_extension": ".py",
   "mimetype": "text/x-python",
   "name": "python",
   "nbconvert_exporter": "python",
   "pygments_lexer": "ipython2",
   "version": "2.7.6"
  }
 },
 "nbformat": 4,
 "nbformat_minor": 0
}
