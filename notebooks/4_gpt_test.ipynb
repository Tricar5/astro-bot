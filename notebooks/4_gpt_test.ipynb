{
 "cells": [
  {
   "cell_type": "code",
   "execution_count": 2,
   "outputs": [],
   "source": [
    "import os\n",
    "import pathlib\n",
    "ROOT = pathlib.Path().resolve().parent\n",
    "\n",
    "os.chdir(ROOT)"
   ],
   "metadata": {
    "collapsed": false,
    "ExecuteTime": {
     "end_time": "2023-05-04T19:14:21.963394Z",
     "start_time": "2023-05-04T19:14:21.961399Z"
    }
   }
  },
  {
   "cell_type": "code",
   "execution_count": 3,
   "outputs": [],
   "source": [
    "from transformers import GPT2LMHeadModel, GPT2Tokenizer"
   ],
   "metadata": {
    "collapsed": false,
    "ExecuteTime": {
     "end_time": "2023-05-04T19:14:22.268160Z",
     "start_time": "2023-05-04T19:14:22.267056Z"
    }
   }
  },
  {
   "cell_type": "code",
   "execution_count": 4,
   "outputs": [],
   "source": [
    "tok = GPT2Tokenizer.from_pretrained(\"models/horoscope\")"
   ],
   "metadata": {
    "collapsed": false,
    "ExecuteTime": {
     "end_time": "2023-05-04T19:14:44.099794Z",
     "start_time": "2023-05-04T19:14:44.035152Z"
    }
   }
  },
  {
   "cell_type": "code",
   "execution_count": 5,
   "outputs": [],
   "source": [
    "model = GPT2LMHeadModel.from_pretrained(\"models/horoscope\")"
   ],
   "metadata": {
    "collapsed": false,
    "ExecuteTime": {
     "end_time": "2023-05-04T19:14:47.333040Z",
     "start_time": "2023-05-04T19:14:45.242719Z"
    }
   }
  },
  {
   "cell_type": "code",
   "execution_count": 13,
   "outputs": [
    {
     "data": {
      "text/plain": "device(type='mps')"
     },
     "execution_count": 13,
     "metadata": {},
     "output_type": "execute_result"
    }
   ],
   "source": [
    "import torch\n",
    "\n",
    "torch.device(\"mps\")"
   ],
   "metadata": {
    "collapsed": false,
    "ExecuteTime": {
     "end_time": "2023-05-04T19:16:48.452187Z",
     "start_time": "2023-05-04T19:16:48.435421Z"
    }
   }
  },
  {
   "cell_type": "code",
   "execution_count": 15,
   "outputs": [
    {
     "data": {
      "text/plain": "GPT2LMHeadModel(\n  (transformer): GPT2Model(\n    (wte): Embedding(50264, 768)\n    (wpe): Embedding(2048, 768)\n    (drop): Dropout(p=0.1, inplace=False)\n    (h): ModuleList(\n      (0-11): 12 x GPT2Block(\n        (ln_1): LayerNorm((768,), eps=1e-05, elementwise_affine=True)\n        (attn): GPT2Attention(\n          (c_attn): Conv1D()\n          (c_proj): Conv1D()\n          (attn_dropout): Dropout(p=0.1, inplace=False)\n          (resid_dropout): Dropout(p=0.1, inplace=False)\n        )\n        (ln_2): LayerNorm((768,), eps=1e-05, elementwise_affine=True)\n        (mlp): GPT2MLP(\n          (c_fc): Conv1D()\n          (c_proj): Conv1D()\n          (act): NewGELUActivation()\n          (dropout): Dropout(p=0.1, inplace=False)\n        )\n      )\n    )\n    (ln_f): LayerNorm((768,), eps=1e-05, elementwise_affine=True)\n  )\n  (lm_head): Linear(in_features=768, out_features=50264, bias=False)\n)"
     },
     "execution_count": 15,
     "metadata": {},
     "output_type": "execute_result"
    }
   ],
   "source": [
    "model.cpu()"
   ],
   "metadata": {
    "collapsed": false,
    "ExecuteTime": {
     "end_time": "2023-05-04T19:17:01.939980Z",
     "start_time": "2023-05-04T19:17:01.934069Z"
    }
   }
  },
  {
   "cell_type": "code",
   "execution_count": 30,
   "outputs": [],
   "source": [
    "def make_prompt(category, sign):\n",
    "    return f\"<категория> {category} <знак> {sign}\"\n",
    "\n",
    "def make_full_prompt(category, sign, text):\n",
    "    return make_prompt(category, sign) + f\" <гороскоп>: {text}\"\n",
    "\n",
    "category = 'общее'\n",
    "sign = 'рак'\n",
    "\n",
    "text = make_full_prompt(category, sign, \"\")"
   ],
   "metadata": {
    "collapsed": false,
    "ExecuteTime": {
     "end_time": "2023-05-04T19:28:49.917459Z",
     "start_time": "2023-05-04T19:28:49.912078Z"
    }
   }
  },
  {
   "cell_type": "code",
   "execution_count": 31,
   "outputs": [
    {
     "name": "stderr",
     "output_type": "stream",
     "text": [
      "The attention mask and the pad token id were not set. As a consequence, you may observe unexpected behavior. Please pass your input's `attention_mask` to obtain reliable results.\n",
      "Setting `pad_token_id` to `eos_token_id`:50256 for open-end generation.\n"
     ]
    }
   ],
   "source": [
    "inpt = tok.encode(text, return_tensors=\"pt\")\n",
    "out = model.generate(inpt.cpu(), max_length=500, repetition_penalty=5.0, do_sample=True, top_k=5, top_p=0.95, temperature=1)"
   ],
   "metadata": {
    "collapsed": false,
    "ExecuteTime": {
     "end_time": "2023-05-04T19:29:02.794343Z",
     "start_time": "2023-05-04T19:28:50.392865Z"
    }
   }
  },
  {
   "cell_type": "code",
   "execution_count": 32,
   "outputs": [
    {
     "name": "stdout",
     "output_type": "stream",
     "text": [
      "Предсказания для категории: общее.\n",
      "Знак: рак\n",
      "\n",
      "<категория> общее <знак> рак <гороскоп>:  Вы можете быть удивлены тем, как много людей доверяют вам сегодня. Если вы не будете осторожны в том общении с людьми или их действиях — даже если это всего лишь слова для них и ничего более серьезного на вашем пути нет! Не будьте слишком строги к себе по этому поводу – просто делайте то же самое со своей уверенностью\n"
     ]
    }
   ],
   "source": [
    "\n",
    "print(f\"Предсказания для категории: {category}.\\nЗнак: {sign}\")\n",
    "print()\n",
    "print(tok.decode(out[0]).split('\\n')[0])"
   ],
   "metadata": {
    "collapsed": false,
    "ExecuteTime": {
     "end_time": "2023-05-04T19:29:02.799164Z",
     "start_time": "2023-05-04T19:29:02.793660Z"
    }
   }
  },
  {
   "cell_type": "code",
   "execution_count": null,
   "outputs": [],
   "source": [],
   "metadata": {
    "collapsed": false
   }
  }
 ],
 "metadata": {
  "kernelspec": {
   "display_name": "Python 3",
   "language": "python",
   "name": "python3"
  },
  "language_info": {
   "codemirror_mode": {
    "name": "ipython",
    "version": 2
   },
   "file_extension": ".py",
   "mimetype": "text/x-python",
   "name": "python",
   "nbconvert_exporter": "python",
   "pygments_lexer": "ipython2",
   "version": "2.7.6"
  }
 },
 "nbformat": 4,
 "nbformat_minor": 0
}
