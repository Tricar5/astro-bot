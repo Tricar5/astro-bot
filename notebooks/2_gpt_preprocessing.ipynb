{
 "cells": [
  {
   "cell_type": "markdown",
   "source": [
    "# Подготовка данных"
   ],
   "metadata": {
    "collapsed": false
   }
  },
  {
   "cell_type": "raw",
   "source": [
    "import os\n",
    "import pathlib\n",
    "\n",
    "ROOT = pathlib.Path().resolve().parent\n",
    "\n",
    "os.chdir(ROOT)"
   ],
   "metadata": {
    "collapsed": false
   }
  },
  {
   "cell_type": "code",
   "execution_count": 1,
   "outputs": [],
   "source": [
    "import pandas as pd\n",
    "import numpy as np\n",
    "import pathlib\n",
    "import sys\n",
    "\n",
    "ROOT = pathlib.Path().resolve().parent\n",
    "\n",
    "sys.path.insert(0, str(ROOT))\n",
    "\n",
    "df = pd.read_csv(ROOT / 'data/dataset.csv', sep='\\t')\n",
    "df['date'] = pd.to_datetime(df['date'], format='%Y-%m-%d')"
   ],
   "metadata": {
    "collapsed": false,
    "ExecuteTime": {
     "end_time": "2023-05-07T20:04:38.290201Z",
     "start_time": "2023-05-07T20:04:37.203163Z"
    }
   }
  },
  {
   "cell_type": "markdown",
   "source": [],
   "metadata": {
    "collapsed": false
   }
  },
  {
   "cell_type": "markdown",
   "source": [
    "## Transformers\n",
    "\n",
    "Есть пример похожей работы на transformers [ссылка](https://huggingface.co/shahp7575/gpt2-horoscopes)\n",
    "\n",
    "\n",
    "**Для работы модели текстовой генерации необходимо несколько вещей:**\n",
    "\n",
    "1. Предобученная модель на массиве текстов\n",
    "2. Адекватный векторный промт - то, что модель будет продолжать\n",
    "\n",
    "В качестве фичеров для такой маски мы предлагаем использовать следующий подход:\n",
    "\n",
    "`<Категория> {Категория} <День недели>`\n"
   ],
   "metadata": {
    "collapsed": false
   }
  },
  {
   "cell_type": "raw",
   "source": [
    "def make_prompt(weekday, category, sign):\n",
    "    return f\"<s> день {weekday} категория {category} для знака {sign} \"\n",
    "\n",
    "def make_full_prompt(weekday, category, sign, text):\n",
    "    return make_prompt(weekday, category, sign) + f\"\\nГороскоп: {text}</s>\""
   ],
   "metadata": {
    "collapsed": false
   }
  },
  {
   "cell_type": "code",
   "execution_count": 2,
   "outputs": [
    {
     "data": {
      "text/plain": "        sing_ru       date  month  day  weekday   weekday_ru   \n0          овен 2004-01-01      1    1        3      Четверг  \\\n1         телец 2004-01-01      1    1        3      Четверг   \n2      близнецы 2004-01-01      1    1        3      Четверг   \n3           рак 2004-01-01      1    1        3      Четверг   \n4           лев 2004-01-01      1    1        3      Четверг   \n...         ...        ...    ...  ...      ...          ...   \n79291  скорпион 2023-01-01      1    1        6  Воскресенье   \n79292   стрелец 2023-01-01      1    1        6  Воскресенье   \n79293   козерог 2023-01-01      1    1        6  Воскресенье   \n79294   водолей 2023-01-01      1    1        6  Воскресенье   \n79295      рыбы 2023-01-01      1    1        6  Воскресенье   \n\n                                                    text date_fmt  \n0      Любые разногласия во мнениях скоро улягутся, а...    01-01  \n1      Первый день нового года прекрасно подходит для...    01-01  \n2      Этот день как нельзя лучше подходит для улучше...    01-01  \n3      Первый день нового года, да еще понедельник бу...    01-01  \n4      Львы не сорвутся в начале года с места в карье...    01-01  \n...                                                  ...      ...  \n79291  Сегодня Скорпионов поглотит новогодняя суета –...    01-01  \n79292  Сегодня у Стрельцов не все идет по плану, и, в...    01-01  \n79293  Сегодня Козерогам стоит быть во всем осторожне...    01-01  \n79294  Сегодня Водолеям придется подстраиваться под о...    01-01  \n79295  Сегодня Рыбам не стоит ждать от окружающих мно...    01-01  \n\n[79296 rows x 8 columns]",
      "text/html": "<div>\n<style scoped>\n    .dataframe tbody tr th:only-of-type {\n        vertical-align: middle;\n    }\n\n    .dataframe tbody tr th {\n        vertical-align: top;\n    }\n\n    .dataframe thead th {\n        text-align: right;\n    }\n</style>\n<table border=\"1\" class=\"dataframe\">\n  <thead>\n    <tr style=\"text-align: right;\">\n      <th></th>\n      <th>sing_ru</th>\n      <th>date</th>\n      <th>month</th>\n      <th>day</th>\n      <th>weekday</th>\n      <th>weekday_ru</th>\n      <th>text</th>\n      <th>date_fmt</th>\n    </tr>\n  </thead>\n  <tbody>\n    <tr>\n      <th>0</th>\n      <td>овен</td>\n      <td>2004-01-01</td>\n      <td>1</td>\n      <td>1</td>\n      <td>3</td>\n      <td>Четверг</td>\n      <td>Любые разногласия во мнениях скоро улягутся, а...</td>\n      <td>01-01</td>\n    </tr>\n    <tr>\n      <th>1</th>\n      <td>телец</td>\n      <td>2004-01-01</td>\n      <td>1</td>\n      <td>1</td>\n      <td>3</td>\n      <td>Четверг</td>\n      <td>Первый день нового года прекрасно подходит для...</td>\n      <td>01-01</td>\n    </tr>\n    <tr>\n      <th>2</th>\n      <td>близнецы</td>\n      <td>2004-01-01</td>\n      <td>1</td>\n      <td>1</td>\n      <td>3</td>\n      <td>Четверг</td>\n      <td>Этот день как нельзя лучше подходит для улучше...</td>\n      <td>01-01</td>\n    </tr>\n    <tr>\n      <th>3</th>\n      <td>рак</td>\n      <td>2004-01-01</td>\n      <td>1</td>\n      <td>1</td>\n      <td>3</td>\n      <td>Четверг</td>\n      <td>Первый день нового года, да еще понедельник бу...</td>\n      <td>01-01</td>\n    </tr>\n    <tr>\n      <th>4</th>\n      <td>лев</td>\n      <td>2004-01-01</td>\n      <td>1</td>\n      <td>1</td>\n      <td>3</td>\n      <td>Четверг</td>\n      <td>Львы не сорвутся в начале года с места в карье...</td>\n      <td>01-01</td>\n    </tr>\n    <tr>\n      <th>...</th>\n      <td>...</td>\n      <td>...</td>\n      <td>...</td>\n      <td>...</td>\n      <td>...</td>\n      <td>...</td>\n      <td>...</td>\n      <td>...</td>\n    </tr>\n    <tr>\n      <th>79291</th>\n      <td>скорпион</td>\n      <td>2023-01-01</td>\n      <td>1</td>\n      <td>1</td>\n      <td>6</td>\n      <td>Воскресенье</td>\n      <td>Сегодня Скорпионов поглотит новогодняя суета –...</td>\n      <td>01-01</td>\n    </tr>\n    <tr>\n      <th>79292</th>\n      <td>стрелец</td>\n      <td>2023-01-01</td>\n      <td>1</td>\n      <td>1</td>\n      <td>6</td>\n      <td>Воскресенье</td>\n      <td>Сегодня у Стрельцов не все идет по плану, и, в...</td>\n      <td>01-01</td>\n    </tr>\n    <tr>\n      <th>79293</th>\n      <td>козерог</td>\n      <td>2023-01-01</td>\n      <td>1</td>\n      <td>1</td>\n      <td>6</td>\n      <td>Воскресенье</td>\n      <td>Сегодня Козерогам стоит быть во всем осторожне...</td>\n      <td>01-01</td>\n    </tr>\n    <tr>\n      <th>79294</th>\n      <td>водолей</td>\n      <td>2023-01-01</td>\n      <td>1</td>\n      <td>1</td>\n      <td>6</td>\n      <td>Воскресенье</td>\n      <td>Сегодня Водолеям придется подстраиваться под о...</td>\n      <td>01-01</td>\n    </tr>\n    <tr>\n      <th>79295</th>\n      <td>рыбы</td>\n      <td>2023-01-01</td>\n      <td>1</td>\n      <td>1</td>\n      <td>6</td>\n      <td>Воскресенье</td>\n      <td>Сегодня Рыбам не стоит ждать от окружающих мно...</td>\n      <td>01-01</td>\n    </tr>\n  </tbody>\n</table>\n<p>79296 rows × 8 columns</p>\n</div>"
     },
     "execution_count": 2,
     "metadata": {},
     "output_type": "execute_result"
    }
   ],
   "source": [
    "df['date_fmt'] = df['date'].dt.strftime(\"%m-%d\")\n",
    "df"
   ],
   "metadata": {
    "collapsed": false,
    "ExecuteTime": {
     "end_time": "2023-05-07T20:04:38.446827Z",
     "start_time": "2023-05-07T20:04:38.291144Z"
    }
   }
  },
  {
   "cell_type": "code",
   "execution_count": 6,
   "outputs": [],
   "source": [
    "def make_prompt(date, sign):\n",
    "    return f\"<s> день {date} знак {sign} Гороскоп: \"\n",
    "\n",
    "def make_full_prompt(date, sign, text=\"\"):\n",
    "    return make_prompt(date, sign) + f\"{text} <\\s>\""
   ],
   "metadata": {
    "collapsed": false,
    "ExecuteTime": {
     "end_time": "2023-05-07T20:04:49.843467Z",
     "start_time": "2023-05-07T20:04:49.837130Z"
    }
   }
  },
  {
   "cell_type": "code",
   "execution_count": 7,
   "outputs": [
    {
     "data": {
      "text/plain": "'<s> день 05-07 знак Рыбы Гороскоп:  <\\\\s>'"
     },
     "execution_count": 7,
     "metadata": {},
     "output_type": "execute_result"
    }
   ],
   "source": [
    "from datetime import datetime as dt\n",
    "\n",
    "make_full_prompt(dt.now().strftime(\"%m-%d\"), \"Рыбы\")"
   ],
   "metadata": {
    "collapsed": false,
    "ExecuteTime": {
     "end_time": "2023-05-07T20:04:50.235148Z",
     "start_time": "2023-05-07T20:04:50.226891Z"
    }
   }
  },
  {
   "cell_type": "code",
   "execution_count": 8,
   "outputs": [
    {
     "data": {
      "text/plain": "        sing_ru       date  month  day  weekday   weekday_ru   \n0          овен 2004-01-01      1    1        3      Четверг  \\\n1         телец 2004-01-01      1    1        3      Четверг   \n2      близнецы 2004-01-01      1    1        3      Четверг   \n3           рак 2004-01-01      1    1        3      Четверг   \n4           лев 2004-01-01      1    1        3      Четверг   \n...         ...        ...    ...  ...      ...          ...   \n79291  скорпион 2023-01-01      1    1        6  Воскресенье   \n79292   стрелец 2023-01-01      1    1        6  Воскресенье   \n79293   козерог 2023-01-01      1    1        6  Воскресенье   \n79294   водолей 2023-01-01      1    1        6  Воскресенье   \n79295      рыбы 2023-01-01      1    1        6  Воскресенье   \n\n                                                    text date_fmt   \n0      Любые разногласия во мнениях скоро улягутся, а...    01-01  \\\n1      Первый день нового года прекрасно подходит для...    01-01   \n2      Этот день как нельзя лучше подходит для улучше...    01-01   \n3      Первый день нового года, да еще понедельник бу...    01-01   \n4      Львы не сорвутся в начале года с места в карье...    01-01   \n...                                                  ...      ...   \n79291  Сегодня Скорпионов поглотит новогодняя суета –...    01-01   \n79292  Сегодня у Стрельцов не все идет по плану, и, в...    01-01   \n79293  Сегодня Козерогам стоит быть во всем осторожне...    01-01   \n79294  Сегодня Водолеям придется подстраиваться под о...    01-01   \n79295  Сегодня Рыбам не стоит ждать от окружающих мно...    01-01   \n\n                                      features  \n0          <s> день 01-01 знак овен Гороскоп:   \n1         <s> день 01-01 знак телец Гороскоп:   \n2      <s> день 01-01 знак близнецы Гороскоп:   \n3           <s> день 01-01 знак рак Гороскоп:   \n4           <s> день 01-01 знак лев Гороскоп:   \n...                                        ...  \n79291  <s> день 01-01 знак скорпион Гороскоп:   \n79292   <s> день 01-01 знак стрелец Гороскоп:   \n79293   <s> день 01-01 знак козерог Гороскоп:   \n79294   <s> день 01-01 знак водолей Гороскоп:   \n79295      <s> день 01-01 знак рыбы Гороскоп:   \n\n[79296 rows x 9 columns]",
      "text/html": "<div>\n<style scoped>\n    .dataframe tbody tr th:only-of-type {\n        vertical-align: middle;\n    }\n\n    .dataframe tbody tr th {\n        vertical-align: top;\n    }\n\n    .dataframe thead th {\n        text-align: right;\n    }\n</style>\n<table border=\"1\" class=\"dataframe\">\n  <thead>\n    <tr style=\"text-align: right;\">\n      <th></th>\n      <th>sing_ru</th>\n      <th>date</th>\n      <th>month</th>\n      <th>day</th>\n      <th>weekday</th>\n      <th>weekday_ru</th>\n      <th>text</th>\n      <th>date_fmt</th>\n      <th>features</th>\n    </tr>\n  </thead>\n  <tbody>\n    <tr>\n      <th>0</th>\n      <td>овен</td>\n      <td>2004-01-01</td>\n      <td>1</td>\n      <td>1</td>\n      <td>3</td>\n      <td>Четверг</td>\n      <td>Любые разногласия во мнениях скоро улягутся, а...</td>\n      <td>01-01</td>\n      <td>&lt;s&gt; день 01-01 знак овен Гороскоп:</td>\n    </tr>\n    <tr>\n      <th>1</th>\n      <td>телец</td>\n      <td>2004-01-01</td>\n      <td>1</td>\n      <td>1</td>\n      <td>3</td>\n      <td>Четверг</td>\n      <td>Первый день нового года прекрасно подходит для...</td>\n      <td>01-01</td>\n      <td>&lt;s&gt; день 01-01 знак телец Гороскоп:</td>\n    </tr>\n    <tr>\n      <th>2</th>\n      <td>близнецы</td>\n      <td>2004-01-01</td>\n      <td>1</td>\n      <td>1</td>\n      <td>3</td>\n      <td>Четверг</td>\n      <td>Этот день как нельзя лучше подходит для улучше...</td>\n      <td>01-01</td>\n      <td>&lt;s&gt; день 01-01 знак близнецы Гороскоп:</td>\n    </tr>\n    <tr>\n      <th>3</th>\n      <td>рак</td>\n      <td>2004-01-01</td>\n      <td>1</td>\n      <td>1</td>\n      <td>3</td>\n      <td>Четверг</td>\n      <td>Первый день нового года, да еще понедельник бу...</td>\n      <td>01-01</td>\n      <td>&lt;s&gt; день 01-01 знак рак Гороскоп:</td>\n    </tr>\n    <tr>\n      <th>4</th>\n      <td>лев</td>\n      <td>2004-01-01</td>\n      <td>1</td>\n      <td>1</td>\n      <td>3</td>\n      <td>Четверг</td>\n      <td>Львы не сорвутся в начале года с места в карье...</td>\n      <td>01-01</td>\n      <td>&lt;s&gt; день 01-01 знак лев Гороскоп:</td>\n    </tr>\n    <tr>\n      <th>...</th>\n      <td>...</td>\n      <td>...</td>\n      <td>...</td>\n      <td>...</td>\n      <td>...</td>\n      <td>...</td>\n      <td>...</td>\n      <td>...</td>\n      <td>...</td>\n    </tr>\n    <tr>\n      <th>79291</th>\n      <td>скорпион</td>\n      <td>2023-01-01</td>\n      <td>1</td>\n      <td>1</td>\n      <td>6</td>\n      <td>Воскресенье</td>\n      <td>Сегодня Скорпионов поглотит новогодняя суета –...</td>\n      <td>01-01</td>\n      <td>&lt;s&gt; день 01-01 знак скорпион Гороскоп:</td>\n    </tr>\n    <tr>\n      <th>79292</th>\n      <td>стрелец</td>\n      <td>2023-01-01</td>\n      <td>1</td>\n      <td>1</td>\n      <td>6</td>\n      <td>Воскресенье</td>\n      <td>Сегодня у Стрельцов не все идет по плану, и, в...</td>\n      <td>01-01</td>\n      <td>&lt;s&gt; день 01-01 знак стрелец Гороскоп:</td>\n    </tr>\n    <tr>\n      <th>79293</th>\n      <td>козерог</td>\n      <td>2023-01-01</td>\n      <td>1</td>\n      <td>1</td>\n      <td>6</td>\n      <td>Воскресенье</td>\n      <td>Сегодня Козерогам стоит быть во всем осторожне...</td>\n      <td>01-01</td>\n      <td>&lt;s&gt; день 01-01 знак козерог Гороскоп:</td>\n    </tr>\n    <tr>\n      <th>79294</th>\n      <td>водолей</td>\n      <td>2023-01-01</td>\n      <td>1</td>\n      <td>1</td>\n      <td>6</td>\n      <td>Воскресенье</td>\n      <td>Сегодня Водолеям придется подстраиваться под о...</td>\n      <td>01-01</td>\n      <td>&lt;s&gt; день 01-01 знак водолей Гороскоп:</td>\n    </tr>\n    <tr>\n      <th>79295</th>\n      <td>рыбы</td>\n      <td>2023-01-01</td>\n      <td>1</td>\n      <td>1</td>\n      <td>6</td>\n      <td>Воскресенье</td>\n      <td>Сегодня Рыбам не стоит ждать от окружающих мно...</td>\n      <td>01-01</td>\n      <td>&lt;s&gt; день 01-01 знак рыбы Гороскоп:</td>\n    </tr>\n  </tbody>\n</table>\n<p>79296 rows × 9 columns</p>\n</div>"
     },
     "execution_count": 8,
     "metadata": {},
     "output_type": "execute_result"
    }
   ],
   "source": [
    "df['features'] = df[['date_fmt', 'sing_ru']].apply(lambda x: make_prompt(x[0], x[1]), axis=1)\n",
    "df"
   ],
   "metadata": {
    "collapsed": false,
    "ExecuteTime": {
     "end_time": "2023-05-07T20:04:51.571541Z",
     "start_time": "2023-05-07T20:04:51.342660Z"
    }
   }
  },
  {
   "cell_type": "code",
   "execution_count": 9,
   "outputs": [
    {
     "data": {
      "text/plain": "        sing_ru       date  month  day  weekday   weekday_ru   \n0          овен 2004-01-01      1    1        3      Четверг  \\\n1         телец 2004-01-01      1    1        3      Четверг   \n2      близнецы 2004-01-01      1    1        3      Четверг   \n3           рак 2004-01-01      1    1        3      Четверг   \n4           лев 2004-01-01      1    1        3      Четверг   \n...         ...        ...    ...  ...      ...          ...   \n79291  скорпион 2023-01-01      1    1        6  Воскресенье   \n79292   стрелец 2023-01-01      1    1        6  Воскресенье   \n79293   козерог 2023-01-01      1    1        6  Воскресенье   \n79294   водолей 2023-01-01      1    1        6  Воскресенье   \n79295      рыбы 2023-01-01      1    1        6  Воскресенье   \n\n                                                    text date_fmt   \n0      Любые разногласия во мнениях скоро улягутся, а...    01-01  \\\n1      Первый день нового года прекрасно подходит для...    01-01   \n2      Этот день как нельзя лучше подходит для улучше...    01-01   \n3      Первый день нового года, да еще понедельник бу...    01-01   \n4      Львы не сорвутся в начале года с места в карье...    01-01   \n...                                                  ...      ...   \n79291  Сегодня Скорпионов поглотит новогодняя суета –...    01-01   \n79292  Сегодня у Стрельцов не все идет по плану, и, в...    01-01   \n79293  Сегодня Козерогам стоит быть во всем осторожне...    01-01   \n79294  Сегодня Водолеям придется подстраиваться под о...    01-01   \n79295  Сегодня Рыбам не стоит ждать от окружающих мно...    01-01   \n\n                                      features   \n0          <s> день 01-01 знак овен Гороскоп:   \\\n1         <s> день 01-01 знак телец Гороскоп:    \n2      <s> день 01-01 знак близнецы Гороскоп:    \n3           <s> день 01-01 знак рак Гороскоп:    \n4           <s> день 01-01 знак лев Гороскоп:    \n...                                        ...   \n79291  <s> день 01-01 знак скорпион Гороскоп:    \n79292   <s> день 01-01 знак стрелец Гороскоп:    \n79293   <s> день 01-01 знак козерог Гороскоп:    \n79294   <s> день 01-01 знак водолей Гороскоп:    \n79295      <s> день 01-01 знак рыбы Гороскоп:    \n\n                                                    full  \n0      <s> день 01-01 знак овен Гороскоп: Любые разно...  \n1      <s> день 01-01 знак телец Гороскоп: Первый ден...  \n2      <s> день 01-01 знак близнецы Гороскоп: Этот де...  \n3      <s> день 01-01 знак рак Гороскоп: Первый день ...  \n4      <s> день 01-01 знак лев Гороскоп: Львы не сорв...  \n...                                                  ...  \n79291  <s> день 01-01 знак скорпион Гороскоп: Сегодня...  \n79292  <s> день 01-01 знак стрелец Гороскоп: Сегодня ...  \n79293  <s> день 01-01 знак козерог Гороскоп: Сегодня ...  \n79294  <s> день 01-01 знак водолей Гороскоп: Сегодня ...  \n79295  <s> день 01-01 знак рыбы Гороскоп: Сегодня Рыб...  \n\n[79296 rows x 10 columns]",
      "text/html": "<div>\n<style scoped>\n    .dataframe tbody tr th:only-of-type {\n        vertical-align: middle;\n    }\n\n    .dataframe tbody tr th {\n        vertical-align: top;\n    }\n\n    .dataframe thead th {\n        text-align: right;\n    }\n</style>\n<table border=\"1\" class=\"dataframe\">\n  <thead>\n    <tr style=\"text-align: right;\">\n      <th></th>\n      <th>sing_ru</th>\n      <th>date</th>\n      <th>month</th>\n      <th>day</th>\n      <th>weekday</th>\n      <th>weekday_ru</th>\n      <th>text</th>\n      <th>date_fmt</th>\n      <th>features</th>\n      <th>full</th>\n    </tr>\n  </thead>\n  <tbody>\n    <tr>\n      <th>0</th>\n      <td>овен</td>\n      <td>2004-01-01</td>\n      <td>1</td>\n      <td>1</td>\n      <td>3</td>\n      <td>Четверг</td>\n      <td>Любые разногласия во мнениях скоро улягутся, а...</td>\n      <td>01-01</td>\n      <td>&lt;s&gt; день 01-01 знак овен Гороскоп:</td>\n      <td>&lt;s&gt; день 01-01 знак овен Гороскоп: Любые разно...</td>\n    </tr>\n    <tr>\n      <th>1</th>\n      <td>телец</td>\n      <td>2004-01-01</td>\n      <td>1</td>\n      <td>1</td>\n      <td>3</td>\n      <td>Четверг</td>\n      <td>Первый день нового года прекрасно подходит для...</td>\n      <td>01-01</td>\n      <td>&lt;s&gt; день 01-01 знак телец Гороскоп:</td>\n      <td>&lt;s&gt; день 01-01 знак телец Гороскоп: Первый ден...</td>\n    </tr>\n    <tr>\n      <th>2</th>\n      <td>близнецы</td>\n      <td>2004-01-01</td>\n      <td>1</td>\n      <td>1</td>\n      <td>3</td>\n      <td>Четверг</td>\n      <td>Этот день как нельзя лучше подходит для улучше...</td>\n      <td>01-01</td>\n      <td>&lt;s&gt; день 01-01 знак близнецы Гороскоп:</td>\n      <td>&lt;s&gt; день 01-01 знак близнецы Гороскоп: Этот де...</td>\n    </tr>\n    <tr>\n      <th>3</th>\n      <td>рак</td>\n      <td>2004-01-01</td>\n      <td>1</td>\n      <td>1</td>\n      <td>3</td>\n      <td>Четверг</td>\n      <td>Первый день нового года, да еще понедельник бу...</td>\n      <td>01-01</td>\n      <td>&lt;s&gt; день 01-01 знак рак Гороскоп:</td>\n      <td>&lt;s&gt; день 01-01 знак рак Гороскоп: Первый день ...</td>\n    </tr>\n    <tr>\n      <th>4</th>\n      <td>лев</td>\n      <td>2004-01-01</td>\n      <td>1</td>\n      <td>1</td>\n      <td>3</td>\n      <td>Четверг</td>\n      <td>Львы не сорвутся в начале года с места в карье...</td>\n      <td>01-01</td>\n      <td>&lt;s&gt; день 01-01 знак лев Гороскоп:</td>\n      <td>&lt;s&gt; день 01-01 знак лев Гороскоп: Львы не сорв...</td>\n    </tr>\n    <tr>\n      <th>...</th>\n      <td>...</td>\n      <td>...</td>\n      <td>...</td>\n      <td>...</td>\n      <td>...</td>\n      <td>...</td>\n      <td>...</td>\n      <td>...</td>\n      <td>...</td>\n      <td>...</td>\n    </tr>\n    <tr>\n      <th>79291</th>\n      <td>скорпион</td>\n      <td>2023-01-01</td>\n      <td>1</td>\n      <td>1</td>\n      <td>6</td>\n      <td>Воскресенье</td>\n      <td>Сегодня Скорпионов поглотит новогодняя суета –...</td>\n      <td>01-01</td>\n      <td>&lt;s&gt; день 01-01 знак скорпион Гороскоп:</td>\n      <td>&lt;s&gt; день 01-01 знак скорпион Гороскоп: Сегодня...</td>\n    </tr>\n    <tr>\n      <th>79292</th>\n      <td>стрелец</td>\n      <td>2023-01-01</td>\n      <td>1</td>\n      <td>1</td>\n      <td>6</td>\n      <td>Воскресенье</td>\n      <td>Сегодня у Стрельцов не все идет по плану, и, в...</td>\n      <td>01-01</td>\n      <td>&lt;s&gt; день 01-01 знак стрелец Гороскоп:</td>\n      <td>&lt;s&gt; день 01-01 знак стрелец Гороскоп: Сегодня ...</td>\n    </tr>\n    <tr>\n      <th>79293</th>\n      <td>козерог</td>\n      <td>2023-01-01</td>\n      <td>1</td>\n      <td>1</td>\n      <td>6</td>\n      <td>Воскресенье</td>\n      <td>Сегодня Козерогам стоит быть во всем осторожне...</td>\n      <td>01-01</td>\n      <td>&lt;s&gt; день 01-01 знак козерог Гороскоп:</td>\n      <td>&lt;s&gt; день 01-01 знак козерог Гороскоп: Сегодня ...</td>\n    </tr>\n    <tr>\n      <th>79294</th>\n      <td>водолей</td>\n      <td>2023-01-01</td>\n      <td>1</td>\n      <td>1</td>\n      <td>6</td>\n      <td>Воскресенье</td>\n      <td>Сегодня Водолеям придется подстраиваться под о...</td>\n      <td>01-01</td>\n      <td>&lt;s&gt; день 01-01 знак водолей Гороскоп:</td>\n      <td>&lt;s&gt; день 01-01 знак водолей Гороскоп: Сегодня ...</td>\n    </tr>\n    <tr>\n      <th>79295</th>\n      <td>рыбы</td>\n      <td>2023-01-01</td>\n      <td>1</td>\n      <td>1</td>\n      <td>6</td>\n      <td>Воскресенье</td>\n      <td>Сегодня Рыбам не стоит ждать от окружающих мно...</td>\n      <td>01-01</td>\n      <td>&lt;s&gt; день 01-01 знак рыбы Гороскоп:</td>\n      <td>&lt;s&gt; день 01-01 знак рыбы Гороскоп: Сегодня Рыб...</td>\n    </tr>\n  </tbody>\n</table>\n<p>79296 rows × 10 columns</p>\n</div>"
     },
     "execution_count": 9,
     "metadata": {},
     "output_type": "execute_result"
    }
   ],
   "source": [
    "df['full'] = df[['date_fmt', 'sing_ru', 'text']].apply(lambda x: make_full_prompt(x[0], x[1], x[2]), axis=1)\n",
    "df"
   ],
   "metadata": {
    "collapsed": false,
    "ExecuteTime": {
     "end_time": "2023-05-07T20:04:52.559787Z",
     "start_time": "2023-05-07T20:04:52.210755Z"
    }
   }
  },
  {
   "cell_type": "code",
   "execution_count": 10,
   "outputs": [],
   "source": [
    "from sklearn.model_selection import train_test_split\n",
    "\n",
    "X_train, X_test = train_test_split(df, random_state=42, stratify=df['features'] , test_size=0.2)"
   ],
   "metadata": {
    "collapsed": false,
    "ExecuteTime": {
     "end_time": "2023-05-07T20:04:53.622933Z",
     "start_time": "2023-05-07T20:04:53.157528Z"
    }
   }
  },
  {
   "cell_type": "code",
   "execution_count": 11,
   "outputs": [],
   "source": [
    "train_texts = X_train['full']\n",
    "valid_texts = X_test['full']"
   ],
   "metadata": {
    "collapsed": false,
    "ExecuteTime": {
     "end_time": "2023-05-07T20:04:53.882880Z",
     "start_time": "2023-05-07T20:04:53.873651Z"
    }
   }
  },
  {
   "cell_type": "code",
   "execution_count": 12,
   "outputs": [],
   "source": [
    "with open('train.txt', 'w') as f:\n",
    "    for t in train_texts:\n",
    "        f.write(t + '\\n')"
   ],
   "metadata": {
    "collapsed": false,
    "ExecuteTime": {
     "end_time": "2023-05-07T20:05:42.088745Z",
     "start_time": "2023-05-07T20:05:41.878441Z"
    }
   }
  },
  {
   "cell_type": "code",
   "execution_count": 13,
   "outputs": [],
   "source": [
    "with open('valid.txt', 'w') as f:\n",
    "    for t in valid_texts:\n",
    "        f.write(t + '\\n')"
   ],
   "metadata": {
    "collapsed": false,
    "ExecuteTime": {
     "end_time": "2023-05-07T20:05:42.222749Z",
     "start_time": "2023-05-07T20:05:42.171891Z"
    }
   }
  },
  {
   "cell_type": "code",
   "execution_count": null,
   "outputs": [],
   "source": [],
   "metadata": {
    "collapsed": false
   }
  }
 ],
 "metadata": {
  "kernelspec": {
   "display_name": "Python 3",
   "language": "python",
   "name": "python3"
  },
  "language_info": {
   "codemirror_mode": {
    "name": "ipython",
    "version": 2
   },
   "file_extension": ".py",
   "mimetype": "text/x-python",
   "name": "python",
   "nbconvert_exporter": "python",
   "pygments_lexer": "ipython2",
   "version": "2.7.6"
  }
 },
 "nbformat": 4,
 "nbformat_minor": 0
}
