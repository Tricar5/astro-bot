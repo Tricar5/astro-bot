{
 "cells": [
  {
   "cell_type": "markdown",
   "source": [
    "# Подготовка данных"
   ],
   "metadata": {
    "collapsed": false
   }
  },
  {
   "cell_type": "raw",
   "source": [
    "import os\n",
    "import pathlib\n",
    "\n",
    "ROOT = pathlib.Path().resolve().parent\n",
    "\n",
    "os.chdir(ROOT)"
   ],
   "metadata": {
    "collapsed": false
   }
  },
  {
   "cell_type": "code",
   "execution_count": 1,
   "outputs": [],
   "source": [
    "import pandas as pd\n",
    "import numpy as np\n",
    "import pathlib\n",
    "import sys\n",
    "\n",
    "ROOT = pathlib.Path().resolve().parent\n",
    "\n",
    "sys.path.insert(0, str(ROOT))\n",
    "\n",
    "df = pd.read_csv(ROOT / 'data/dataset.csv', sep='\\t')"
   ],
   "metadata": {
    "collapsed": false,
    "ExecuteTime": {
     "end_time": "2023-05-04T18:57:26.658402Z",
     "start_time": "2023-05-04T18:57:25.952853Z"
    }
   }
  },
  {
   "cell_type": "markdown",
   "source": [],
   "metadata": {
    "collapsed": false
   }
  },
  {
   "cell_type": "markdown",
   "source": [
    "## Transformers\n",
    "\n",
    "Есть пример похожей работы на transformers [ссылка](https://huggingface.co/shahp7575/gpt2-horoscopes)\n",
    "\n",
    "\n",
    "**Для работы модели текстовой генерации необходимо несколько вещей:**\n",
    "\n",
    "1. Предобученная модель на массиве текстов\n",
    "2. Адекватный векторный промт - то, что модель будет продолжать\n",
    "\n",
    "В качестве фичеров для такой маски мы предлагаем использовать следующий подход:\n",
    "\n",
    "`<Категория> {Категория} <День недели>`\n"
   ],
   "metadata": {
    "collapsed": false
   }
  },
  {
   "cell_type": "code",
   "execution_count": 4,
   "outputs": [],
   "source": [
    "import os\n",
    "from horoscoper.config import settings\n",
    "import subprocess\n",
    "import h5py\n",
    "import numpy as np\n",
    "import pandas as pd\n",
    "from tqdm.auto import tqdm\n",
    "from transformers import GPT2Tokenizer\n",
    "\n",
    "# load model and tokenizer\n",
    "tokenizer = GPT2Tokenizer.from_pretrained(settings.MODEL_NAME)"
   ],
   "metadata": {
    "collapsed": false,
    "ExecuteTime": {
     "end_time": "2023-05-04T18:57:40.142243Z",
     "start_time": "2023-05-04T18:57:38.872498Z"
    }
   }
  },
  {
   "cell_type": "code",
   "execution_count": 5,
   "outputs": [],
   "source": [
    "def make_prompt(category, sign):\n",
    "    return f\"<категория> {category} <знак> {sign}\"\n",
    "\n",
    "def make_full_prompt(category, sign, text):\n",
    "    return make_prompt(category, sign) + f\" <гороскоп>: {text}\""
   ],
   "metadata": {
    "collapsed": false,
    "ExecuteTime": {
     "end_time": "2023-05-04T18:57:40.373153Z",
     "start_time": "2023-05-04T18:57:40.366015Z"
    }
   }
  },
  {
   "cell_type": "code",
   "execution_count": 6,
   "outputs": [
    {
     "data": {
      "text/plain": "'<категория> Общее <знак> Рыбы <гороскоп>: '"
     },
     "execution_count": 6,
     "metadata": {},
     "output_type": "execute_result"
    }
   ],
   "source": [
    "make_full_prompt(\"Общее\", \"Рыбы\", \"\")"
   ],
   "metadata": {
    "collapsed": false,
    "ExecuteTime": {
     "end_time": "2023-05-04T18:57:42.212757Z",
     "start_time": "2023-05-04T18:57:42.206113Z"
    }
   }
  },
  {
   "cell_type": "code",
   "execution_count": 24,
   "outputs": [
    {
     "data": {
      "text/plain": "      category_ru sing_ru        date  month  day  weekday   \n0           общее    овен  2013-01-12      1   12        5  \\\n1           общее    овен  2013-01-12      1   12        5   \n2           общее    овен  2013-01-12      1   12        5   \n3           общее    овен  2013-01-12      1   12        5   \n4           общее    овен  2013-01-12      1   12        5   \n...           ...     ...         ...    ...  ...      ...   \n34916          др    рыбы  2021-01-12      1   12        1   \n34917          др    рыбы  2021-01-13      1   13        2   \n34918          др    рыбы  2021-01-14      1   14        3   \n34919          др    рыбы  2021-01-15      1   15        4   \n34920          др    рыбы  2021-01-16      1   16        5   \n\n                                                 text_ru   \n0       Вы не из тех, кто перестраховывается, и даже ...  \\\n1       Не бывает чего-то даром, и если вы не совсем ...   \n2       Когда новолуние попадает в одну из самых аван...   \n3       Сегодня вы услышите нечто удивительное, но мо...   \n4      Друг или коллега, которого вы давно не видели,...   \n...                                                  ...   \n34916  Стильно отпразднуйте свой день рождения, чтобы...   \n34917  Представьте свою жизнь так, как если бы она бы...   \n34918  Веселье, игривость и юмор легко проявятся в эт...   \n34919  Ваш день рождения дает вам новое начало, когда...   \n34920  Вам, вероятно, понравится быть в центре вниман...   \n\n                            features  \n0      <категория> общее <знак> овен  \n1      <категория> общее <знак> овен  \n2      <категория> общее <знак> овен  \n3      <категория> общее <знак> овен  \n4      <категория> общее <знак> овен  \n...                              ...  \n34916     <категория> др <знак> рыбы  \n34917     <категория> др <знак> рыбы  \n34918     <категория> др <знак> рыбы  \n34919     <категория> др <знак> рыбы  \n34920     <категория> др <знак> рыбы  \n\n[34921 rows x 8 columns]",
      "text/html": "<div>\n<style scoped>\n    .dataframe tbody tr th:only-of-type {\n        vertical-align: middle;\n    }\n\n    .dataframe tbody tr th {\n        vertical-align: top;\n    }\n\n    .dataframe thead th {\n        text-align: right;\n    }\n</style>\n<table border=\"1\" class=\"dataframe\">\n  <thead>\n    <tr style=\"text-align: right;\">\n      <th></th>\n      <th>category_ru</th>\n      <th>sing_ru</th>\n      <th>date</th>\n      <th>month</th>\n      <th>day</th>\n      <th>weekday</th>\n      <th>text_ru</th>\n      <th>features</th>\n    </tr>\n  </thead>\n  <tbody>\n    <tr>\n      <th>0</th>\n      <td>общее</td>\n      <td>овен</td>\n      <td>2013-01-12</td>\n      <td>1</td>\n      <td>12</td>\n      <td>5</td>\n      <td>Вы не из тех, кто перестраховывается, и даже ...</td>\n      <td>&lt;категория&gt; общее &lt;знак&gt; овен</td>\n    </tr>\n    <tr>\n      <th>1</th>\n      <td>общее</td>\n      <td>овен</td>\n      <td>2013-01-12</td>\n      <td>1</td>\n      <td>12</td>\n      <td>5</td>\n      <td>Не бывает чего-то даром, и если вы не совсем ...</td>\n      <td>&lt;категория&gt; общее &lt;знак&gt; овен</td>\n    </tr>\n    <tr>\n      <th>2</th>\n      <td>общее</td>\n      <td>овен</td>\n      <td>2013-01-12</td>\n      <td>1</td>\n      <td>12</td>\n      <td>5</td>\n      <td>Когда новолуние попадает в одну из самых аван...</td>\n      <td>&lt;категория&gt; общее &lt;знак&gt; овен</td>\n    </tr>\n    <tr>\n      <th>3</th>\n      <td>общее</td>\n      <td>овен</td>\n      <td>2013-01-12</td>\n      <td>1</td>\n      <td>12</td>\n      <td>5</td>\n      <td>Сегодня вы услышите нечто удивительное, но мо...</td>\n      <td>&lt;категория&gt; общее &lt;знак&gt; овен</td>\n    </tr>\n    <tr>\n      <th>4</th>\n      <td>общее</td>\n      <td>овен</td>\n      <td>2013-01-12</td>\n      <td>1</td>\n      <td>12</td>\n      <td>5</td>\n      <td>Друг или коллега, которого вы давно не видели,...</td>\n      <td>&lt;категория&gt; общее &lt;знак&gt; овен</td>\n    </tr>\n    <tr>\n      <th>...</th>\n      <td>...</td>\n      <td>...</td>\n      <td>...</td>\n      <td>...</td>\n      <td>...</td>\n      <td>...</td>\n      <td>...</td>\n      <td>...</td>\n    </tr>\n    <tr>\n      <th>34916</th>\n      <td>др</td>\n      <td>рыбы</td>\n      <td>2021-01-12</td>\n      <td>1</td>\n      <td>12</td>\n      <td>1</td>\n      <td>Стильно отпразднуйте свой день рождения, чтобы...</td>\n      <td>&lt;категория&gt; др &lt;знак&gt; рыбы</td>\n    </tr>\n    <tr>\n      <th>34917</th>\n      <td>др</td>\n      <td>рыбы</td>\n      <td>2021-01-13</td>\n      <td>1</td>\n      <td>13</td>\n      <td>2</td>\n      <td>Представьте свою жизнь так, как если бы она бы...</td>\n      <td>&lt;категория&gt; др &lt;знак&gt; рыбы</td>\n    </tr>\n    <tr>\n      <th>34918</th>\n      <td>др</td>\n      <td>рыбы</td>\n      <td>2021-01-14</td>\n      <td>1</td>\n      <td>14</td>\n      <td>3</td>\n      <td>Веселье, игривость и юмор легко проявятся в эт...</td>\n      <td>&lt;категория&gt; др &lt;знак&gt; рыбы</td>\n    </tr>\n    <tr>\n      <th>34919</th>\n      <td>др</td>\n      <td>рыбы</td>\n      <td>2021-01-15</td>\n      <td>1</td>\n      <td>15</td>\n      <td>4</td>\n      <td>Ваш день рождения дает вам новое начало, когда...</td>\n      <td>&lt;категория&gt; др &lt;знак&gt; рыбы</td>\n    </tr>\n    <tr>\n      <th>34920</th>\n      <td>др</td>\n      <td>рыбы</td>\n      <td>2021-01-16</td>\n      <td>1</td>\n      <td>16</td>\n      <td>5</td>\n      <td>Вам, вероятно, понравится быть в центре вниман...</td>\n      <td>&lt;категория&gt; др &lt;знак&gt; рыбы</td>\n    </tr>\n  </tbody>\n</table>\n<p>34921 rows × 8 columns</p>\n</div>"
     },
     "execution_count": 24,
     "metadata": {},
     "output_type": "execute_result"
    }
   ],
   "source": [
    "df['features'] = df[['category_ru', 'sing_ru']].apply(lambda x: make_prompt(x[0], x[1]), axis=1)\n",
    "df"
   ],
   "metadata": {
    "collapsed": false,
    "ExecuteTime": {
     "end_time": "2023-05-03T20:57:05.817604Z",
     "start_time": "2023-05-03T20:57:05.739008Z"
    }
   }
  },
  {
   "cell_type": "code",
   "execution_count": 27,
   "outputs": [
    {
     "data": {
      "text/plain": "      category_ru sing_ru        date  month  day  weekday   \n0           общее    овен  2013-01-12      1   12        5  \\\n1           общее    овен  2013-01-12      1   12        5   \n2           общее    овен  2013-01-12      1   12        5   \n3           общее    овен  2013-01-12      1   12        5   \n4           общее    овен  2013-01-12      1   12        5   \n...           ...     ...         ...    ...  ...      ...   \n34916          др    рыбы  2021-01-12      1   12        1   \n34917          др    рыбы  2021-01-13      1   13        2   \n34918          др    рыбы  2021-01-14      1   14        3   \n34919          др    рыбы  2021-01-15      1   15        4   \n34920          др    рыбы  2021-01-16      1   16        5   \n\n                                                 text_ru   \n0       Вы не из тех, кто перестраховывается, и даже ...  \\\n1       Не бывает чего-то даром, и если вы не совсем ...   \n2       Когда новолуние попадает в одну из самых аван...   \n3       Сегодня вы услышите нечто удивительное, но мо...   \n4      Друг или коллега, которого вы давно не видели,...   \n...                                                  ...   \n34916  Стильно отпразднуйте свой день рождения, чтобы...   \n34917  Представьте свою жизнь так, как если бы она бы...   \n34918  Веселье, игривость и юмор легко проявятся в эт...   \n34919  Ваш день рождения дает вам новое начало, когда...   \n34920  Вам, вероятно, понравится быть в центре вниман...   \n\n                            features   \n0      <категория> общее <знак> овен  \\\n1      <категория> общее <знак> овен   \n2      <категория> общее <знак> овен   \n3      <категория> общее <знак> овен   \n4      <категория> общее <знак> овен   \n...                              ...   \n34916     <категория> др <знак> рыбы   \n34917     <категория> др <знак> рыбы   \n34918     <категория> др <знак> рыбы   \n34919     <категория> др <знак> рыбы   \n34920     <категория> др <знак> рыбы   \n\n                                                    full  \n0      <категория> общее <знак> овен <гороскоп>:  Вы ...  \n1      <категория> общее <знак> овен <гороскоп>:  Не ...  \n2      <категория> общее <знак> овен <гороскоп>:  Ког...  \n3      <категория> общее <знак> овен <гороскоп>:  Сег...  \n4      <категория> общее <знак> овен <гороскоп>: Друг...  \n...                                                  ...  \n34916  <категория> др <знак> рыбы <гороскоп>: Стильно...  \n34917  <категория> др <знак> рыбы <гороскоп>: Предста...  \n34918  <категория> др <знак> рыбы <гороскоп>: Веселье...  \n34919  <категория> др <знак> рыбы <гороскоп>: Ваш ден...  \n34920  <категория> др <знак> рыбы <гороскоп>: Вам, ве...  \n\n[34921 rows x 9 columns]",
      "text/html": "<div>\n<style scoped>\n    .dataframe tbody tr th:only-of-type {\n        vertical-align: middle;\n    }\n\n    .dataframe tbody tr th {\n        vertical-align: top;\n    }\n\n    .dataframe thead th {\n        text-align: right;\n    }\n</style>\n<table border=\"1\" class=\"dataframe\">\n  <thead>\n    <tr style=\"text-align: right;\">\n      <th></th>\n      <th>category_ru</th>\n      <th>sing_ru</th>\n      <th>date</th>\n      <th>month</th>\n      <th>day</th>\n      <th>weekday</th>\n      <th>text_ru</th>\n      <th>features</th>\n      <th>full</th>\n    </tr>\n  </thead>\n  <tbody>\n    <tr>\n      <th>0</th>\n      <td>общее</td>\n      <td>овен</td>\n      <td>2013-01-12</td>\n      <td>1</td>\n      <td>12</td>\n      <td>5</td>\n      <td>Вы не из тех, кто перестраховывается, и даже ...</td>\n      <td>&lt;категория&gt; общее &lt;знак&gt; овен</td>\n      <td>&lt;категория&gt; общее &lt;знак&gt; овен &lt;гороскоп&gt;:  Вы ...</td>\n    </tr>\n    <tr>\n      <th>1</th>\n      <td>общее</td>\n      <td>овен</td>\n      <td>2013-01-12</td>\n      <td>1</td>\n      <td>12</td>\n      <td>5</td>\n      <td>Не бывает чего-то даром, и если вы не совсем ...</td>\n      <td>&lt;категория&gt; общее &lt;знак&gt; овен</td>\n      <td>&lt;категория&gt; общее &lt;знак&gt; овен &lt;гороскоп&gt;:  Не ...</td>\n    </tr>\n    <tr>\n      <th>2</th>\n      <td>общее</td>\n      <td>овен</td>\n      <td>2013-01-12</td>\n      <td>1</td>\n      <td>12</td>\n      <td>5</td>\n      <td>Когда новолуние попадает в одну из самых аван...</td>\n      <td>&lt;категория&gt; общее &lt;знак&gt; овен</td>\n      <td>&lt;категория&gt; общее &lt;знак&gt; овен &lt;гороскоп&gt;:  Ког...</td>\n    </tr>\n    <tr>\n      <th>3</th>\n      <td>общее</td>\n      <td>овен</td>\n      <td>2013-01-12</td>\n      <td>1</td>\n      <td>12</td>\n      <td>5</td>\n      <td>Сегодня вы услышите нечто удивительное, но мо...</td>\n      <td>&lt;категория&gt; общее &lt;знак&gt; овен</td>\n      <td>&lt;категория&gt; общее &lt;знак&gt; овен &lt;гороскоп&gt;:  Сег...</td>\n    </tr>\n    <tr>\n      <th>4</th>\n      <td>общее</td>\n      <td>овен</td>\n      <td>2013-01-12</td>\n      <td>1</td>\n      <td>12</td>\n      <td>5</td>\n      <td>Друг или коллега, которого вы давно не видели,...</td>\n      <td>&lt;категория&gt; общее &lt;знак&gt; овен</td>\n      <td>&lt;категория&gt; общее &lt;знак&gt; овен &lt;гороскоп&gt;: Друг...</td>\n    </tr>\n    <tr>\n      <th>...</th>\n      <td>...</td>\n      <td>...</td>\n      <td>...</td>\n      <td>...</td>\n      <td>...</td>\n      <td>...</td>\n      <td>...</td>\n      <td>...</td>\n      <td>...</td>\n    </tr>\n    <tr>\n      <th>34916</th>\n      <td>др</td>\n      <td>рыбы</td>\n      <td>2021-01-12</td>\n      <td>1</td>\n      <td>12</td>\n      <td>1</td>\n      <td>Стильно отпразднуйте свой день рождения, чтобы...</td>\n      <td>&lt;категория&gt; др &lt;знак&gt; рыбы</td>\n      <td>&lt;категория&gt; др &lt;знак&gt; рыбы &lt;гороскоп&gt;: Стильно...</td>\n    </tr>\n    <tr>\n      <th>34917</th>\n      <td>др</td>\n      <td>рыбы</td>\n      <td>2021-01-13</td>\n      <td>1</td>\n      <td>13</td>\n      <td>2</td>\n      <td>Представьте свою жизнь так, как если бы она бы...</td>\n      <td>&lt;категория&gt; др &lt;знак&gt; рыбы</td>\n      <td>&lt;категория&gt; др &lt;знак&gt; рыбы &lt;гороскоп&gt;: Предста...</td>\n    </tr>\n    <tr>\n      <th>34918</th>\n      <td>др</td>\n      <td>рыбы</td>\n      <td>2021-01-14</td>\n      <td>1</td>\n      <td>14</td>\n      <td>3</td>\n      <td>Веселье, игривость и юмор легко проявятся в эт...</td>\n      <td>&lt;категория&gt; др &lt;знак&gt; рыбы</td>\n      <td>&lt;категория&gt; др &lt;знак&gt; рыбы &lt;гороскоп&gt;: Веселье...</td>\n    </tr>\n    <tr>\n      <th>34919</th>\n      <td>др</td>\n      <td>рыбы</td>\n      <td>2021-01-15</td>\n      <td>1</td>\n      <td>15</td>\n      <td>4</td>\n      <td>Ваш день рождения дает вам новое начало, когда...</td>\n      <td>&lt;категория&gt; др &lt;знак&gt; рыбы</td>\n      <td>&lt;категория&gt; др &lt;знак&gt; рыбы &lt;гороскоп&gt;: Ваш ден...</td>\n    </tr>\n    <tr>\n      <th>34920</th>\n      <td>др</td>\n      <td>рыбы</td>\n      <td>2021-01-16</td>\n      <td>1</td>\n      <td>16</td>\n      <td>5</td>\n      <td>Вам, вероятно, понравится быть в центре вниман...</td>\n      <td>&lt;категория&gt; др &lt;знак&gt; рыбы</td>\n      <td>&lt;категория&gt; др &lt;знак&gt; рыбы &lt;гороскоп&gt;: Вам, ве...</td>\n    </tr>\n  </tbody>\n</table>\n<p>34921 rows × 9 columns</p>\n</div>"
     },
     "execution_count": 27,
     "metadata": {},
     "output_type": "execute_result"
    }
   ],
   "source": [
    "df['full'] = df[['category_ru', 'sing_ru', 'text_ru']].apply(lambda x: make_full_prompt(x[0], x[1], x[2]), axis=1)\n",
    "df"
   ],
   "metadata": {
    "collapsed": false,
    "ExecuteTime": {
     "end_time": "2023-05-03T20:57:25.456279Z",
     "start_time": "2023-05-03T20:57:25.364637Z"
    }
   }
  },
  {
   "cell_type": "code",
   "execution_count": 30,
   "outputs": [],
   "source": [
    "from sklearn.model_selection import train_test_split\n",
    "\n",
    "X_train, X_test = train_test_split(df, random_state=42, stratify=df['features'], test_size=0.25)"
   ],
   "metadata": {
    "collapsed": false,
    "ExecuteTime": {
     "end_time": "2023-05-03T20:59:20.108576Z",
     "start_time": "2023-05-03T20:59:20.048899Z"
    }
   }
  },
  {
   "cell_type": "code",
   "execution_count": 32,
   "outputs": [],
   "source": [
    "train_texts = X_train['full']\n",
    "valid_texts = X_test['full']"
   ],
   "metadata": {
    "collapsed": false,
    "ExecuteTime": {
     "end_time": "2023-05-03T20:59:43.217770Z",
     "start_time": "2023-05-03T20:59:43.213370Z"
    }
   }
  },
  {
   "cell_type": "code",
   "execution_count": 33,
   "outputs": [],
   "source": [
    "with open('train.txt', 'w') as f:\n",
    "    for t in train_texts:\n",
    "        f.write(t + '\\n')"
   ],
   "metadata": {
    "collapsed": false,
    "ExecuteTime": {
     "end_time": "2023-05-03T21:00:27.178282Z",
     "start_time": "2023-05-03T21:00:27.100831Z"
    }
   }
  },
  {
   "cell_type": "code",
   "execution_count": 34,
   "outputs": [],
   "source": [
    "with open('valid.txt', 'w') as f:\n",
    "    for t in valid_texts:\n",
    "        f.write(t + '\\n')"
   ],
   "metadata": {
    "collapsed": false,
    "ExecuteTime": {
     "end_time": "2023-05-03T21:00:48.300904Z",
     "start_time": "2023-05-03T21:00:48.274453Z"
    }
   }
  },
  {
   "cell_type": "code",
   "execution_count": null,
   "outputs": [],
   "source": [],
   "metadata": {
    "collapsed": false
   }
  }
 ],
 "metadata": {
  "kernelspec": {
   "display_name": "Python 3",
   "language": "python",
   "name": "python3"
  },
  "language_info": {
   "codemirror_mode": {
    "name": "ipython",
    "version": 2
   },
   "file_extension": ".py",
   "mimetype": "text/x-python",
   "name": "python",
   "nbconvert_exporter": "python",
   "pygments_lexer": "ipython2",
   "version": "2.7.6"
  }
 },
 "nbformat": 4,
 "nbformat_minor": 0
}
