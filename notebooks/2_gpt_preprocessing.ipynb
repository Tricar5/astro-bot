{
 "cells": [
  {
   "cell_type": "markdown",
   "source": [
    "# Подготовка данных"
   ],
   "metadata": {
    "collapsed": false
   }
  },
  {
   "cell_type": "raw",
   "source": [
    "import os\n",
    "import pathlib\n",
    "\n",
    "ROOT = pathlib.Path().resolve().parent\n",
    "\n",
    "os.chdir(ROOT)"
   ],
   "metadata": {
    "collapsed": false
   }
  },
  {
   "cell_type": "code",
   "execution_count": 44,
   "outputs": [
    {
     "data": {
      "text/plain": "      category_ru sing_ru                 date  month  day  weekday   \n0           общее    овен  2013-01-12 00:01:00      1   12        5  \\\n1           общее    овен  2013-01-12 00:02:00      1   12        5   \n2           общее    овен  2013-01-12 00:03:00      1   12        5   \n3           общее    овен  2013-01-12 00:04:00      1   12        5   \n4           общее    овен  2013-01-12 00:05:00      1   12        5   \n...           ...     ...                  ...    ...  ...      ...   \n34900          др    рыбы  2021-01-12 00:06:00      1   12        1   \n34901          др    рыбы  2021-01-13 00:06:00      1   13        2   \n34902          др    рыбы  2021-01-14 00:06:00      1   14        3   \n34903          др    рыбы  2021-01-15 00:06:00      1   15        4   \n34904          др    рыбы  2021-01-16 00:06:00      1   16        5   \n\n      weekday_ru                                            text_ru  \n0        Суббота  Вы не из тех, кто перестраховывается, и даже е...  \n1        Суббота  Не существует такого понятия, как \"что-то даро...  \n2        Суббота  Поскольку новолуние приходится на одну из наиб...  \n3        Суббота  Сегодня вы услышите что-то потрясающее, но мож...  \n4        Суббота  Друг или коллега, которого вы давно не видели,...  \n...          ...                                                ...  \n34900    Вторник  Отпразднуйте свой день рождения со вкусом, гот...  \n34901      Среда  Представьте свою жизнь так, как если бы она бы...  \n34902    Четверг  Веселье, игривость и юмор легко проявить в это...  \n34903    Пятница  Ваш день рождения - это новый старт, когда вы ...  \n34904    Суббота  Вероятно, вам понравится быть в центре внимани...  \n\n[34905 rows x 8 columns]",
      "text/html": "<div>\n<style scoped>\n    .dataframe tbody tr th:only-of-type {\n        vertical-align: middle;\n    }\n\n    .dataframe tbody tr th {\n        vertical-align: top;\n    }\n\n    .dataframe thead th {\n        text-align: right;\n    }\n</style>\n<table border=\"1\" class=\"dataframe\">\n  <thead>\n    <tr style=\"text-align: right;\">\n      <th></th>\n      <th>category_ru</th>\n      <th>sing_ru</th>\n      <th>date</th>\n      <th>month</th>\n      <th>day</th>\n      <th>weekday</th>\n      <th>weekday_ru</th>\n      <th>text_ru</th>\n    </tr>\n  </thead>\n  <tbody>\n    <tr>\n      <th>0</th>\n      <td>общее</td>\n      <td>овен</td>\n      <td>2013-01-12 00:01:00</td>\n      <td>1</td>\n      <td>12</td>\n      <td>5</td>\n      <td>Суббота</td>\n      <td>Вы не из тех, кто перестраховывается, и даже е...</td>\n    </tr>\n    <tr>\n      <th>1</th>\n      <td>общее</td>\n      <td>овен</td>\n      <td>2013-01-12 00:02:00</td>\n      <td>1</td>\n      <td>12</td>\n      <td>5</td>\n      <td>Суббота</td>\n      <td>Не существует такого понятия, как \"что-то даро...</td>\n    </tr>\n    <tr>\n      <th>2</th>\n      <td>общее</td>\n      <td>овен</td>\n      <td>2013-01-12 00:03:00</td>\n      <td>1</td>\n      <td>12</td>\n      <td>5</td>\n      <td>Суббота</td>\n      <td>Поскольку новолуние приходится на одну из наиб...</td>\n    </tr>\n    <tr>\n      <th>3</th>\n      <td>общее</td>\n      <td>овен</td>\n      <td>2013-01-12 00:04:00</td>\n      <td>1</td>\n      <td>12</td>\n      <td>5</td>\n      <td>Суббота</td>\n      <td>Сегодня вы услышите что-то потрясающее, но мож...</td>\n    </tr>\n    <tr>\n      <th>4</th>\n      <td>общее</td>\n      <td>овен</td>\n      <td>2013-01-12 00:05:00</td>\n      <td>1</td>\n      <td>12</td>\n      <td>5</td>\n      <td>Суббота</td>\n      <td>Друг или коллега, которого вы давно не видели,...</td>\n    </tr>\n    <tr>\n      <th>...</th>\n      <td>...</td>\n      <td>...</td>\n      <td>...</td>\n      <td>...</td>\n      <td>...</td>\n      <td>...</td>\n      <td>...</td>\n      <td>...</td>\n    </tr>\n    <tr>\n      <th>34900</th>\n      <td>др</td>\n      <td>рыбы</td>\n      <td>2021-01-12 00:06:00</td>\n      <td>1</td>\n      <td>12</td>\n      <td>1</td>\n      <td>Вторник</td>\n      <td>Отпразднуйте свой день рождения со вкусом, гот...</td>\n    </tr>\n    <tr>\n      <th>34901</th>\n      <td>др</td>\n      <td>рыбы</td>\n      <td>2021-01-13 00:06:00</td>\n      <td>1</td>\n      <td>13</td>\n      <td>2</td>\n      <td>Среда</td>\n      <td>Представьте свою жизнь так, как если бы она бы...</td>\n    </tr>\n    <tr>\n      <th>34902</th>\n      <td>др</td>\n      <td>рыбы</td>\n      <td>2021-01-14 00:06:00</td>\n      <td>1</td>\n      <td>14</td>\n      <td>3</td>\n      <td>Четверг</td>\n      <td>Веселье, игривость и юмор легко проявить в это...</td>\n    </tr>\n    <tr>\n      <th>34903</th>\n      <td>др</td>\n      <td>рыбы</td>\n      <td>2021-01-15 00:06:00</td>\n      <td>1</td>\n      <td>15</td>\n      <td>4</td>\n      <td>Пятница</td>\n      <td>Ваш день рождения - это новый старт, когда вы ...</td>\n    </tr>\n    <tr>\n      <th>34904</th>\n      <td>др</td>\n      <td>рыбы</td>\n      <td>2021-01-16 00:06:00</td>\n      <td>1</td>\n      <td>16</td>\n      <td>5</td>\n      <td>Суббота</td>\n      <td>Вероятно, вам понравится быть в центре внимани...</td>\n    </tr>\n  </tbody>\n</table>\n<p>34905 rows × 8 columns</p>\n</div>"
     },
     "execution_count": 44,
     "metadata": {},
     "output_type": "execute_result"
    }
   ],
   "source": [
    "import pandas as pd\n",
    "import numpy as np\n",
    "import pathlib\n",
    "import sys\n",
    "\n",
    "ROOT = pathlib.Path().resolve().parent\n",
    "\n",
    "sys.path.insert(0, str(ROOT))\n",
    "\n",
    "df = pd.read_csv(ROOT / 'data/dataset.csv', sep='\\t')\n",
    "df"
   ],
   "metadata": {
    "collapsed": false,
    "ExecuteTime": {
     "end_time": "2023-05-05T19:27:59.541543Z",
     "start_time": "2023-05-05T19:27:59.259921Z"
    }
   }
  },
  {
   "cell_type": "markdown",
   "source": [],
   "metadata": {
    "collapsed": false
   }
  },
  {
   "cell_type": "markdown",
   "source": [
    "## Transformers\n",
    "\n",
    "Есть пример похожей работы на transformers [ссылка](https://huggingface.co/shahp7575/gpt2-horoscopes)\n",
    "\n",
    "\n",
    "**Для работы модели текстовой генерации необходимо несколько вещей:**\n",
    "\n",
    "1. Предобученная модель на массиве текстов\n",
    "2. Адекватный векторный промт - то, что модель будет продолжать\n",
    "\n",
    "В качестве фичеров для такой маски мы предлагаем использовать следующий подход:\n",
    "\n",
    "`<Категория> {Категория} <День недели>`\n"
   ],
   "metadata": {
    "collapsed": false
   }
  },
  {
   "cell_type": "code",
   "execution_count": 45,
   "outputs": [],
   "source": [
    "def make_prompt(weekday, category, sign):\n",
    "    return f\"<день недели> {weekday} <категория> {category} <знак> {sign} \"\n",
    "\n",
    "def make_full_prompt(weekday, category, sign, text):\n",
    "    return make_prompt(weekday, category, sign) + f\"Гороскоп: {text}\""
   ],
   "metadata": {
    "collapsed": false,
    "ExecuteTime": {
     "end_time": "2023-05-05T19:28:00.463748Z",
     "start_time": "2023-05-05T19:28:00.455566Z"
    }
   }
  },
  {
   "cell_type": "code",
   "execution_count": 46,
   "outputs": [
    {
     "data": {
      "text/plain": "'<день недели> Пятница <категория> Общее <знак> Рыбы Гороскоп: '"
     },
     "execution_count": 46,
     "metadata": {},
     "output_type": "execute_result"
    }
   ],
   "source": [
    "make_full_prompt('Пятница', \"Общее\", \"Рыбы\", \"\")"
   ],
   "metadata": {
    "collapsed": false,
    "ExecuteTime": {
     "end_time": "2023-05-05T19:28:00.874372Z",
     "start_time": "2023-05-05T19:28:00.863439Z"
    }
   }
  },
  {
   "cell_type": "code",
   "execution_count": 47,
   "outputs": [
    {
     "data": {
      "text/plain": "      category_ru sing_ru                 date  month  day  weekday   \n0           общее    овен  2013-01-12 00:01:00      1   12        5  \\\n1           общее    овен  2013-01-12 00:02:00      1   12        5   \n2           общее    овен  2013-01-12 00:03:00      1   12        5   \n3           общее    овен  2013-01-12 00:04:00      1   12        5   \n4           общее    овен  2013-01-12 00:05:00      1   12        5   \n...           ...     ...                  ...    ...  ...      ...   \n34900          др    рыбы  2021-01-12 00:06:00      1   12        1   \n34901          др    рыбы  2021-01-13 00:06:00      1   13        2   \n34902          др    рыбы  2021-01-14 00:06:00      1   14        3   \n34903          др    рыбы  2021-01-15 00:06:00      1   15        4   \n34904          др    рыбы  2021-01-16 00:06:00      1   16        5   \n\n      weekday_ru                                            text_ru   \n0        Суббота  Вы не из тех, кто перестраховывается, и даже е...  \\\n1        Суббота  Не существует такого понятия, как \"что-то даро...   \n2        Суббота  Поскольку новолуние приходится на одну из наиб...   \n3        Суббота  Сегодня вы услышите что-то потрясающее, но мож...   \n4        Суббота  Друг или коллега, которого вы давно не видели,...   \n...          ...                                                ...   \n34900    Вторник  Отпразднуйте свой день рождения со вкусом, гот...   \n34901      Среда  Представьте свою жизнь так, как если бы она бы...   \n34902    Четверг  Веселье, игривость и юмор легко проявить в это...   \n34903    Пятница  Ваш день рождения - это новый старт, когда вы ...   \n34904    Суббота  Вероятно, вам понравится быть в центре внимани...   \n\n                                                features  \n0      <день недели> Суббота <категория> общее <знак>...  \n1      <день недели> Суббота <категория> общее <знак>...  \n2      <день недели> Суббота <категория> общее <знак>...  \n3      <день недели> Суббота <категория> общее <знак>...  \n4      <день недели> Суббота <категория> общее <знак>...  \n...                                                  ...  \n34900  <день недели> Вторник <категория> др <знак> рыбы   \n34901    <день недели> Среда <категория> др <знак> рыбы   \n34902  <день недели> Четверг <категория> др <знак> рыбы   \n34903  <день недели> Пятница <категория> др <знак> рыбы   \n34904  <день недели> Суббота <категория> др <знак> рыбы   \n\n[34905 rows x 9 columns]",
      "text/html": "<div>\n<style scoped>\n    .dataframe tbody tr th:only-of-type {\n        vertical-align: middle;\n    }\n\n    .dataframe tbody tr th {\n        vertical-align: top;\n    }\n\n    .dataframe thead th {\n        text-align: right;\n    }\n</style>\n<table border=\"1\" class=\"dataframe\">\n  <thead>\n    <tr style=\"text-align: right;\">\n      <th></th>\n      <th>category_ru</th>\n      <th>sing_ru</th>\n      <th>date</th>\n      <th>month</th>\n      <th>day</th>\n      <th>weekday</th>\n      <th>weekday_ru</th>\n      <th>text_ru</th>\n      <th>features</th>\n    </tr>\n  </thead>\n  <tbody>\n    <tr>\n      <th>0</th>\n      <td>общее</td>\n      <td>овен</td>\n      <td>2013-01-12 00:01:00</td>\n      <td>1</td>\n      <td>12</td>\n      <td>5</td>\n      <td>Суббота</td>\n      <td>Вы не из тех, кто перестраховывается, и даже е...</td>\n      <td>&lt;день недели&gt; Суббота &lt;категория&gt; общее &lt;знак&gt;...</td>\n    </tr>\n    <tr>\n      <th>1</th>\n      <td>общее</td>\n      <td>овен</td>\n      <td>2013-01-12 00:02:00</td>\n      <td>1</td>\n      <td>12</td>\n      <td>5</td>\n      <td>Суббота</td>\n      <td>Не существует такого понятия, как \"что-то даро...</td>\n      <td>&lt;день недели&gt; Суббота &lt;категория&gt; общее &lt;знак&gt;...</td>\n    </tr>\n    <tr>\n      <th>2</th>\n      <td>общее</td>\n      <td>овен</td>\n      <td>2013-01-12 00:03:00</td>\n      <td>1</td>\n      <td>12</td>\n      <td>5</td>\n      <td>Суббота</td>\n      <td>Поскольку новолуние приходится на одну из наиб...</td>\n      <td>&lt;день недели&gt; Суббота &lt;категория&gt; общее &lt;знак&gt;...</td>\n    </tr>\n    <tr>\n      <th>3</th>\n      <td>общее</td>\n      <td>овен</td>\n      <td>2013-01-12 00:04:00</td>\n      <td>1</td>\n      <td>12</td>\n      <td>5</td>\n      <td>Суббота</td>\n      <td>Сегодня вы услышите что-то потрясающее, но мож...</td>\n      <td>&lt;день недели&gt; Суббота &lt;категория&gt; общее &lt;знак&gt;...</td>\n    </tr>\n    <tr>\n      <th>4</th>\n      <td>общее</td>\n      <td>овен</td>\n      <td>2013-01-12 00:05:00</td>\n      <td>1</td>\n      <td>12</td>\n      <td>5</td>\n      <td>Суббота</td>\n      <td>Друг или коллега, которого вы давно не видели,...</td>\n      <td>&lt;день недели&gt; Суббота &lt;категория&gt; общее &lt;знак&gt;...</td>\n    </tr>\n    <tr>\n      <th>...</th>\n      <td>...</td>\n      <td>...</td>\n      <td>...</td>\n      <td>...</td>\n      <td>...</td>\n      <td>...</td>\n      <td>...</td>\n      <td>...</td>\n      <td>...</td>\n    </tr>\n    <tr>\n      <th>34900</th>\n      <td>др</td>\n      <td>рыбы</td>\n      <td>2021-01-12 00:06:00</td>\n      <td>1</td>\n      <td>12</td>\n      <td>1</td>\n      <td>Вторник</td>\n      <td>Отпразднуйте свой день рождения со вкусом, гот...</td>\n      <td>&lt;день недели&gt; Вторник &lt;категория&gt; др &lt;знак&gt; рыбы</td>\n    </tr>\n    <tr>\n      <th>34901</th>\n      <td>др</td>\n      <td>рыбы</td>\n      <td>2021-01-13 00:06:00</td>\n      <td>1</td>\n      <td>13</td>\n      <td>2</td>\n      <td>Среда</td>\n      <td>Представьте свою жизнь так, как если бы она бы...</td>\n      <td>&lt;день недели&gt; Среда &lt;категория&gt; др &lt;знак&gt; рыбы</td>\n    </tr>\n    <tr>\n      <th>34902</th>\n      <td>др</td>\n      <td>рыбы</td>\n      <td>2021-01-14 00:06:00</td>\n      <td>1</td>\n      <td>14</td>\n      <td>3</td>\n      <td>Четверг</td>\n      <td>Веселье, игривость и юмор легко проявить в это...</td>\n      <td>&lt;день недели&gt; Четверг &lt;категория&gt; др &lt;знак&gt; рыбы</td>\n    </tr>\n    <tr>\n      <th>34903</th>\n      <td>др</td>\n      <td>рыбы</td>\n      <td>2021-01-15 00:06:00</td>\n      <td>1</td>\n      <td>15</td>\n      <td>4</td>\n      <td>Пятница</td>\n      <td>Ваш день рождения - это новый старт, когда вы ...</td>\n      <td>&lt;день недели&gt; Пятница &lt;категория&gt; др &lt;знак&gt; рыбы</td>\n    </tr>\n    <tr>\n      <th>34904</th>\n      <td>др</td>\n      <td>рыбы</td>\n      <td>2021-01-16 00:06:00</td>\n      <td>1</td>\n      <td>16</td>\n      <td>5</td>\n      <td>Суббота</td>\n      <td>Вероятно, вам понравится быть в центре внимани...</td>\n      <td>&lt;день недели&gt; Суббота &lt;категория&gt; др &lt;знак&gt; рыбы</td>\n    </tr>\n  </tbody>\n</table>\n<p>34905 rows × 9 columns</p>\n</div>"
     },
     "execution_count": 47,
     "metadata": {},
     "output_type": "execute_result"
    }
   ],
   "source": [
    "df['features'] = df[['weekday_ru','category_ru', 'sing_ru']].apply(lambda x: make_prompt(x[0], x[1], x[2]), axis=1)\n",
    "df"
   ],
   "metadata": {
    "collapsed": false,
    "ExecuteTime": {
     "end_time": "2023-05-05T19:28:01.568919Z",
     "start_time": "2023-05-05T19:28:01.479096Z"
    }
   }
  },
  {
   "cell_type": "code",
   "execution_count": 48,
   "outputs": [
    {
     "data": {
      "text/plain": "      category_ru sing_ru                 date  month  day  weekday   \n0           общее    овен  2013-01-12 00:01:00      1   12        5  \\\n1           общее    овен  2013-01-12 00:02:00      1   12        5   \n2           общее    овен  2013-01-12 00:03:00      1   12        5   \n3           общее    овен  2013-01-12 00:04:00      1   12        5   \n4           общее    овен  2013-01-12 00:05:00      1   12        5   \n...           ...     ...                  ...    ...  ...      ...   \n34900          др    рыбы  2021-01-12 00:06:00      1   12        1   \n34901          др    рыбы  2021-01-13 00:06:00      1   13        2   \n34902          др    рыбы  2021-01-14 00:06:00      1   14        3   \n34903          др    рыбы  2021-01-15 00:06:00      1   15        4   \n34904          др    рыбы  2021-01-16 00:06:00      1   16        5   \n\n      weekday_ru                                            text_ru   \n0        Суббота  Вы не из тех, кто перестраховывается, и даже е...  \\\n1        Суббота  Не существует такого понятия, как \"что-то даро...   \n2        Суббота  Поскольку новолуние приходится на одну из наиб...   \n3        Суббота  Сегодня вы услышите что-то потрясающее, но мож...   \n4        Суббота  Друг или коллега, которого вы давно не видели,...   \n...          ...                                                ...   \n34900    Вторник  Отпразднуйте свой день рождения со вкусом, гот...   \n34901      Среда  Представьте свою жизнь так, как если бы она бы...   \n34902    Четверг  Веселье, игривость и юмор легко проявить в это...   \n34903    Пятница  Ваш день рождения - это новый старт, когда вы ...   \n34904    Суббота  Вероятно, вам понравится быть в центре внимани...   \n\n                                                features   \n0      <день недели> Суббота <категория> общее <знак>...  \\\n1      <день недели> Суббота <категория> общее <знак>...   \n2      <день недели> Суббота <категория> общее <знак>...   \n3      <день недели> Суббота <категория> общее <знак>...   \n4      <день недели> Суббота <категория> общее <знак>...   \n...                                                  ...   \n34900  <день недели> Вторник <категория> др <знак> рыбы    \n34901    <день недели> Среда <категория> др <знак> рыбы    \n34902  <день недели> Четверг <категория> др <знак> рыбы    \n34903  <день недели> Пятница <категория> др <знак> рыбы    \n34904  <день недели> Суббота <категория> др <знак> рыбы    \n\n                                                    full  \n0      <день недели> Суббота <категория> общее <знак>...  \n1      <день недели> Суббота <категория> общее <знак>...  \n2      <день недели> Суббота <категория> общее <знак>...  \n3      <день недели> Суббота <категория> общее <знак>...  \n4      <день недели> Суббота <категория> общее <знак>...  \n...                                                  ...  \n34900  <день недели> Вторник <категория> др <знак> ры...  \n34901  <день недели> Среда <категория> др <знак> рыбы...  \n34902  <день недели> Четверг <категория> др <знак> ры...  \n34903  <день недели> Пятница <категория> др <знак> ры...  \n34904  <день недели> Суббота <категория> др <знак> ры...  \n\n[34905 rows x 10 columns]",
      "text/html": "<div>\n<style scoped>\n    .dataframe tbody tr th:only-of-type {\n        vertical-align: middle;\n    }\n\n    .dataframe tbody tr th {\n        vertical-align: top;\n    }\n\n    .dataframe thead th {\n        text-align: right;\n    }\n</style>\n<table border=\"1\" class=\"dataframe\">\n  <thead>\n    <tr style=\"text-align: right;\">\n      <th></th>\n      <th>category_ru</th>\n      <th>sing_ru</th>\n      <th>date</th>\n      <th>month</th>\n      <th>day</th>\n      <th>weekday</th>\n      <th>weekday_ru</th>\n      <th>text_ru</th>\n      <th>features</th>\n      <th>full</th>\n    </tr>\n  </thead>\n  <tbody>\n    <tr>\n      <th>0</th>\n      <td>общее</td>\n      <td>овен</td>\n      <td>2013-01-12 00:01:00</td>\n      <td>1</td>\n      <td>12</td>\n      <td>5</td>\n      <td>Суббота</td>\n      <td>Вы не из тех, кто перестраховывается, и даже е...</td>\n      <td>&lt;день недели&gt; Суббота &lt;категория&gt; общее &lt;знак&gt;...</td>\n      <td>&lt;день недели&gt; Суббота &lt;категория&gt; общее &lt;знак&gt;...</td>\n    </tr>\n    <tr>\n      <th>1</th>\n      <td>общее</td>\n      <td>овен</td>\n      <td>2013-01-12 00:02:00</td>\n      <td>1</td>\n      <td>12</td>\n      <td>5</td>\n      <td>Суббота</td>\n      <td>Не существует такого понятия, как \"что-то даро...</td>\n      <td>&lt;день недели&gt; Суббота &lt;категория&gt; общее &lt;знак&gt;...</td>\n      <td>&lt;день недели&gt; Суббота &lt;категория&gt; общее &lt;знак&gt;...</td>\n    </tr>\n    <tr>\n      <th>2</th>\n      <td>общее</td>\n      <td>овен</td>\n      <td>2013-01-12 00:03:00</td>\n      <td>1</td>\n      <td>12</td>\n      <td>5</td>\n      <td>Суббота</td>\n      <td>Поскольку новолуние приходится на одну из наиб...</td>\n      <td>&lt;день недели&gt; Суббота &lt;категория&gt; общее &lt;знак&gt;...</td>\n      <td>&lt;день недели&gt; Суббота &lt;категория&gt; общее &lt;знак&gt;...</td>\n    </tr>\n    <tr>\n      <th>3</th>\n      <td>общее</td>\n      <td>овен</td>\n      <td>2013-01-12 00:04:00</td>\n      <td>1</td>\n      <td>12</td>\n      <td>5</td>\n      <td>Суббота</td>\n      <td>Сегодня вы услышите что-то потрясающее, но мож...</td>\n      <td>&lt;день недели&gt; Суббота &lt;категория&gt; общее &lt;знак&gt;...</td>\n      <td>&lt;день недели&gt; Суббота &lt;категория&gt; общее &lt;знак&gt;...</td>\n    </tr>\n    <tr>\n      <th>4</th>\n      <td>общее</td>\n      <td>овен</td>\n      <td>2013-01-12 00:05:00</td>\n      <td>1</td>\n      <td>12</td>\n      <td>5</td>\n      <td>Суббота</td>\n      <td>Друг или коллега, которого вы давно не видели,...</td>\n      <td>&lt;день недели&gt; Суббота &lt;категория&gt; общее &lt;знак&gt;...</td>\n      <td>&lt;день недели&gt; Суббота &lt;категория&gt; общее &lt;знак&gt;...</td>\n    </tr>\n    <tr>\n      <th>...</th>\n      <td>...</td>\n      <td>...</td>\n      <td>...</td>\n      <td>...</td>\n      <td>...</td>\n      <td>...</td>\n      <td>...</td>\n      <td>...</td>\n      <td>...</td>\n      <td>...</td>\n    </tr>\n    <tr>\n      <th>34900</th>\n      <td>др</td>\n      <td>рыбы</td>\n      <td>2021-01-12 00:06:00</td>\n      <td>1</td>\n      <td>12</td>\n      <td>1</td>\n      <td>Вторник</td>\n      <td>Отпразднуйте свой день рождения со вкусом, гот...</td>\n      <td>&lt;день недели&gt; Вторник &lt;категория&gt; др &lt;знак&gt; рыбы</td>\n      <td>&lt;день недели&gt; Вторник &lt;категория&gt; др &lt;знак&gt; ры...</td>\n    </tr>\n    <tr>\n      <th>34901</th>\n      <td>др</td>\n      <td>рыбы</td>\n      <td>2021-01-13 00:06:00</td>\n      <td>1</td>\n      <td>13</td>\n      <td>2</td>\n      <td>Среда</td>\n      <td>Представьте свою жизнь так, как если бы она бы...</td>\n      <td>&lt;день недели&gt; Среда &lt;категория&gt; др &lt;знак&gt; рыбы</td>\n      <td>&lt;день недели&gt; Среда &lt;категория&gt; др &lt;знак&gt; рыбы...</td>\n    </tr>\n    <tr>\n      <th>34902</th>\n      <td>др</td>\n      <td>рыбы</td>\n      <td>2021-01-14 00:06:00</td>\n      <td>1</td>\n      <td>14</td>\n      <td>3</td>\n      <td>Четверг</td>\n      <td>Веселье, игривость и юмор легко проявить в это...</td>\n      <td>&lt;день недели&gt; Четверг &lt;категория&gt; др &lt;знак&gt; рыбы</td>\n      <td>&lt;день недели&gt; Четверг &lt;категория&gt; др &lt;знак&gt; ры...</td>\n    </tr>\n    <tr>\n      <th>34903</th>\n      <td>др</td>\n      <td>рыбы</td>\n      <td>2021-01-15 00:06:00</td>\n      <td>1</td>\n      <td>15</td>\n      <td>4</td>\n      <td>Пятница</td>\n      <td>Ваш день рождения - это новый старт, когда вы ...</td>\n      <td>&lt;день недели&gt; Пятница &lt;категория&gt; др &lt;знак&gt; рыбы</td>\n      <td>&lt;день недели&gt; Пятница &lt;категория&gt; др &lt;знак&gt; ры...</td>\n    </tr>\n    <tr>\n      <th>34904</th>\n      <td>др</td>\n      <td>рыбы</td>\n      <td>2021-01-16 00:06:00</td>\n      <td>1</td>\n      <td>16</td>\n      <td>5</td>\n      <td>Суббота</td>\n      <td>Вероятно, вам понравится быть в центре внимани...</td>\n      <td>&lt;день недели&gt; Суббота &lt;категория&gt; др &lt;знак&gt; рыбы</td>\n      <td>&lt;день недели&gt; Суббота &lt;категория&gt; др &lt;знак&gt; ры...</td>\n    </tr>\n  </tbody>\n</table>\n<p>34905 rows × 10 columns</p>\n</div>"
     },
     "execution_count": 48,
     "metadata": {},
     "output_type": "execute_result"
    }
   ],
   "source": [
    "df['full'] = df[['weekday_ru', 'category_ru', 'sing_ru', 'text_ru']].apply(lambda x: make_full_prompt(x[0], x[1], x[2], x[3]), axis=1)\n",
    "df"
   ],
   "metadata": {
    "collapsed": false,
    "ExecuteTime": {
     "end_time": "2023-05-05T19:28:06.354522Z",
     "start_time": "2023-05-05T19:28:06.225020Z"
    }
   }
  },
  {
   "cell_type": "code",
   "execution_count": 49,
   "outputs": [],
   "source": [
    "from sklearn.model_selection import train_test_split\n",
    "\n",
    "X_train, X_test = train_test_split(df, random_state=42, stratify=df[['sing_ru', 'category_ru']] , test_size=0.2)"
   ],
   "metadata": {
    "collapsed": false,
    "ExecuteTime": {
     "end_time": "2023-05-05T19:28:07.541982Z",
     "start_time": "2023-05-05T19:28:07.452728Z"
    }
   }
  },
  {
   "cell_type": "code",
   "execution_count": 51,
   "outputs": [],
   "source": [
    "train_texts = X_train['full']\n",
    "valid_texts = X_test['full']"
   ],
   "metadata": {
    "collapsed": false,
    "ExecuteTime": {
     "end_time": "2023-05-05T19:28:19.239220Z",
     "start_time": "2023-05-05T19:28:19.229465Z"
    }
   }
  },
  {
   "cell_type": "code",
   "execution_count": 52,
   "outputs": [],
   "source": [
    "with open('train.txt', 'w') as f:\n",
    "    for t in train_texts:\n",
    "        f.write(t + '\\n')"
   ],
   "metadata": {
    "collapsed": false,
    "ExecuteTime": {
     "end_time": "2023-05-05T19:28:19.822851Z",
     "start_time": "2023-05-05T19:28:19.760364Z"
    }
   }
  },
  {
   "cell_type": "code",
   "execution_count": 53,
   "outputs": [],
   "source": [
    "with open('valid.txt', 'w') as f:\n",
    "    for t in valid_texts:\n",
    "        f.write(t + '\\n')"
   ],
   "metadata": {
    "collapsed": false,
    "ExecuteTime": {
     "end_time": "2023-05-05T19:28:20.232960Z",
     "start_time": "2023-05-05T19:28:20.215874Z"
    }
   }
  },
  {
   "cell_type": "code",
   "execution_count": null,
   "outputs": [],
   "source": [],
   "metadata": {
    "collapsed": false
   }
  }
 ],
 "metadata": {
  "kernelspec": {
   "display_name": "Python 3",
   "language": "python",
   "name": "python3"
  },
  "language_info": {
   "codemirror_mode": {
    "name": "ipython",
    "version": 2
   },
   "file_extension": ".py",
   "mimetype": "text/x-python",
   "name": "python",
   "nbconvert_exporter": "python",
   "pygments_lexer": "ipython2",
   "version": "2.7.6"
  }
 },
 "nbformat": 4,
 "nbformat_minor": 0
}
